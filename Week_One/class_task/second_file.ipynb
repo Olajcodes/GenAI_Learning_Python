{
 "cells": [
  {
   "cell_type": "code",
   "execution_count": null,
   "id": "77834b12",
   "metadata": {
    "vscode": {
     "languageId": "plaintext"
    }
   },
   "outputs": [],
   "source": [
    "print(\"Hello World! I am learning Python.\")"
   ]
  },
  {
   "cell_type": "markdown",
   "id": "7ac801a3",
   "metadata": {},
   "source": [
    "print(\"Hello World! I am learning Python.\")"
   ]
  }
 ],
 "metadata": {
  "language_info": {
   "name": "python"
  }
 },
 "nbformat": 4,
 "nbformat_minor": 5
}
