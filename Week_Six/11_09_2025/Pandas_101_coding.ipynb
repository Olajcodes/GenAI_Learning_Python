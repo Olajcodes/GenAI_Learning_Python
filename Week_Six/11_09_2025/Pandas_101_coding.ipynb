{
 "cells": [
  {
   "cell_type": "code",
   "execution_count": 2,
   "id": "f3431241",
   "metadata": {},
   "outputs": [],
   "source": [
    "import pandas as pd\n",
    "import os"
   ]
  },
  {
   "cell_type": "code",
   "execution_count": 3,
   "id": "77624a3e",
   "metadata": {},
   "outputs": [],
   "source": [
    "sales = pd.read_excel(\"Sales Data.xlsx\")"
   ]
  },
  {
   "cell_type": "code",
   "execution_count": 4,
   "id": "76bd60b3",
   "metadata": {},
   "outputs": [
    {
     "data": {
      "application/vnd.microsoft.datawrangler.viewer.v0+json": {
       "columns": [
        {
         "name": "index",
         "rawType": "int64",
         "type": "integer"
        },
        {
         "name": "Sales Person",
         "rawType": "object",
         "type": "string"
        },
        {
         "name": "Geography",
         "rawType": "object",
         "type": "string"
        },
        {
         "name": "Product",
         "rawType": "object",
         "type": "string"
        },
        {
         "name": "Date",
         "rawType": "datetime64[ns]",
         "type": "datetime"
        },
        {
         "name": "Amount",
         "rawType": "int64",
         "type": "integer"
        },
        {
         "name": "Boxes",
         "rawType": "int64",
         "type": "integer"
        }
       ],
       "ref": "5e893d9e-c79c-4495-b080-79237fac8d50",
       "rows": [
        [
         "0",
         "Barr Faughny",
         "  New Zealand",
         "Raspberry Choco",
         "2021-01-01 00:00:00",
         "8414",
         "495"
        ],
        [
         "1",
         "Dennison Crosswaite",
         "   Canada",
         "White Choc",
         "2021-01-01 00:00:00",
         "532",
         "54"
        ],
        [
         "2",
         "Karlen McCaffrey",
         "   USA",
         "99% Dark & Pure",
         "2021-01-01 00:00:00",
         "5376",
         "269"
        ]
       ],
       "shape": {
        "columns": 6,
        "rows": 3
       }
      },
      "text/html": [
       "<div>\n",
       "<style scoped>\n",
       "    .dataframe tbody tr th:only-of-type {\n",
       "        vertical-align: middle;\n",
       "    }\n",
       "\n",
       "    .dataframe tbody tr th {\n",
       "        vertical-align: top;\n",
       "    }\n",
       "\n",
       "    .dataframe thead th {\n",
       "        text-align: right;\n",
       "    }\n",
       "</style>\n",
       "<table border=\"1\" class=\"dataframe\">\n",
       "  <thead>\n",
       "    <tr style=\"text-align: right;\">\n",
       "      <th></th>\n",
       "      <th>Sales Person</th>\n",
       "      <th>Geography</th>\n",
       "      <th>Product</th>\n",
       "      <th>Date</th>\n",
       "      <th>Amount</th>\n",
       "      <th>Boxes</th>\n",
       "    </tr>\n",
       "  </thead>\n",
       "  <tbody>\n",
       "    <tr>\n",
       "      <th>0</th>\n",
       "      <td>Barr Faughny</td>\n",
       "      <td>New Zealand</td>\n",
       "      <td>Raspberry Choco</td>\n",
       "      <td>2021-01-01</td>\n",
       "      <td>8414</td>\n",
       "      <td>495</td>\n",
       "    </tr>\n",
       "    <tr>\n",
       "      <th>1</th>\n",
       "      <td>Dennison Crosswaite</td>\n",
       "      <td>Canada</td>\n",
       "      <td>White Choc</td>\n",
       "      <td>2021-01-01</td>\n",
       "      <td>532</td>\n",
       "      <td>54</td>\n",
       "    </tr>\n",
       "    <tr>\n",
       "      <th>2</th>\n",
       "      <td>Karlen McCaffrey</td>\n",
       "      <td>USA</td>\n",
       "      <td>99% Dark &amp; Pure</td>\n",
       "      <td>2021-01-01</td>\n",
       "      <td>5376</td>\n",
       "      <td>269</td>\n",
       "    </tr>\n",
       "  </tbody>\n",
       "</table>\n",
       "</div>"
      ],
      "text/plain": [
       "          Sales Person      Geography          Product       Date  Amount  \\\n",
       "0         Barr Faughny    New Zealand  Raspberry Choco 2021-01-01    8414   \n",
       "1  Dennison Crosswaite         Canada       White Choc 2021-01-01     532   \n",
       "2     Karlen McCaffrey            USA  99% Dark & Pure 2021-01-01    5376   \n",
       "\n",
       "   Boxes  \n",
       "0    495  \n",
       "1     54  \n",
       "2    269  "
      ]
     },
     "execution_count": 4,
     "metadata": {},
     "output_type": "execute_result"
    }
   ],
   "source": [
    "sales.head(3)"
   ]
  },
  {
   "cell_type": "code",
   "execution_count": 5,
   "id": "61b1ce9f",
   "metadata": {},
   "outputs": [
    {
     "data": {
      "application/vnd.microsoft.datawrangler.viewer.v0+json": {
       "columns": [
        {
         "name": "index",
         "rawType": "object",
         "type": "string"
        },
        {
         "name": "0",
         "rawType": "int64",
         "type": "integer"
        }
       ],
       "ref": "7ed8badc-d0dd-499c-8403-09e33dd05db1",
       "rows": [
        [
         "Sales Person",
         "0"
        ],
        [
         "Geography",
         "0"
        ],
        [
         "Product",
         "0"
        ],
        [
         "Date",
         "0"
        ],
        [
         "Amount",
         "0"
        ],
        [
         "Boxes",
         "0"
        ]
       ],
       "shape": {
        "columns": 1,
        "rows": 6
       }
      },
      "text/plain": [
       "Sales Person    0\n",
       "Geography       0\n",
       "Product         0\n",
       "Date            0\n",
       "Amount          0\n",
       "Boxes           0\n",
       "dtype: int64"
      ]
     },
     "execution_count": 5,
     "metadata": {},
     "output_type": "execute_result"
    }
   ],
   "source": [
    "sales.isna().sum()"
   ]
  },
  {
   "cell_type": "code",
   "execution_count": 6,
   "id": "2321ba8a",
   "metadata": {},
   "outputs": [
    {
     "data": {
      "text/plain": [
       "(3791, 6)"
      ]
     },
     "execution_count": 6,
     "metadata": {},
     "output_type": "execute_result"
    }
   ],
   "source": [
    "sales.shape"
   ]
  },
  {
   "cell_type": "code",
   "execution_count": 7,
   "id": "8799de7b",
   "metadata": {},
   "outputs": [
    {
     "data": {
      "application/vnd.microsoft.datawrangler.viewer.v0+json": {
       "columns": [
        {
         "name": "index",
         "rawType": "int64",
         "type": "integer"
        },
        {
         "name": "Sales Person",
         "rawType": "object",
         "type": "string"
        },
        {
         "name": "Geography",
         "rawType": "object",
         "type": "string"
        },
        {
         "name": "Product",
         "rawType": "object",
         "type": "string"
        },
        {
         "name": "Date",
         "rawType": "datetime64[ns]",
         "type": "datetime"
        },
        {
         "name": "Amount",
         "rawType": "int64",
         "type": "integer"
        },
        {
         "name": "Boxes",
         "rawType": "int64",
         "type": "integer"
        }
       ],
       "ref": "800cd824-68bf-4cb8-8015-1cdddfa2d1ae",
       "rows": [
        [
         "0",
         "Barr Faughny",
         "  New Zealand",
         "Raspberry Choco",
         "2021-01-01 00:00:00",
         "8414",
         "495"
        ],
        [
         "2",
         "Karlen McCaffrey",
         "   USA",
         "99% Dark & Pure",
         "2021-01-01 00:00:00",
         "5376",
         "269"
        ],
        [
         "4",
         "Beverie Moffet",
         "   USA",
         "Manuka Honey Choco",
         "2021-01-01 00:00:00",
         "5530",
         "179"
        ],
        [
         "6",
         "Oby Sorrel",
         "   UK",
         "Raspberry Choco",
         "2021-01-01 00:00:00",
         "1057",
         "71"
        ]
       ],
       "shape": {
        "columns": 6,
        "rows": 4
       }
      },
      "text/html": [
       "<div>\n",
       "<style scoped>\n",
       "    .dataframe tbody tr th:only-of-type {\n",
       "        vertical-align: middle;\n",
       "    }\n",
       "\n",
       "    .dataframe tbody tr th {\n",
       "        vertical-align: top;\n",
       "    }\n",
       "\n",
       "    .dataframe thead th {\n",
       "        text-align: right;\n",
       "    }\n",
       "</style>\n",
       "<table border=\"1\" class=\"dataframe\">\n",
       "  <thead>\n",
       "    <tr style=\"text-align: right;\">\n",
       "      <th></th>\n",
       "      <th>Sales Person</th>\n",
       "      <th>Geography</th>\n",
       "      <th>Product</th>\n",
       "      <th>Date</th>\n",
       "      <th>Amount</th>\n",
       "      <th>Boxes</th>\n",
       "    </tr>\n",
       "  </thead>\n",
       "  <tbody>\n",
       "    <tr>\n",
       "      <th>0</th>\n",
       "      <td>Barr Faughny</td>\n",
       "      <td>New Zealand</td>\n",
       "      <td>Raspberry Choco</td>\n",
       "      <td>2021-01-01</td>\n",
       "      <td>8414</td>\n",
       "      <td>495</td>\n",
       "    </tr>\n",
       "    <tr>\n",
       "      <th>2</th>\n",
       "      <td>Karlen McCaffrey</td>\n",
       "      <td>USA</td>\n",
       "      <td>99% Dark &amp; Pure</td>\n",
       "      <td>2021-01-01</td>\n",
       "      <td>5376</td>\n",
       "      <td>269</td>\n",
       "    </tr>\n",
       "    <tr>\n",
       "      <th>4</th>\n",
       "      <td>Beverie Moffet</td>\n",
       "      <td>USA</td>\n",
       "      <td>Manuka Honey Choco</td>\n",
       "      <td>2021-01-01</td>\n",
       "      <td>5530</td>\n",
       "      <td>179</td>\n",
       "    </tr>\n",
       "    <tr>\n",
       "      <th>6</th>\n",
       "      <td>Oby Sorrel</td>\n",
       "      <td>UK</td>\n",
       "      <td>Raspberry Choco</td>\n",
       "      <td>2021-01-01</td>\n",
       "      <td>1057</td>\n",
       "      <td>71</td>\n",
       "    </tr>\n",
       "  </tbody>\n",
       "</table>\n",
       "</div>"
      ],
      "text/plain": [
       "       Sales Person      Geography             Product       Date  Amount  \\\n",
       "0      Barr Faughny    New Zealand     Raspberry Choco 2021-01-01    8414   \n",
       "2  Karlen McCaffrey            USA     99% Dark & Pure 2021-01-01    5376   \n",
       "4    Beverie Moffet            USA  Manuka Honey Choco 2021-01-01    5530   \n",
       "6        Oby Sorrel             UK     Raspberry Choco 2021-01-01    1057   \n",
       "\n",
       "   Boxes  \n",
       "0    495  \n",
       "2    269  \n",
       "4    179  \n",
       "6     71  "
      ]
     },
     "execution_count": 7,
     "metadata": {},
     "output_type": "execute_result"
    }
   ],
   "source": [
    "# Using `loc` and `iloc` for indexing\n",
    "sales.loc[[0,2,4,6]]        # This works well with both integers and strings"
   ]
  },
  {
   "cell_type": "code",
   "execution_count": 8,
   "id": "5e24b290",
   "metadata": {},
   "outputs": [
    {
     "data": {
      "application/vnd.microsoft.datawrangler.viewer.v0+json": {
       "columns": [
        {
         "name": "index",
         "rawType": "int64",
         "type": "integer"
        },
        {
         "name": "Sales Person",
         "rawType": "object",
         "type": "string"
        },
        {
         "name": "Geography",
         "rawType": "object",
         "type": "string"
        },
        {
         "name": "Product",
         "rawType": "object",
         "type": "string"
        },
        {
         "name": "Date",
         "rawType": "datetime64[ns]",
         "type": "datetime"
        },
        {
         "name": "Amount",
         "rawType": "int64",
         "type": "integer"
        },
        {
         "name": "Boxes",
         "rawType": "int64",
         "type": "integer"
        }
       ],
       "ref": "fb241fe5-00cd-4378-ab7f-55a3de4ffab5",
       "rows": [
        [
         "0",
         "Barr Faughny",
         "  New Zealand",
         "Raspberry Choco",
         "2021-01-01 00:00:00",
         "8414",
         "495"
        ],
        [
         "2",
         "Karlen McCaffrey",
         "   USA",
         "99% Dark & Pure",
         "2021-01-01 00:00:00",
         "5376",
         "269"
        ],
        [
         "4",
         "Beverie Moffet",
         "   USA",
         "Manuka Honey Choco",
         "2021-01-01 00:00:00",
         "5530",
         "179"
        ],
        [
         "6",
         "Oby Sorrel",
         "   UK",
         "Raspberry Choco",
         "2021-01-01 00:00:00",
         "1057",
         "71"
        ],
        [
         "8",
         "Brien Boise",
         "  Australia",
         "Caramel Stuffed Bars",
         "2021-01-01 00:00:00",
         "4039",
         "176"
        ]
       ],
       "shape": {
        "columns": 6,
        "rows": 5
       }
      },
      "text/html": [
       "<div>\n",
       "<style scoped>\n",
       "    .dataframe tbody tr th:only-of-type {\n",
       "        vertical-align: middle;\n",
       "    }\n",
       "\n",
       "    .dataframe tbody tr th {\n",
       "        vertical-align: top;\n",
       "    }\n",
       "\n",
       "    .dataframe thead th {\n",
       "        text-align: right;\n",
       "    }\n",
       "</style>\n",
       "<table border=\"1\" class=\"dataframe\">\n",
       "  <thead>\n",
       "    <tr style=\"text-align: right;\">\n",
       "      <th></th>\n",
       "      <th>Sales Person</th>\n",
       "      <th>Geography</th>\n",
       "      <th>Product</th>\n",
       "      <th>Date</th>\n",
       "      <th>Amount</th>\n",
       "      <th>Boxes</th>\n",
       "    </tr>\n",
       "  </thead>\n",
       "  <tbody>\n",
       "    <tr>\n",
       "      <th>0</th>\n",
       "      <td>Barr Faughny</td>\n",
       "      <td>New Zealand</td>\n",
       "      <td>Raspberry Choco</td>\n",
       "      <td>2021-01-01</td>\n",
       "      <td>8414</td>\n",
       "      <td>495</td>\n",
       "    </tr>\n",
       "    <tr>\n",
       "      <th>2</th>\n",
       "      <td>Karlen McCaffrey</td>\n",
       "      <td>USA</td>\n",
       "      <td>99% Dark &amp; Pure</td>\n",
       "      <td>2021-01-01</td>\n",
       "      <td>5376</td>\n",
       "      <td>269</td>\n",
       "    </tr>\n",
       "    <tr>\n",
       "      <th>4</th>\n",
       "      <td>Beverie Moffet</td>\n",
       "      <td>USA</td>\n",
       "      <td>Manuka Honey Choco</td>\n",
       "      <td>2021-01-01</td>\n",
       "      <td>5530</td>\n",
       "      <td>179</td>\n",
       "    </tr>\n",
       "    <tr>\n",
       "      <th>6</th>\n",
       "      <td>Oby Sorrel</td>\n",
       "      <td>UK</td>\n",
       "      <td>Raspberry Choco</td>\n",
       "      <td>2021-01-01</td>\n",
       "      <td>1057</td>\n",
       "      <td>71</td>\n",
       "    </tr>\n",
       "    <tr>\n",
       "      <th>8</th>\n",
       "      <td>Brien Boise</td>\n",
       "      <td>Australia</td>\n",
       "      <td>Caramel Stuffed Bars</td>\n",
       "      <td>2021-01-01</td>\n",
       "      <td>4039</td>\n",
       "      <td>176</td>\n",
       "    </tr>\n",
       "  </tbody>\n",
       "</table>\n",
       "</div>"
      ],
      "text/plain": [
       "       Sales Person      Geography               Product       Date  Amount  \\\n",
       "0      Barr Faughny    New Zealand       Raspberry Choco 2021-01-01    8414   \n",
       "2  Karlen McCaffrey            USA       99% Dark & Pure 2021-01-01    5376   \n",
       "4    Beverie Moffet            USA    Manuka Honey Choco 2021-01-01    5530   \n",
       "6        Oby Sorrel             UK       Raspberry Choco 2021-01-01    1057   \n",
       "8       Brien Boise      Australia  Caramel Stuffed Bars 2021-01-01    4039   \n",
       "\n",
       "   Boxes  \n",
       "0    495  \n",
       "2    269  \n",
       "4    179  \n",
       "6     71  \n",
       "8    176  "
      ]
     },
     "execution_count": 8,
     "metadata": {},
     "output_type": "execute_result"
    }
   ],
   "source": [
    "sales.iloc[[0,2,4,6,8]]         # This works well with only integers"
   ]
  },
  {
   "cell_type": "code",
   "execution_count": 9,
   "id": "49841e3f",
   "metadata": {},
   "outputs": [
    {
     "data": {
      "application/vnd.microsoft.datawrangler.viewer.v0+json": {
       "columns": [
        {
         "name": "index",
         "rawType": "int64",
         "type": "integer"
        },
        {
         "name": "Sales Person",
         "rawType": "object",
         "type": "string"
        },
        {
         "name": "Product",
         "rawType": "object",
         "type": "string"
        },
        {
         "name": "Amount",
         "rawType": "int64",
         "type": "integer"
        }
       ],
       "ref": "7de808fd-3d39-4cb3-8e5b-0bc44132d756",
       "rows": [
        [
         "0",
         "Barr Faughny",
         "Raspberry Choco",
         "8414"
        ],
        [
         "2",
         "Karlen McCaffrey",
         "99% Dark & Pure",
         "5376"
        ],
        [
         "4",
         "Beverie Moffet",
         "Manuka Honey Choco",
         "5530"
        ],
        [
         "6",
         "Oby Sorrel",
         "Raspberry Choco",
         "1057"
        ]
       ],
       "shape": {
        "columns": 3,
        "rows": 4
       }
      },
      "text/html": [
       "<div>\n",
       "<style scoped>\n",
       "    .dataframe tbody tr th:only-of-type {\n",
       "        vertical-align: middle;\n",
       "    }\n",
       "\n",
       "    .dataframe tbody tr th {\n",
       "        vertical-align: top;\n",
       "    }\n",
       "\n",
       "    .dataframe thead th {\n",
       "        text-align: right;\n",
       "    }\n",
       "</style>\n",
       "<table border=\"1\" class=\"dataframe\">\n",
       "  <thead>\n",
       "    <tr style=\"text-align: right;\">\n",
       "      <th></th>\n",
       "      <th>Sales Person</th>\n",
       "      <th>Product</th>\n",
       "      <th>Amount</th>\n",
       "    </tr>\n",
       "  </thead>\n",
       "  <tbody>\n",
       "    <tr>\n",
       "      <th>0</th>\n",
       "      <td>Barr Faughny</td>\n",
       "      <td>Raspberry Choco</td>\n",
       "      <td>8414</td>\n",
       "    </tr>\n",
       "    <tr>\n",
       "      <th>2</th>\n",
       "      <td>Karlen McCaffrey</td>\n",
       "      <td>99% Dark &amp; Pure</td>\n",
       "      <td>5376</td>\n",
       "    </tr>\n",
       "    <tr>\n",
       "      <th>4</th>\n",
       "      <td>Beverie Moffet</td>\n",
       "      <td>Manuka Honey Choco</td>\n",
       "      <td>5530</td>\n",
       "    </tr>\n",
       "    <tr>\n",
       "      <th>6</th>\n",
       "      <td>Oby Sorrel</td>\n",
       "      <td>Raspberry Choco</td>\n",
       "      <td>1057</td>\n",
       "    </tr>\n",
       "  </tbody>\n",
       "</table>\n",
       "</div>"
      ],
      "text/plain": [
       "       Sales Person             Product  Amount\n",
       "0      Barr Faughny     Raspberry Choco    8414\n",
       "2  Karlen McCaffrey     99% Dark & Pure    5376\n",
       "4    Beverie Moffet  Manuka Honey Choco    5530\n",
       "6        Oby Sorrel     Raspberry Choco    1057"
      ]
     },
     "execution_count": 9,
     "metadata": {},
     "output_type": "execute_result"
    }
   ],
   "source": [
    "# Indexing columns... this one is having first argument for the row and second argument for the column using column names 0r strings\n",
    "\n",
    "sales.loc[[0,2,4,6],['Sales Person', 'Product', 'Amount']]"
   ]
  },
  {
   "cell_type": "code",
   "execution_count": 10,
   "id": "4265c78e",
   "metadata": {},
   "outputs": [
    {
     "data": {
      "application/vnd.microsoft.datawrangler.viewer.v0+json": {
       "columns": [
        {
         "name": "index",
         "rawType": "int64",
         "type": "integer"
        },
        {
         "name": "Sales Person",
         "rawType": "object",
         "type": "string"
        },
        {
         "name": "Product",
         "rawType": "object",
         "type": "string"
        },
        {
         "name": "Amount",
         "rawType": "int64",
         "type": "integer"
        }
       ],
       "ref": "425c2d7f-adca-4461-8f88-fe8b395f75cc",
       "rows": [
        [
         "0",
         "Barr Faughny",
         "Raspberry Choco",
         "8414"
        ],
        [
         "2",
         "Karlen McCaffrey",
         "99% Dark & Pure",
         "5376"
        ],
        [
         "4",
         "Beverie Moffet",
         "Manuka Honey Choco",
         "5530"
        ],
        [
         "6",
         "Oby Sorrel",
         "Raspberry Choco",
         "1057"
        ]
       ],
       "shape": {
        "columns": 3,
        "rows": 4
       }
      },
      "text/html": [
       "<div>\n",
       "<style scoped>\n",
       "    .dataframe tbody tr th:only-of-type {\n",
       "        vertical-align: middle;\n",
       "    }\n",
       "\n",
       "    .dataframe tbody tr th {\n",
       "        vertical-align: top;\n",
       "    }\n",
       "\n",
       "    .dataframe thead th {\n",
       "        text-align: right;\n",
       "    }\n",
       "</style>\n",
       "<table border=\"1\" class=\"dataframe\">\n",
       "  <thead>\n",
       "    <tr style=\"text-align: right;\">\n",
       "      <th></th>\n",
       "      <th>Sales Person</th>\n",
       "      <th>Product</th>\n",
       "      <th>Amount</th>\n",
       "    </tr>\n",
       "  </thead>\n",
       "  <tbody>\n",
       "    <tr>\n",
       "      <th>0</th>\n",
       "      <td>Barr Faughny</td>\n",
       "      <td>Raspberry Choco</td>\n",
       "      <td>8414</td>\n",
       "    </tr>\n",
       "    <tr>\n",
       "      <th>2</th>\n",
       "      <td>Karlen McCaffrey</td>\n",
       "      <td>99% Dark &amp; Pure</td>\n",
       "      <td>5376</td>\n",
       "    </tr>\n",
       "    <tr>\n",
       "      <th>4</th>\n",
       "      <td>Beverie Moffet</td>\n",
       "      <td>Manuka Honey Choco</td>\n",
       "      <td>5530</td>\n",
       "    </tr>\n",
       "    <tr>\n",
       "      <th>6</th>\n",
       "      <td>Oby Sorrel</td>\n",
       "      <td>Raspberry Choco</td>\n",
       "      <td>1057</td>\n",
       "    </tr>\n",
       "  </tbody>\n",
       "</table>\n",
       "</div>"
      ],
      "text/plain": [
       "       Sales Person             Product  Amount\n",
       "0      Barr Faughny     Raspberry Choco    8414\n",
       "2  Karlen McCaffrey     99% Dark & Pure    5376\n",
       "4    Beverie Moffet  Manuka Honey Choco    5530\n",
       "6        Oby Sorrel     Raspberry Choco    1057"
      ]
     },
     "execution_count": 10,
     "metadata": {},
     "output_type": "execute_result"
    }
   ],
   "source": [
    "# Indexing columns... this one is having first argument for the row and the second argument  for column but taking the index number\n",
    "sales.iloc[[0,2,4,6],[0,2,4]]"
   ]
  },
  {
   "cell_type": "code",
   "execution_count": 11,
   "id": "01b557dd",
   "metadata": {},
   "outputs": [
    {
     "data": {
      "application/vnd.microsoft.datawrangler.viewer.v0+json": {
       "columns": [
        {
         "name": "index",
         "rawType": "int64",
         "type": "integer"
        },
        {
         "name": "Sales Person",
         "rawType": "object",
         "type": "string"
        },
        {
         "name": "Geography",
         "rawType": "object",
         "type": "string"
        },
        {
         "name": "Product",
         "rawType": "object",
         "type": "string"
        },
        {
         "name": "Date",
         "rawType": "datetime64[ns]",
         "type": "datetime"
        },
        {
         "name": "Amount",
         "rawType": "int64",
         "type": "integer"
        },
        {
         "name": "Boxes",
         "rawType": "int64",
         "type": "integer"
        }
       ],
       "ref": "20d03c58-d7bd-47c4-813e-91e2d77531a5",
       "rows": [
        [
         "0",
         "Barr Faughny",
         "  New Zealand",
         "Raspberry Choco",
         "2021-01-01 00:00:00",
         "8414",
         "495"
        ],
        [
         "1",
         "Dennison Crosswaite",
         "   Canada",
         "White Choc",
         "2021-01-01 00:00:00",
         "532",
         "54"
        ],
        [
         "2",
         "Karlen McCaffrey",
         "   USA",
         "99% Dark & Pure",
         "2021-01-01 00:00:00",
         "5376",
         "269"
        ],
        [
         "3",
         "Barr Faughny",
         "New Zealand",
         "Baker's Choco Chips",
         "2021-01-01 00:00:00",
         "259",
         "22"
        ],
        [
         "4",
         "Beverie Moffet",
         "   USA",
         "Manuka Honey Choco",
         "2021-01-01 00:00:00",
         "5530",
         "179"
        ],
        [
         "5",
         "Rafaelita Blaksland",
         "   India",
         "85% Dark Bars",
         "2021-01-01 00:00:00",
         "2184",
         "122"
        ],
        [
         "6",
         "Oby Sorrel",
         "   UK",
         "Raspberry Choco",
         "2021-01-01 00:00:00",
         "1057",
         "71"
        ],
        [
         "7",
         "Dotty Strutley",
         "  Australia",
         "Organic Choco Syrup",
         "2021-01-01 00:00:00",
         "1036",
         "37"
        ],
        [
         "8",
         "Brien Boise",
         "  Australia",
         "Caramel Stuffed Bars",
         "2021-01-01 00:00:00",
         "4039",
         "176"
        ],
        [
         "9",
         "Curtice Advani",
         "New Zealand",
         "Milk Bars",
         "2021-01-01 00:00:00",
         "12894",
         "478"
        ],
        [
         "10",
         "Madelene Upcott",
         " USA",
         "Milk Bars",
         "2021-01-01 00:00:00",
         "4669",
         "180"
        ],
        [
         "11",
         "Wilone O'Kielt",
         "   New Zealand",
         "Organic Choco Syrup",
         "2021-01-01 00:00:00",
         "6377",
         "246"
        ],
        [
         "12",
         "Jehu Rudeforth",
         "   Canada",
         "Mint Chip Choco",
         "2021-01-01 00:00:00",
         "4599",
         "256"
        ],
        [
         "13",
         "Jehu Rudeforth",
         "USA",
         "Orange Choco",
         "2021-01-01 00:00:00",
         "2751",
         "251"
        ],
        [
         "14",
         "Brien Boise",
         "  India",
         "Eclairs",
         "2021-01-01 00:00:00",
         "15596",
         "975"
        ],
        [
         "15",
         "Curtice Advani",
         "   India",
         "After Nines",
         "2021-01-01 00:00:00",
         "8561",
         "330"
        ],
        [
         "16",
         "Camilla Castle",
         " UK",
         "Mint Chip Choco",
         "2021-01-01 00:00:00",
         "14273",
         "752"
        ],
        [
         "17",
         "Dennison Crosswaite",
         " New Zealand",
         "85% Dark Bars",
         "2021-01-01 00:00:00",
         "2506",
         "148"
        ],
        [
         "18",
         "Beverie Moffet",
         "Canada",
         "Spicy Special Slims",
         "2021-01-01 00:00:00",
         "2387",
         "89"
        ],
        [
         "19",
         "Andria Kimpton",
         "   USA",
         "Drinking Coco",
         "2021-01-01 00:00:00",
         "7553",
         "280"
        ],
        [
         "20",
         "Jehu Rudeforth",
         "   New Zealand",
         "Peanut Butter Cubes",
         "2021-01-01 00:00:00",
         "3409",
         "171"
        ],
        [
         "21",
         "Kelci Walkden",
         "   USA",
         "Peanut Butter Cubes",
         "2021-01-01 00:00:00",
         "3878",
         "216"
        ],
        [
         "22",
         "Karlen McCaffrey",
         "  USA",
         "Raspberry Choco",
         "2021-01-01 00:00:00",
         "3052",
         "204"
        ],
        [
         "23",
         "Madelene Upcott",
         " USA",
         "Choco Coated Almonds",
         "2021-01-04 00:00:00",
         "19229",
         "1013"
        ],
        [
         "24",
         "Kelci Walkden",
         "  UK",
         "Choco Coated Almonds",
         "2021-01-04 00:00:00",
         "1988",
         "95"
        ],
        [
         "25",
         "Karlen McCaffrey",
         "UK",
         "Orange Choco",
         "2021-01-04 00:00:00",
         "147",
         "11"
        ],
        [
         "26",
         "Oby Sorrel",
         "  UK",
         "Fruit & Nut Bars",
         "2021-01-04 00:00:00",
         "2401",
         "134"
        ],
        [
         "27",
         "Husein Augar",
         "   USA",
         "Caramel Stuffed Bars",
         "2021-01-04 00:00:00",
         "2814",
         "94"
        ],
        [
         "28",
         "Curtice Advani",
         "  UK",
         "Caramel Stuffed Bars",
         "2021-01-04 00:00:00",
         "5390",
         "216"
        ],
        [
         "29",
         "Van Tuxwell",
         "Canada",
         "50% Dark Bites",
         "2021-01-04 00:00:00",
         "3920",
         "262"
        ],
        [
         "30",
         "Beverie Moffet",
         "Canada",
         "70% Dark Bites",
         "2021-01-04 00:00:00",
         "7539",
         "943"
        ],
        [
         "31",
         "Van Tuxwell",
         "  India",
         "Organic Choco Syrup",
         "2021-01-05 00:00:00",
         "17248",
         "664"
        ],
        [
         "32",
         "Madelene Upcott",
         "  UK",
         "Almond Choco",
         "2021-01-05 00:00:00",
         "1176",
         "66"
        ],
        [
         "33",
         "Rafaelita Blaksland",
         " Australia",
         "85% Dark Bars",
         "2021-01-05 00:00:00",
         "9730",
         "573"
        ],
        [
         "34",
         "Marney O'Breen",
         "   New Zealand",
         "85% Dark Bars",
         "2021-01-05 00:00:00",
         "2226",
         "140"
        ],
        [
         "35",
         "Madelene Upcott",
         "UK",
         "Fruit & Nut Bars",
         "2021-01-05 00:00:00",
         "7063",
         "643"
        ],
        [
         "36",
         "Kaine Padly",
         "New Zealand",
         "After Nines",
         "2021-01-05 00:00:00",
         "7399",
         "275"
        ],
        [
         "37",
         "Wilone O'Kielt",
         " USA",
         "Orange Choco",
         "2021-01-05 00:00:00",
         "4284",
         "306"
        ],
        [
         "38",
         "Kaine Padly",
         "   New Zealand",
         "Raspberry Choco",
         "2021-01-05 00:00:00",
         "4865",
         "271"
        ],
        [
         "39",
         "Curtice Advani",
         "  New Zealand",
         "70% Dark Bites",
         "2021-01-05 00:00:00",
         "3780",
         "315"
        ],
        [
         "40",
         "Jan Morforth",
         " India",
         "Orange Choco",
         "2021-01-05 00:00:00",
         "3059",
         "279"
        ],
        [
         "41",
         "Husein Augar",
         "  UK",
         "After Nines",
         "2021-01-05 00:00:00",
         "6622",
         "276"
        ],
        [
         "42",
         "Wilone O'Kielt",
         "India",
         "Smooth Sliky Salty",
         "2021-01-06 00:00:00",
         "644",
         "34"
        ],
        [
         "43",
         "Ches Bonnell",
         "India",
         "After Nines",
         "2021-01-06 00:00:00",
         "4935",
         "171"
        ],
        [
         "44",
         "Jan Morforth",
         "UK",
         "Peanut Butter Cubes",
         "2021-01-06 00:00:00",
         "7182",
         "378"
        ],
        [
         "45",
         "Andria Kimpton",
         "   Australia",
         "Orange Choco",
         "2021-01-06 00:00:00",
         "539",
         "77"
        ],
        [
         "46",
         "Oby Sorrel",
         "   UK",
         "70% Dark Bites",
         "2021-01-06 00:00:00",
         "637",
         "91"
        ],
        [
         "47",
         "Kaine Padly",
         "USA",
         "Baker's Choco Chips",
         "2021-01-06 00:00:00",
         "1470",
         "184"
        ],
        [
         "48",
         "Brien Boise",
         "  USA",
         "85% Dark Bars",
         "2021-01-06 00:00:00",
         "1442",
         "61"
        ],
        [
         "49",
         "Husein Augar",
         "  USA",
         "Smooth Sliky Salty",
         "2021-01-06 00:00:00",
         "9023",
         "564"
        ]
       ],
       "shape": {
        "columns": 6,
        "rows": 3791
       }
      },
      "text/html": [
       "<div>\n",
       "<style scoped>\n",
       "    .dataframe tbody tr th:only-of-type {\n",
       "        vertical-align: middle;\n",
       "    }\n",
       "\n",
       "    .dataframe tbody tr th {\n",
       "        vertical-align: top;\n",
       "    }\n",
       "\n",
       "    .dataframe thead th {\n",
       "        text-align: right;\n",
       "    }\n",
       "</style>\n",
       "<table border=\"1\" class=\"dataframe\">\n",
       "  <thead>\n",
       "    <tr style=\"text-align: right;\">\n",
       "      <th></th>\n",
       "      <th>Sales Person</th>\n",
       "      <th>Geography</th>\n",
       "      <th>Product</th>\n",
       "      <th>Date</th>\n",
       "      <th>Amount</th>\n",
       "      <th>Boxes</th>\n",
       "    </tr>\n",
       "  </thead>\n",
       "  <tbody>\n",
       "    <tr>\n",
       "      <th>0</th>\n",
       "      <td>Barr Faughny</td>\n",
       "      <td>New Zealand</td>\n",
       "      <td>Raspberry Choco</td>\n",
       "      <td>2021-01-01</td>\n",
       "      <td>8414</td>\n",
       "      <td>495</td>\n",
       "    </tr>\n",
       "    <tr>\n",
       "      <th>1</th>\n",
       "      <td>Dennison Crosswaite</td>\n",
       "      <td>Canada</td>\n",
       "      <td>White Choc</td>\n",
       "      <td>2021-01-01</td>\n",
       "      <td>532</td>\n",
       "      <td>54</td>\n",
       "    </tr>\n",
       "    <tr>\n",
       "      <th>2</th>\n",
       "      <td>Karlen McCaffrey</td>\n",
       "      <td>USA</td>\n",
       "      <td>99% Dark &amp; Pure</td>\n",
       "      <td>2021-01-01</td>\n",
       "      <td>5376</td>\n",
       "      <td>269</td>\n",
       "    </tr>\n",
       "    <tr>\n",
       "      <th>3</th>\n",
       "      <td>Barr Faughny</td>\n",
       "      <td>New Zealand</td>\n",
       "      <td>Baker's Choco Chips</td>\n",
       "      <td>2021-01-01</td>\n",
       "      <td>259</td>\n",
       "      <td>22</td>\n",
       "    </tr>\n",
       "    <tr>\n",
       "      <th>4</th>\n",
       "      <td>Beverie Moffet</td>\n",
       "      <td>USA</td>\n",
       "      <td>Manuka Honey Choco</td>\n",
       "      <td>2021-01-01</td>\n",
       "      <td>5530</td>\n",
       "      <td>179</td>\n",
       "    </tr>\n",
       "    <tr>\n",
       "      <th>...</th>\n",
       "      <td>...</td>\n",
       "      <td>...</td>\n",
       "      <td>...</td>\n",
       "      <td>...</td>\n",
       "      <td>...</td>\n",
       "      <td>...</td>\n",
       "    </tr>\n",
       "    <tr>\n",
       "      <th>3786</th>\n",
       "      <td>Van Tuxwell</td>\n",
       "      <td>India</td>\n",
       "      <td>Drinking Coco</td>\n",
       "      <td>2022-01-19</td>\n",
       "      <td>10682</td>\n",
       "      <td>1526</td>\n",
       "    </tr>\n",
       "    <tr>\n",
       "      <th>3787</th>\n",
       "      <td>Rafaelita Blaksland</td>\n",
       "      <td>Australia</td>\n",
       "      <td>Mint Chip Choco</td>\n",
       "      <td>2022-01-18</td>\n",
       "      <td>11746</td>\n",
       "      <td>511</td>\n",
       "    </tr>\n",
       "    <tr>\n",
       "      <th>3788</th>\n",
       "      <td>Kelci Walkden</td>\n",
       "      <td>Australia</td>\n",
       "      <td>Spicy Special Slims</td>\n",
       "      <td>2022-01-03</td>\n",
       "      <td>8862</td>\n",
       "      <td>1477</td>\n",
       "    </tr>\n",
       "    <tr>\n",
       "      <th>3789</th>\n",
       "      <td>Gunar Cockshoot</td>\n",
       "      <td>New Zealand</td>\n",
       "      <td>Mint Chip Choco</td>\n",
       "      <td>2022-01-21</td>\n",
       "      <td>11592</td>\n",
       "      <td>527</td>\n",
       "    </tr>\n",
       "    <tr>\n",
       "      <th>3790</th>\n",
       "      <td>Mallorie Waber</td>\n",
       "      <td>USA</td>\n",
       "      <td>Spicy Special Slims</td>\n",
       "      <td>2022-01-07</td>\n",
       "      <td>3871</td>\n",
       "      <td>431</td>\n",
       "    </tr>\n",
       "  </tbody>\n",
       "</table>\n",
       "<p>3791 rows × 6 columns</p>\n",
       "</div>"
      ],
      "text/plain": [
       "             Sales Person      Geography              Product       Date  \\\n",
       "0            Barr Faughny    New Zealand      Raspberry Choco 2021-01-01   \n",
       "1     Dennison Crosswaite         Canada           White Choc 2021-01-01   \n",
       "2        Karlen McCaffrey            USA      99% Dark & Pure 2021-01-01   \n",
       "3            Barr Faughny    New Zealand  Baker's Choco Chips 2021-01-01   \n",
       "4          Beverie Moffet            USA   Manuka Honey Choco 2021-01-01   \n",
       "...                   ...            ...                  ...        ...   \n",
       "3786          Van Tuxwell         India         Drinking Coco 2022-01-19   \n",
       "3787  Rafaelita Blaksland     Australia       Mint Chip Choco 2022-01-18   \n",
       "3788        Kelci Walkden     Australia   Spicy Special Slims 2022-01-03   \n",
       "3789      Gunar Cockshoot   New Zealand       Mint Chip Choco 2022-01-21   \n",
       "3790       Mallorie Waber         USA     Spicy Special Slims 2022-01-07   \n",
       "\n",
       "      Amount  Boxes  \n",
       "0       8414    495  \n",
       "1        532     54  \n",
       "2       5376    269  \n",
       "3        259     22  \n",
       "4       5530    179  \n",
       "...      ...    ...  \n",
       "3786   10682   1526  \n",
       "3787   11746    511  \n",
       "3788    8862   1477  \n",
       "3789   11592    527  \n",
       "3790    3871    431  \n",
       "\n",
       "[3791 rows x 6 columns]"
      ]
     },
     "execution_count": 11,
     "metadata": {},
     "output_type": "execute_result"
    }
   ],
   "source": [
    "# Slicing using iloc and loc\n",
    "sales.iloc[:]\n",
    "#sales.iloc[::]\n",
    "#sales.iloc[0:-1] # all of this 3 gives the same output in slicing, returning all of the rows..\n"
   ]
  },
  {
   "cell_type": "code",
   "execution_count": 12,
   "id": "40bed034",
   "metadata": {},
   "outputs": [
    {
     "data": {
      "application/vnd.microsoft.datawrangler.viewer.v0+json": {
       "columns": [
        {
         "name": "index",
         "rawType": "int64",
         "type": "integer"
        },
        {
         "name": "Sales Person",
         "rawType": "object",
         "type": "string"
        },
        {
         "name": "Geography",
         "rawType": "object",
         "type": "string"
        },
        {
         "name": "Product",
         "rawType": "object",
         "type": "string"
        },
        {
         "name": "Date",
         "rawType": "datetime64[ns]",
         "type": "datetime"
        },
        {
         "name": "Amount",
         "rawType": "int64",
         "type": "integer"
        },
        {
         "name": "Boxes",
         "rawType": "int64",
         "type": "integer"
        }
       ],
       "ref": "c72c6893-b655-456c-8460-203253930f06",
       "rows": [
        [
         "0",
         "Barr Faughny",
         "  New Zealand",
         "Raspberry Choco",
         "2021-01-01 00:00:00",
         "8414",
         "495"
        ],
        [
         "1",
         "Dennison Crosswaite",
         "   Canada",
         "White Choc",
         "2021-01-01 00:00:00",
         "532",
         "54"
        ],
        [
         "2",
         "Karlen McCaffrey",
         "   USA",
         "99% Dark & Pure",
         "2021-01-01 00:00:00",
         "5376",
         "269"
        ],
        [
         "3",
         "Barr Faughny",
         "New Zealand",
         "Baker's Choco Chips",
         "2021-01-01 00:00:00",
         "259",
         "22"
        ],
        [
         "4",
         "Beverie Moffet",
         "   USA",
         "Manuka Honey Choco",
         "2021-01-01 00:00:00",
         "5530",
         "179"
        ],
        [
         "5",
         "Rafaelita Blaksland",
         "   India",
         "85% Dark Bars",
         "2021-01-01 00:00:00",
         "2184",
         "122"
        ],
        [
         "6",
         "Oby Sorrel",
         "   UK",
         "Raspberry Choco",
         "2021-01-01 00:00:00",
         "1057",
         "71"
        ],
        [
         "7",
         "Dotty Strutley",
         "  Australia",
         "Organic Choco Syrup",
         "2021-01-01 00:00:00",
         "1036",
         "37"
        ],
        [
         "8",
         "Brien Boise",
         "  Australia",
         "Caramel Stuffed Bars",
         "2021-01-01 00:00:00",
         "4039",
         "176"
        ],
        [
         "9",
         "Curtice Advani",
         "New Zealand",
         "Milk Bars",
         "2021-01-01 00:00:00",
         "12894",
         "478"
        ],
        [
         "10",
         "Madelene Upcott",
         " USA",
         "Milk Bars",
         "2021-01-01 00:00:00",
         "4669",
         "180"
        ],
        [
         "11",
         "Wilone O'Kielt",
         "   New Zealand",
         "Organic Choco Syrup",
         "2021-01-01 00:00:00",
         "6377",
         "246"
        ],
        [
         "12",
         "Jehu Rudeforth",
         "   Canada",
         "Mint Chip Choco",
         "2021-01-01 00:00:00",
         "4599",
         "256"
        ],
        [
         "13",
         "Jehu Rudeforth",
         "USA",
         "Orange Choco",
         "2021-01-01 00:00:00",
         "2751",
         "251"
        ],
        [
         "14",
         "Brien Boise",
         "  India",
         "Eclairs",
         "2021-01-01 00:00:00",
         "15596",
         "975"
        ],
        [
         "15",
         "Curtice Advani",
         "   India",
         "After Nines",
         "2021-01-01 00:00:00",
         "8561",
         "330"
        ],
        [
         "16",
         "Camilla Castle",
         " UK",
         "Mint Chip Choco",
         "2021-01-01 00:00:00",
         "14273",
         "752"
        ],
        [
         "17",
         "Dennison Crosswaite",
         " New Zealand",
         "85% Dark Bars",
         "2021-01-01 00:00:00",
         "2506",
         "148"
        ],
        [
         "18",
         "Beverie Moffet",
         "Canada",
         "Spicy Special Slims",
         "2021-01-01 00:00:00",
         "2387",
         "89"
        ],
        [
         "19",
         "Andria Kimpton",
         "   USA",
         "Drinking Coco",
         "2021-01-01 00:00:00",
         "7553",
         "280"
        ],
        [
         "20",
         "Jehu Rudeforth",
         "   New Zealand",
         "Peanut Butter Cubes",
         "2021-01-01 00:00:00",
         "3409",
         "171"
        ],
        [
         "21",
         "Kelci Walkden",
         "   USA",
         "Peanut Butter Cubes",
         "2021-01-01 00:00:00",
         "3878",
         "216"
        ],
        [
         "22",
         "Karlen McCaffrey",
         "  USA",
         "Raspberry Choco",
         "2021-01-01 00:00:00",
         "3052",
         "204"
        ],
        [
         "23",
         "Madelene Upcott",
         " USA",
         "Choco Coated Almonds",
         "2021-01-04 00:00:00",
         "19229",
         "1013"
        ],
        [
         "24",
         "Kelci Walkden",
         "  UK",
         "Choco Coated Almonds",
         "2021-01-04 00:00:00",
         "1988",
         "95"
        ],
        [
         "25",
         "Karlen McCaffrey",
         "UK",
         "Orange Choco",
         "2021-01-04 00:00:00",
         "147",
         "11"
        ],
        [
         "26",
         "Oby Sorrel",
         "  UK",
         "Fruit & Nut Bars",
         "2021-01-04 00:00:00",
         "2401",
         "134"
        ],
        [
         "27",
         "Husein Augar",
         "   USA",
         "Caramel Stuffed Bars",
         "2021-01-04 00:00:00",
         "2814",
         "94"
        ],
        [
         "28",
         "Curtice Advani",
         "  UK",
         "Caramel Stuffed Bars",
         "2021-01-04 00:00:00",
         "5390",
         "216"
        ],
        [
         "29",
         "Van Tuxwell",
         "Canada",
         "50% Dark Bites",
         "2021-01-04 00:00:00",
         "3920",
         "262"
        ],
        [
         "30",
         "Beverie Moffet",
         "Canada",
         "70% Dark Bites",
         "2021-01-04 00:00:00",
         "7539",
         "943"
        ],
        [
         "31",
         "Van Tuxwell",
         "  India",
         "Organic Choco Syrup",
         "2021-01-05 00:00:00",
         "17248",
         "664"
        ],
        [
         "32",
         "Madelene Upcott",
         "  UK",
         "Almond Choco",
         "2021-01-05 00:00:00",
         "1176",
         "66"
        ],
        [
         "33",
         "Rafaelita Blaksland",
         " Australia",
         "85% Dark Bars",
         "2021-01-05 00:00:00",
         "9730",
         "573"
        ],
        [
         "34",
         "Marney O'Breen",
         "   New Zealand",
         "85% Dark Bars",
         "2021-01-05 00:00:00",
         "2226",
         "140"
        ],
        [
         "35",
         "Madelene Upcott",
         "UK",
         "Fruit & Nut Bars",
         "2021-01-05 00:00:00",
         "7063",
         "643"
        ],
        [
         "36",
         "Kaine Padly",
         "New Zealand",
         "After Nines",
         "2021-01-05 00:00:00",
         "7399",
         "275"
        ],
        [
         "37",
         "Wilone O'Kielt",
         " USA",
         "Orange Choco",
         "2021-01-05 00:00:00",
         "4284",
         "306"
        ],
        [
         "38",
         "Kaine Padly",
         "   New Zealand",
         "Raspberry Choco",
         "2021-01-05 00:00:00",
         "4865",
         "271"
        ],
        [
         "39",
         "Curtice Advani",
         "  New Zealand",
         "70% Dark Bites",
         "2021-01-05 00:00:00",
         "3780",
         "315"
        ],
        [
         "40",
         "Jan Morforth",
         " India",
         "Orange Choco",
         "2021-01-05 00:00:00",
         "3059",
         "279"
        ],
        [
         "41",
         "Husein Augar",
         "  UK",
         "After Nines",
         "2021-01-05 00:00:00",
         "6622",
         "276"
        ],
        [
         "42",
         "Wilone O'Kielt",
         "India",
         "Smooth Sliky Salty",
         "2021-01-06 00:00:00",
         "644",
         "34"
        ],
        [
         "43",
         "Ches Bonnell",
         "India",
         "After Nines",
         "2021-01-06 00:00:00",
         "4935",
         "171"
        ],
        [
         "44",
         "Jan Morforth",
         "UK",
         "Peanut Butter Cubes",
         "2021-01-06 00:00:00",
         "7182",
         "378"
        ],
        [
         "45",
         "Andria Kimpton",
         "   Australia",
         "Orange Choco",
         "2021-01-06 00:00:00",
         "539",
         "77"
        ],
        [
         "46",
         "Oby Sorrel",
         "   UK",
         "70% Dark Bites",
         "2021-01-06 00:00:00",
         "637",
         "91"
        ],
        [
         "47",
         "Kaine Padly",
         "USA",
         "Baker's Choco Chips",
         "2021-01-06 00:00:00",
         "1470",
         "184"
        ],
        [
         "48",
         "Brien Boise",
         "  USA",
         "85% Dark Bars",
         "2021-01-06 00:00:00",
         "1442",
         "61"
        ],
        [
         "49",
         "Husein Augar",
         "  USA",
         "Smooth Sliky Salty",
         "2021-01-06 00:00:00",
         "9023",
         "564"
        ]
       ],
       "shape": {
        "columns": 6,
        "rows": 3791
       }
      },
      "text/html": [
       "<div>\n",
       "<style scoped>\n",
       "    .dataframe tbody tr th:only-of-type {\n",
       "        vertical-align: middle;\n",
       "    }\n",
       "\n",
       "    .dataframe tbody tr th {\n",
       "        vertical-align: top;\n",
       "    }\n",
       "\n",
       "    .dataframe thead th {\n",
       "        text-align: right;\n",
       "    }\n",
       "</style>\n",
       "<table border=\"1\" class=\"dataframe\">\n",
       "  <thead>\n",
       "    <tr style=\"text-align: right;\">\n",
       "      <th></th>\n",
       "      <th>Sales Person</th>\n",
       "      <th>Geography</th>\n",
       "      <th>Product</th>\n",
       "      <th>Date</th>\n",
       "      <th>Amount</th>\n",
       "      <th>Boxes</th>\n",
       "    </tr>\n",
       "  </thead>\n",
       "  <tbody>\n",
       "    <tr>\n",
       "      <th>0</th>\n",
       "      <td>Barr Faughny</td>\n",
       "      <td>New Zealand</td>\n",
       "      <td>Raspberry Choco</td>\n",
       "      <td>2021-01-01</td>\n",
       "      <td>8414</td>\n",
       "      <td>495</td>\n",
       "    </tr>\n",
       "    <tr>\n",
       "      <th>1</th>\n",
       "      <td>Dennison Crosswaite</td>\n",
       "      <td>Canada</td>\n",
       "      <td>White Choc</td>\n",
       "      <td>2021-01-01</td>\n",
       "      <td>532</td>\n",
       "      <td>54</td>\n",
       "    </tr>\n",
       "    <tr>\n",
       "      <th>2</th>\n",
       "      <td>Karlen McCaffrey</td>\n",
       "      <td>USA</td>\n",
       "      <td>99% Dark &amp; Pure</td>\n",
       "      <td>2021-01-01</td>\n",
       "      <td>5376</td>\n",
       "      <td>269</td>\n",
       "    </tr>\n",
       "    <tr>\n",
       "      <th>3</th>\n",
       "      <td>Barr Faughny</td>\n",
       "      <td>New Zealand</td>\n",
       "      <td>Baker's Choco Chips</td>\n",
       "      <td>2021-01-01</td>\n",
       "      <td>259</td>\n",
       "      <td>22</td>\n",
       "    </tr>\n",
       "    <tr>\n",
       "      <th>4</th>\n",
       "      <td>Beverie Moffet</td>\n",
       "      <td>USA</td>\n",
       "      <td>Manuka Honey Choco</td>\n",
       "      <td>2021-01-01</td>\n",
       "      <td>5530</td>\n",
       "      <td>179</td>\n",
       "    </tr>\n",
       "    <tr>\n",
       "      <th>...</th>\n",
       "      <td>...</td>\n",
       "      <td>...</td>\n",
       "      <td>...</td>\n",
       "      <td>...</td>\n",
       "      <td>...</td>\n",
       "      <td>...</td>\n",
       "    </tr>\n",
       "    <tr>\n",
       "      <th>3786</th>\n",
       "      <td>Van Tuxwell</td>\n",
       "      <td>India</td>\n",
       "      <td>Drinking Coco</td>\n",
       "      <td>2022-01-19</td>\n",
       "      <td>10682</td>\n",
       "      <td>1526</td>\n",
       "    </tr>\n",
       "    <tr>\n",
       "      <th>3787</th>\n",
       "      <td>Rafaelita Blaksland</td>\n",
       "      <td>Australia</td>\n",
       "      <td>Mint Chip Choco</td>\n",
       "      <td>2022-01-18</td>\n",
       "      <td>11746</td>\n",
       "      <td>511</td>\n",
       "    </tr>\n",
       "    <tr>\n",
       "      <th>3788</th>\n",
       "      <td>Kelci Walkden</td>\n",
       "      <td>Australia</td>\n",
       "      <td>Spicy Special Slims</td>\n",
       "      <td>2022-01-03</td>\n",
       "      <td>8862</td>\n",
       "      <td>1477</td>\n",
       "    </tr>\n",
       "    <tr>\n",
       "      <th>3789</th>\n",
       "      <td>Gunar Cockshoot</td>\n",
       "      <td>New Zealand</td>\n",
       "      <td>Mint Chip Choco</td>\n",
       "      <td>2022-01-21</td>\n",
       "      <td>11592</td>\n",
       "      <td>527</td>\n",
       "    </tr>\n",
       "    <tr>\n",
       "      <th>3790</th>\n",
       "      <td>Mallorie Waber</td>\n",
       "      <td>USA</td>\n",
       "      <td>Spicy Special Slims</td>\n",
       "      <td>2022-01-07</td>\n",
       "      <td>3871</td>\n",
       "      <td>431</td>\n",
       "    </tr>\n",
       "  </tbody>\n",
       "</table>\n",
       "<p>3791 rows × 6 columns</p>\n",
       "</div>"
      ],
      "text/plain": [
       "             Sales Person      Geography              Product       Date  \\\n",
       "0            Barr Faughny    New Zealand      Raspberry Choco 2021-01-01   \n",
       "1     Dennison Crosswaite         Canada           White Choc 2021-01-01   \n",
       "2        Karlen McCaffrey            USA      99% Dark & Pure 2021-01-01   \n",
       "3            Barr Faughny    New Zealand  Baker's Choco Chips 2021-01-01   \n",
       "4          Beverie Moffet            USA   Manuka Honey Choco 2021-01-01   \n",
       "...                   ...            ...                  ...        ...   \n",
       "3786          Van Tuxwell         India         Drinking Coco 2022-01-19   \n",
       "3787  Rafaelita Blaksland     Australia       Mint Chip Choco 2022-01-18   \n",
       "3788        Kelci Walkden     Australia   Spicy Special Slims 2022-01-03   \n",
       "3789      Gunar Cockshoot   New Zealand       Mint Chip Choco 2022-01-21   \n",
       "3790       Mallorie Waber         USA     Spicy Special Slims 2022-01-07   \n",
       "\n",
       "      Amount  Boxes  \n",
       "0       8414    495  \n",
       "1        532     54  \n",
       "2       5376    269  \n",
       "3        259     22  \n",
       "4       5530    179  \n",
       "...      ...    ...  \n",
       "3786   10682   1526  \n",
       "3787   11746    511  \n",
       "3788    8862   1477  \n",
       "3789   11592    527  \n",
       "3790    3871    431  \n",
       "\n",
       "[3791 rows x 6 columns]"
      ]
     },
     "execution_count": 12,
     "metadata": {},
     "output_type": "execute_result"
    }
   ],
   "source": [
    "# Using loc...\n",
    "#sales.loc[:] # this does the same thing as above...\n",
    "#sales.loc[::]\n",
    "sales.loc[-1:] # this is quite different of that of .iloc[]"
   ]
  },
  {
   "cell_type": "code",
   "execution_count": 13,
   "id": "2fcdaee5",
   "metadata": {},
   "outputs": [
    {
     "data": {
      "application/vnd.microsoft.datawrangler.viewer.v0+json": {
       "columns": [
        {
         "name": "index",
         "rawType": "int64",
         "type": "integer"
        },
        {
         "name": "Sales Person",
         "rawType": "object",
         "type": "string"
        },
        {
         "name": "Geography",
         "rawType": "object",
         "type": "string"
        },
        {
         "name": "Product",
         "rawType": "object",
         "type": "string"
        }
       ],
       "ref": "e5e8e482-b7ad-4161-aec5-0c5cf18c2941",
       "rows": [
        [
         "0",
         "Barr Faughny",
         "  New Zealand",
         "Raspberry Choco"
        ],
        [
         "1",
         "Dennison Crosswaite",
         "   Canada",
         "White Choc"
        ],
        [
         "2",
         "Karlen McCaffrey",
         "   USA",
         "99% Dark & Pure"
        ],
        [
         "3",
         "Barr Faughny",
         "New Zealand",
         "Baker's Choco Chips"
        ],
        [
         "4",
         "Beverie Moffet",
         "   USA",
         "Manuka Honey Choco"
        ]
       ],
       "shape": {
        "columns": 3,
        "rows": 5
       }
      },
      "text/html": [
       "<div>\n",
       "<style scoped>\n",
       "    .dataframe tbody tr th:only-of-type {\n",
       "        vertical-align: middle;\n",
       "    }\n",
       "\n",
       "    .dataframe tbody tr th {\n",
       "        vertical-align: top;\n",
       "    }\n",
       "\n",
       "    .dataframe thead th {\n",
       "        text-align: right;\n",
       "    }\n",
       "</style>\n",
       "<table border=\"1\" class=\"dataframe\">\n",
       "  <thead>\n",
       "    <tr style=\"text-align: right;\">\n",
       "      <th></th>\n",
       "      <th>Sales Person</th>\n",
       "      <th>Geography</th>\n",
       "      <th>Product</th>\n",
       "    </tr>\n",
       "  </thead>\n",
       "  <tbody>\n",
       "    <tr>\n",
       "      <th>0</th>\n",
       "      <td>Barr Faughny</td>\n",
       "      <td>New Zealand</td>\n",
       "      <td>Raspberry Choco</td>\n",
       "    </tr>\n",
       "    <tr>\n",
       "      <th>1</th>\n",
       "      <td>Dennison Crosswaite</td>\n",
       "      <td>Canada</td>\n",
       "      <td>White Choc</td>\n",
       "    </tr>\n",
       "    <tr>\n",
       "      <th>2</th>\n",
       "      <td>Karlen McCaffrey</td>\n",
       "      <td>USA</td>\n",
       "      <td>99% Dark &amp; Pure</td>\n",
       "    </tr>\n",
       "    <tr>\n",
       "      <th>3</th>\n",
       "      <td>Barr Faughny</td>\n",
       "      <td>New Zealand</td>\n",
       "      <td>Baker's Choco Chips</td>\n",
       "    </tr>\n",
       "    <tr>\n",
       "      <th>4</th>\n",
       "      <td>Beverie Moffet</td>\n",
       "      <td>USA</td>\n",
       "      <td>Manuka Honey Choco</td>\n",
       "    </tr>\n",
       "  </tbody>\n",
       "</table>\n",
       "</div>"
      ],
      "text/plain": [
       "          Sales Person      Geography              Product\n",
       "0         Barr Faughny    New Zealand      Raspberry Choco\n",
       "1  Dennison Crosswaite         Canada           White Choc\n",
       "2     Karlen McCaffrey            USA      99% Dark & Pure\n",
       "3         Barr Faughny    New Zealand  Baker's Choco Chips\n",
       "4       Beverie Moffet            USA   Manuka Honey Choco"
      ]
     },
     "execution_count": 13,
     "metadata": {},
     "output_type": "execute_result"
    }
   ],
   "source": [
    "# Lets use loc and iloc to slice columns...\n",
    "sales.loc[0:4,'Sales Person':'Product'] # Pick from row 0 to 4, and column 1 to 3..."
   ]
  },
  {
   "cell_type": "code",
   "execution_count": 14,
   "id": "e9a34786",
   "metadata": {},
   "outputs": [
    {
     "data": {
      "application/vnd.microsoft.datawrangler.viewer.v0+json": {
       "columns": [
        {
         "name": "index",
         "rawType": "int64",
         "type": "integer"
        },
        {
         "name": "Sales Person",
         "rawType": "object",
         "type": "string"
        },
        {
         "name": "Geography",
         "rawType": "object",
         "type": "string"
        },
        {
         "name": "Product",
         "rawType": "object",
         "type": "string"
        },
        {
         "name": "Date",
         "rawType": "datetime64[ns]",
         "type": "datetime"
        }
       ],
       "ref": "0d6b88e6-63d9-4626-81c8-7da103fa3a00",
       "rows": [
        [
         "0",
         "Barr Faughny",
         "  New Zealand",
         "Raspberry Choco",
         "2021-01-01 00:00:00"
        ],
        [
         "1",
         "Dennison Crosswaite",
         "   Canada",
         "White Choc",
         "2021-01-01 00:00:00"
        ],
        [
         "2",
         "Karlen McCaffrey",
         "   USA",
         "99% Dark & Pure",
         "2021-01-01 00:00:00"
        ],
        [
         "3",
         "Barr Faughny",
         "New Zealand",
         "Baker's Choco Chips",
         "2021-01-01 00:00:00"
        ]
       ],
       "shape": {
        "columns": 4,
        "rows": 4
       }
      },
      "text/html": [
       "<div>\n",
       "<style scoped>\n",
       "    .dataframe tbody tr th:only-of-type {\n",
       "        vertical-align: middle;\n",
       "    }\n",
       "\n",
       "    .dataframe tbody tr th {\n",
       "        vertical-align: top;\n",
       "    }\n",
       "\n",
       "    .dataframe thead th {\n",
       "        text-align: right;\n",
       "    }\n",
       "</style>\n",
       "<table border=\"1\" class=\"dataframe\">\n",
       "  <thead>\n",
       "    <tr style=\"text-align: right;\">\n",
       "      <th></th>\n",
       "      <th>Sales Person</th>\n",
       "      <th>Geography</th>\n",
       "      <th>Product</th>\n",
       "      <th>Date</th>\n",
       "    </tr>\n",
       "  </thead>\n",
       "  <tbody>\n",
       "    <tr>\n",
       "      <th>0</th>\n",
       "      <td>Barr Faughny</td>\n",
       "      <td>New Zealand</td>\n",
       "      <td>Raspberry Choco</td>\n",
       "      <td>2021-01-01</td>\n",
       "    </tr>\n",
       "    <tr>\n",
       "      <th>1</th>\n",
       "      <td>Dennison Crosswaite</td>\n",
       "      <td>Canada</td>\n",
       "      <td>White Choc</td>\n",
       "      <td>2021-01-01</td>\n",
       "    </tr>\n",
       "    <tr>\n",
       "      <th>2</th>\n",
       "      <td>Karlen McCaffrey</td>\n",
       "      <td>USA</td>\n",
       "      <td>99% Dark &amp; Pure</td>\n",
       "      <td>2021-01-01</td>\n",
       "    </tr>\n",
       "    <tr>\n",
       "      <th>3</th>\n",
       "      <td>Barr Faughny</td>\n",
       "      <td>New Zealand</td>\n",
       "      <td>Baker's Choco Chips</td>\n",
       "      <td>2021-01-01</td>\n",
       "    </tr>\n",
       "  </tbody>\n",
       "</table>\n",
       "</div>"
      ],
      "text/plain": [
       "          Sales Person      Geography              Product       Date\n",
       "0         Barr Faughny    New Zealand      Raspberry Choco 2021-01-01\n",
       "1  Dennison Crosswaite         Canada           White Choc 2021-01-01\n",
       "2     Karlen McCaffrey            USA      99% Dark & Pure 2021-01-01\n",
       "3         Barr Faughny    New Zealand  Baker's Choco Chips 2021-01-01"
      ]
     },
     "execution_count": 14,
     "metadata": {},
     "output_type": "execute_result"
    }
   ],
   "source": [
    "# Using iloc for integer or index numbers\n",
    "sales.iloc[0:4,0:4]"
   ]
  },
  {
   "cell_type": "code",
   "execution_count": 15,
   "id": "b77e9de7",
   "metadata": {},
   "outputs": [
    {
     "data": {
      "application/vnd.microsoft.datawrangler.viewer.v0+json": {
       "columns": [
        {
         "name": "index",
         "rawType": "int64",
         "type": "integer"
        },
        {
         "name": "Geography",
         "rawType": "object",
         "type": "string"
        },
        {
         "name": "Product",
         "rawType": "object",
         "type": "string"
        },
        {
         "name": "Date",
         "rawType": "datetime64[ns]",
         "type": "datetime"
        }
       ],
       "ref": "55ecc121-cf62-48f2-94fa-56ae54381ed6",
       "rows": [
        [
         "0",
         "  New Zealand",
         "Raspberry Choco",
         "2021-01-01 00:00:00"
        ],
        [
         "1",
         "   Canada",
         "White Choc",
         "2021-01-01 00:00:00"
        ],
        [
         "2",
         "   USA",
         "99% Dark & Pure",
         "2021-01-01 00:00:00"
        ],
        [
         "3",
         "New Zealand",
         "Baker's Choco Chips",
         "2021-01-01 00:00:00"
        ],
        [
         "4",
         "   USA",
         "Manuka Honey Choco",
         "2021-01-01 00:00:00"
        ],
        [
         "5",
         "   India",
         "85% Dark Bars",
         "2021-01-01 00:00:00"
        ],
        [
         "6",
         "   UK",
         "Raspberry Choco",
         "2021-01-01 00:00:00"
        ],
        [
         "7",
         "  Australia",
         "Organic Choco Syrup",
         "2021-01-01 00:00:00"
        ],
        [
         "8",
         "  Australia",
         "Caramel Stuffed Bars",
         "2021-01-01 00:00:00"
        ],
        [
         "9",
         "New Zealand",
         "Milk Bars",
         "2021-01-01 00:00:00"
        ],
        [
         "10",
         " USA",
         "Milk Bars",
         "2021-01-01 00:00:00"
        ],
        [
         "11",
         "   New Zealand",
         "Organic Choco Syrup",
         "2021-01-01 00:00:00"
        ],
        [
         "12",
         "   Canada",
         "Mint Chip Choco",
         "2021-01-01 00:00:00"
        ],
        [
         "13",
         "USA",
         "Orange Choco",
         "2021-01-01 00:00:00"
        ],
        [
         "14",
         "  India",
         "Eclairs",
         "2021-01-01 00:00:00"
        ],
        [
         "15",
         "   India",
         "After Nines",
         "2021-01-01 00:00:00"
        ],
        [
         "16",
         " UK",
         "Mint Chip Choco",
         "2021-01-01 00:00:00"
        ],
        [
         "17",
         " New Zealand",
         "85% Dark Bars",
         "2021-01-01 00:00:00"
        ],
        [
         "18",
         "Canada",
         "Spicy Special Slims",
         "2021-01-01 00:00:00"
        ],
        [
         "19",
         "   USA",
         "Drinking Coco",
         "2021-01-01 00:00:00"
        ],
        [
         "20",
         "   New Zealand",
         "Peanut Butter Cubes",
         "2021-01-01 00:00:00"
        ],
        [
         "21",
         "   USA",
         "Peanut Butter Cubes",
         "2021-01-01 00:00:00"
        ],
        [
         "22",
         "  USA",
         "Raspberry Choco",
         "2021-01-01 00:00:00"
        ],
        [
         "23",
         " USA",
         "Choco Coated Almonds",
         "2021-01-04 00:00:00"
        ],
        [
         "24",
         "  UK",
         "Choco Coated Almonds",
         "2021-01-04 00:00:00"
        ],
        [
         "25",
         "UK",
         "Orange Choco",
         "2021-01-04 00:00:00"
        ],
        [
         "26",
         "  UK",
         "Fruit & Nut Bars",
         "2021-01-04 00:00:00"
        ],
        [
         "27",
         "   USA",
         "Caramel Stuffed Bars",
         "2021-01-04 00:00:00"
        ],
        [
         "28",
         "  UK",
         "Caramel Stuffed Bars",
         "2021-01-04 00:00:00"
        ],
        [
         "29",
         "Canada",
         "50% Dark Bites",
         "2021-01-04 00:00:00"
        ],
        [
         "30",
         "Canada",
         "70% Dark Bites",
         "2021-01-04 00:00:00"
        ],
        [
         "31",
         "  India",
         "Organic Choco Syrup",
         "2021-01-05 00:00:00"
        ],
        [
         "32",
         "  UK",
         "Almond Choco",
         "2021-01-05 00:00:00"
        ],
        [
         "33",
         " Australia",
         "85% Dark Bars",
         "2021-01-05 00:00:00"
        ],
        [
         "34",
         "   New Zealand",
         "85% Dark Bars",
         "2021-01-05 00:00:00"
        ],
        [
         "35",
         "UK",
         "Fruit & Nut Bars",
         "2021-01-05 00:00:00"
        ],
        [
         "36",
         "New Zealand",
         "After Nines",
         "2021-01-05 00:00:00"
        ],
        [
         "37",
         " USA",
         "Orange Choco",
         "2021-01-05 00:00:00"
        ],
        [
         "38",
         "   New Zealand",
         "Raspberry Choco",
         "2021-01-05 00:00:00"
        ],
        [
         "39",
         "  New Zealand",
         "70% Dark Bites",
         "2021-01-05 00:00:00"
        ],
        [
         "40",
         " India",
         "Orange Choco",
         "2021-01-05 00:00:00"
        ],
        [
         "41",
         "  UK",
         "After Nines",
         "2021-01-05 00:00:00"
        ],
        [
         "42",
         "India",
         "Smooth Sliky Salty",
         "2021-01-06 00:00:00"
        ],
        [
         "43",
         "India",
         "After Nines",
         "2021-01-06 00:00:00"
        ],
        [
         "44",
         "UK",
         "Peanut Butter Cubes",
         "2021-01-06 00:00:00"
        ],
        [
         "45",
         "   Australia",
         "Orange Choco",
         "2021-01-06 00:00:00"
        ],
        [
         "46",
         "   UK",
         "70% Dark Bites",
         "2021-01-06 00:00:00"
        ],
        [
         "47",
         "USA",
         "Baker's Choco Chips",
         "2021-01-06 00:00:00"
        ],
        [
         "48",
         "  USA",
         "85% Dark Bars",
         "2021-01-06 00:00:00"
        ],
        [
         "49",
         "  USA",
         "Smooth Sliky Salty",
         "2021-01-06 00:00:00"
        ]
       ],
       "shape": {
        "columns": 3,
        "rows": 3790
       }
      },
      "text/html": [
       "<div>\n",
       "<style scoped>\n",
       "    .dataframe tbody tr th:only-of-type {\n",
       "        vertical-align: middle;\n",
       "    }\n",
       "\n",
       "    .dataframe tbody tr th {\n",
       "        vertical-align: top;\n",
       "    }\n",
       "\n",
       "    .dataframe thead th {\n",
       "        text-align: right;\n",
       "    }\n",
       "</style>\n",
       "<table border=\"1\" class=\"dataframe\">\n",
       "  <thead>\n",
       "    <tr style=\"text-align: right;\">\n",
       "      <th></th>\n",
       "      <th>Geography</th>\n",
       "      <th>Product</th>\n",
       "      <th>Date</th>\n",
       "    </tr>\n",
       "  </thead>\n",
       "  <tbody>\n",
       "    <tr>\n",
       "      <th>0</th>\n",
       "      <td>New Zealand</td>\n",
       "      <td>Raspberry Choco</td>\n",
       "      <td>2021-01-01</td>\n",
       "    </tr>\n",
       "    <tr>\n",
       "      <th>1</th>\n",
       "      <td>Canada</td>\n",
       "      <td>White Choc</td>\n",
       "      <td>2021-01-01</td>\n",
       "    </tr>\n",
       "    <tr>\n",
       "      <th>2</th>\n",
       "      <td>USA</td>\n",
       "      <td>99% Dark &amp; Pure</td>\n",
       "      <td>2021-01-01</td>\n",
       "    </tr>\n",
       "    <tr>\n",
       "      <th>3</th>\n",
       "      <td>New Zealand</td>\n",
       "      <td>Baker's Choco Chips</td>\n",
       "      <td>2021-01-01</td>\n",
       "    </tr>\n",
       "    <tr>\n",
       "      <th>4</th>\n",
       "      <td>USA</td>\n",
       "      <td>Manuka Honey Choco</td>\n",
       "      <td>2021-01-01</td>\n",
       "    </tr>\n",
       "    <tr>\n",
       "      <th>...</th>\n",
       "      <td>...</td>\n",
       "      <td>...</td>\n",
       "      <td>...</td>\n",
       "    </tr>\n",
       "    <tr>\n",
       "      <th>3785</th>\n",
       "      <td>UK</td>\n",
       "      <td>70% Dark Bites</td>\n",
       "      <td>2022-01-04</td>\n",
       "    </tr>\n",
       "    <tr>\n",
       "      <th>3786</th>\n",
       "      <td>India</td>\n",
       "      <td>Drinking Coco</td>\n",
       "      <td>2022-01-19</td>\n",
       "    </tr>\n",
       "    <tr>\n",
       "      <th>3787</th>\n",
       "      <td>Australia</td>\n",
       "      <td>Mint Chip Choco</td>\n",
       "      <td>2022-01-18</td>\n",
       "    </tr>\n",
       "    <tr>\n",
       "      <th>3788</th>\n",
       "      <td>Australia</td>\n",
       "      <td>Spicy Special Slims</td>\n",
       "      <td>2022-01-03</td>\n",
       "    </tr>\n",
       "    <tr>\n",
       "      <th>3789</th>\n",
       "      <td>New Zealand</td>\n",
       "      <td>Mint Chip Choco</td>\n",
       "      <td>2022-01-21</td>\n",
       "    </tr>\n",
       "  </tbody>\n",
       "</table>\n",
       "<p>3790 rows × 3 columns</p>\n",
       "</div>"
      ],
      "text/plain": [
       "          Geography              Product       Date\n",
       "0       New Zealand      Raspberry Choco 2021-01-01\n",
       "1            Canada           White Choc 2021-01-01\n",
       "2               USA      99% Dark & Pure 2021-01-01\n",
       "3       New Zealand  Baker's Choco Chips 2021-01-01\n",
       "4               USA   Manuka Honey Choco 2021-01-01\n",
       "...             ...                  ...        ...\n",
       "3785           UK         70% Dark Bites 2022-01-04\n",
       "3786         India         Drinking Coco 2022-01-19\n",
       "3787     Australia       Mint Chip Choco 2022-01-18\n",
       "3788     Australia   Spicy Special Slims 2022-01-03\n",
       "3789   New Zealand       Mint Chip Choco 2022-01-21\n",
       "\n",
       "[3790 rows x 3 columns]"
      ]
     },
     "execution_count": 15,
     "metadata": {},
     "output_type": "execute_result"
    }
   ],
   "source": [
    "sales.iloc[0:-1,1:4]"
   ]
  },
  {
   "cell_type": "code",
   "execution_count": 16,
   "id": "283087b4",
   "metadata": {},
   "outputs": [],
   "source": [
    "# lets work with index...using loc and iloc...\n",
    "sales.set_index(\"Geography\", inplace = True)"
   ]
  },
  {
   "cell_type": "code",
   "execution_count": 17,
   "id": "142941b8",
   "metadata": {},
   "outputs": [
    {
     "data": {
      "application/vnd.microsoft.datawrangler.viewer.v0+json": {
       "columns": [
        {
         "name": "Geography",
         "rawType": "object",
         "type": "string"
        },
        {
         "name": "Sales Person",
         "rawType": "object",
         "type": "string"
        },
        {
         "name": "Product",
         "rawType": "object",
         "type": "string"
        },
        {
         "name": "Date",
         "rawType": "datetime64[ns]",
         "type": "datetime"
        },
        {
         "name": "Amount",
         "rawType": "int64",
         "type": "integer"
        },
        {
         "name": "Boxes",
         "rawType": "int64",
         "type": "integer"
        }
       ],
       "ref": "92112442-cf23-4e49-90cf-c289aa34528b",
       "rows": [
        [
         "  New Zealand",
         "Barr Faughny",
         "Raspberry Choco",
         "2021-01-01 00:00:00",
         "8414",
         "495"
        ],
        [
         "   Canada",
         "Dennison Crosswaite",
         "White Choc",
         "2021-01-01 00:00:00",
         "532",
         "54"
        ],
        [
         "   USA",
         "Karlen McCaffrey",
         "99% Dark & Pure",
         "2021-01-01 00:00:00",
         "5376",
         "269"
        ]
       ],
       "shape": {
        "columns": 5,
        "rows": 3
       }
      },
      "text/html": [
       "<div>\n",
       "<style scoped>\n",
       "    .dataframe tbody tr th:only-of-type {\n",
       "        vertical-align: middle;\n",
       "    }\n",
       "\n",
       "    .dataframe tbody tr th {\n",
       "        vertical-align: top;\n",
       "    }\n",
       "\n",
       "    .dataframe thead th {\n",
       "        text-align: right;\n",
       "    }\n",
       "</style>\n",
       "<table border=\"1\" class=\"dataframe\">\n",
       "  <thead>\n",
       "    <tr style=\"text-align: right;\">\n",
       "      <th></th>\n",
       "      <th>Sales Person</th>\n",
       "      <th>Product</th>\n",
       "      <th>Date</th>\n",
       "      <th>Amount</th>\n",
       "      <th>Boxes</th>\n",
       "    </tr>\n",
       "    <tr>\n",
       "      <th>Geography</th>\n",
       "      <th></th>\n",
       "      <th></th>\n",
       "      <th></th>\n",
       "      <th></th>\n",
       "      <th></th>\n",
       "    </tr>\n",
       "  </thead>\n",
       "  <tbody>\n",
       "    <tr>\n",
       "      <th>New Zealand</th>\n",
       "      <td>Barr Faughny</td>\n",
       "      <td>Raspberry Choco</td>\n",
       "      <td>2021-01-01</td>\n",
       "      <td>8414</td>\n",
       "      <td>495</td>\n",
       "    </tr>\n",
       "    <tr>\n",
       "      <th>Canada</th>\n",
       "      <td>Dennison Crosswaite</td>\n",
       "      <td>White Choc</td>\n",
       "      <td>2021-01-01</td>\n",
       "      <td>532</td>\n",
       "      <td>54</td>\n",
       "    </tr>\n",
       "    <tr>\n",
       "      <th>USA</th>\n",
       "      <td>Karlen McCaffrey</td>\n",
       "      <td>99% Dark &amp; Pure</td>\n",
       "      <td>2021-01-01</td>\n",
       "      <td>5376</td>\n",
       "      <td>269</td>\n",
       "    </tr>\n",
       "  </tbody>\n",
       "</table>\n",
       "</div>"
      ],
      "text/plain": [
       "                    Sales Person          Product       Date  Amount  Boxes\n",
       "Geography                                                                  \n",
       "New Zealand         Barr Faughny  Raspberry Choco 2021-01-01    8414    495\n",
       " Canada      Dennison Crosswaite       White Choc 2021-01-01     532     54\n",
       " USA            Karlen McCaffrey  99% Dark & Pure 2021-01-01    5376    269"
      ]
     },
     "execution_count": 17,
     "metadata": {},
     "output_type": "execute_result"
    }
   ],
   "source": [
    "sales.head(3)"
   ]
  },
  {
   "cell_type": "code",
   "execution_count": 18,
   "id": "b33b694d",
   "metadata": {},
   "outputs": [
    {
     "data": {
      "text/plain": [
       "Index(['  New Zealand', '   Canada', '   USA', 'New Zealand', '   USA',\n",
       "       '   India', '   UK', '  Australia', '  Australia', 'New Zealand',\n",
       "       ...\n",
       "       'New Zealand   ', 'India', 'India ', 'USA ', 'UK  ', 'India ',\n",
       "       'Australia ', 'Australia ', 'New Zealand ', 'USA   '],\n",
       "      dtype='object', name='Geography', length=3791)"
      ]
     },
     "execution_count": 18,
     "metadata": {},
     "output_type": "execute_result"
    }
   ],
   "source": [
    "sales.index"
   ]
  },
  {
   "cell_type": "code",
   "execution_count": 19,
   "id": "e3ad5220",
   "metadata": {},
   "outputs": [
    {
     "data": {
      "text/plain": [
       "Index(['   Australia', '   Canada', '   India', '   New Zealand', '   UK',\n",
       "       '   USA', '  Australia', '  Canada', '  India', '  New Zealand', '  UK',\n",
       "       '  USA', ' Australia', ' Canada', ' India', ' New Zealand', ' UK',\n",
       "       ' USA', 'Australia', 'Australia ', 'Australia  ', 'Australia   ',\n",
       "       'Canada', 'Canada ', 'Canada  ', 'Canada   ', 'India', 'India ',\n",
       "       'India  ', 'India   ', 'New Zealand', 'New Zealand ', 'New Zealand  ',\n",
       "       'New Zealand   ', 'UK', 'UK ', 'UK  ', 'UK   ', 'USA', 'USA ', 'USA  ',\n",
       "       'USA   '],\n",
       "      dtype='object', name='Geography')"
      ]
     },
     "execution_count": 19,
     "metadata": {},
     "output_type": "execute_result"
    }
   ],
   "source": [
    "# list af all the locations or countries where all the customers purchase from...\n",
    "unique_index = sales.index.unique().sort_values()\n",
    "unique_index"
   ]
  },
  {
   "cell_type": "code",
   "execution_count": 20,
   "id": "439e988a",
   "metadata": {},
   "outputs": [
    {
     "data": {
      "application/vnd.microsoft.datawrangler.viewer.v0+json": {
       "columns": [
        {
         "name": "Geography",
         "rawType": "object",
         "type": "string"
        },
        {
         "name": "count",
         "rawType": "int64",
         "type": "integer"
        }
       ],
       "ref": "34390d56-9a16-4d7f-9281-775a61eabf6a",
       "rows": [
        [
         "India",
         "166"
        ],
        [
         "UK",
         "165"
        ],
        [
         "USA",
         "157"
        ],
        [
         "New Zealand",
         "157"
        ],
        [
         "   Australia",
         "153"
        ],
        [
         "  Canada",
         "152"
        ],
        [
         "   Canada",
         "149"
        ],
        [
         "Canada",
         "147"
        ],
        [
         "   USA",
         "145"
        ],
        [
         "   New Zealand",
         "145"
        ]
       ],
       "shape": {
        "columns": 1,
        "rows": 10
       }
      },
      "text/plain": [
       "Geography\n",
       "India             166\n",
       "UK                165\n",
       "USA               157\n",
       "New Zealand       157\n",
       "   Australia      153\n",
       "  Canada          152\n",
       "   Canada         149\n",
       "Canada            147\n",
       "   USA            145\n",
       "   New Zealand    145\n",
       "Name: count, dtype: int64"
      ]
     },
     "execution_count": 20,
     "metadata": {},
     "output_type": "execute_result"
    }
   ],
   "source": [
    "# top 10 countries or locations where most patronage are received...\n",
    "sales.index.value_counts().head(10)"
   ]
  },
  {
   "cell_type": "code",
   "execution_count": 21,
   "id": "d0f4d59d",
   "metadata": {},
   "outputs": [
    {
     "data": {
      "text/plain": [
       "<Axes: xlabel='Geography'>"
      ]
     },
     "execution_count": 21,
     "metadata": {},
     "output_type": "execute_result"
    },
    {
     "data": {
      "image/png": "[encoded data removed]",
      "text/plain": [
       "<Figure size 640x480 with 1 Axes>"
      ]
     },
     "metadata": {},
     "output_type": "display_data"
    }
   ],
   "source": [
    "sales.index.value_counts().head(10).plot(kind = 'bar')"
   ]
  },
  {
   "cell_type": "code",
   "execution_count": 22,
   "id": "00353513",
   "metadata": {},
   "outputs": [
    {
     "data": {
      "text/plain": [
       "<Axes: xlabel='Geography'>"
      ]
     },
     "execution_count": 22,
     "metadata": {},
     "output_type": "execute_result"
    },
    {
     "data": {
      "image/png": "[encoded data removed]",
      "text/plain": [
       "<Figure size 2000x2000 with 1 Axes>"
      ]
     },
     "metadata": {},
     "output_type": "display_data"
    }
   ],
   "source": [
    "# top 10 countries where most patronage are received....\n",
    "sales.index.value_counts().head(100).plot(kind = 'bar',figsize = (20,20))"
   ]
  },
  {
   "cell_type": "code",
   "execution_count": 23,
   "id": "48b1b622",
   "metadata": {},
   "outputs": [
    {
     "data": {
      "text/plain": [
       "42"
      ]
     },
     "execution_count": 23,
     "metadata": {},
     "output_type": "execute_result"
    }
   ],
   "source": [
    "#  Checking the unique number of index\n",
    "unique_index.nunique()"
   ]
  },
  {
   "cell_type": "code",
   "execution_count": 24,
   "id": "a6800f22",
   "metadata": {},
   "outputs": [
    {
     "data": {
      "text/plain": [
       "Index(['Sales Person', 'Product', 'Date', 'Amount', 'Boxes'], dtype='object')"
      ]
     },
     "execution_count": 24,
     "metadata": {},
     "output_type": "execute_result"
    }
   ],
   "source": [
    "sales.columns"
   ]
  },
  {
   "cell_type": "code",
   "execution_count": null,
   "id": "153704e7",
   "metadata": {},
   "outputs": [
    {
     "data": {
      "text/plain": [
       "5"
      ]
     },
     "execution_count": 25,
     "metadata": {},
     "output_type": "execute_result"
    }
   ],
   "source": [
    "# Number of elements in sales column\n",
    "len(sales.columns)"
   ]
  },
  {
   "cell_type": "code",
   "execution_count": null,
   "id": "9b038865",
   "metadata": {},
   "outputs": [],
   "source": []
  },
  {
   "cell_type": "code",
   "execution_count": 27,
   "id": "eba28768",
   "metadata": {},
   "outputs": [
    {
     "data": {
      "application/vnd.microsoft.datawrangler.viewer.v0+json": {
       "columns": [
        {
         "name": "Geography",
         "rawType": "object",
         "type": "string"
        },
        {
         "name": "Sales Person",
         "rawType": "object",
         "type": "string"
        },
        {
         "name": "Product",
         "rawType": "object",
         "type": "string"
        },
        {
         "name": "Date",
         "rawType": "datetime64[ns]",
         "type": "datetime"
        },
        {
         "name": "Amount",
         "rawType": "int64",
         "type": "integer"
        },
        {
         "name": "Boxes",
         "rawType": "int64",
         "type": "integer"
        }
       ],
       "ref": "0ba3c758-769c-4905-bde1-a18dc1efbb45",
       "rows": [
        [
         "Canada",
         "Beverie Moffet",
         "Spicy Special Slims",
         "2021-01-01 00:00:00",
         "2387",
         "89"
        ],
        [
         "Canada",
         "Van Tuxwell",
         "50% Dark Bites",
         "2021-01-04 00:00:00",
         "3920",
         "262"
        ],
        [
         "Canada",
         "Beverie Moffet",
         "70% Dark Bites",
         "2021-01-04 00:00:00",
         "7539",
         "943"
        ],
        [
         "Canada",
         "Dennison Crosswaite",
         "Baker's Choco Chips",
         "2021-01-12 00:00:00",
         "2653",
         "332"
        ],
        [
         "Canada",
         "Madelene Upcott",
         "Smooth Sliky Salty",
         "2021-01-14 00:00:00",
         "6580",
         "347"
        ],
        [
         "Canada",
         "Husein Augar",
         "Organic Choco Syrup",
         "2021-01-19 00:00:00",
         "896",
         "32"
        ],
        [
         "Canada",
         "Van Tuxwell",
         "85% Dark Bars",
         "2021-01-21 00:00:00",
         "4200",
         "248"
        ],
        [
         "Canada",
         "Ches Bonnell",
         "Smooth Sliky Salty",
         "2021-01-22 00:00:00",
         "5971",
         "460"
        ],
        [
         "Canada",
         "Brien Boise",
         "Caramel Stuffed Bars",
         "2021-01-22 00:00:00",
         "2366",
         "79"
        ],
        [
         "Canada",
         "Andria Kimpton",
         "Smooth Sliky Salty",
         "2021-01-25 00:00:00",
         "5775",
         "361"
        ],
        [
         "Canada",
         "Jan Morforth",
         "Organic Choco Syrup",
         "2021-01-26 00:00:00",
         "2296",
         "96"
        ],
        [
         "Canada",
         "Mallorie Waber",
         "Orange Choco",
         "2021-01-27 00:00:00",
         "2219",
         "247"
        ],
        [
         "Canada",
         "Karlen McCaffrey",
         "85% Dark Bars",
         "2021-02-01 00:00:00",
         "10220",
         "538"
        ],
        [
         "Canada",
         "Rafaelita Blaksland",
         "White Choc",
         "2021-02-03 00:00:00",
         "2835",
         "189"
        ],
        [
         "Canada",
         "Van Tuxwell",
         "Eclairs",
         "2021-02-04 00:00:00",
         "2646",
         "166"
        ],
        [
         "Canada",
         "Barr Faughny",
         "Caramel Stuffed Bars",
         "2021-02-10 00:00:00",
         "1750",
         "63"
        ],
        [
         "Canada",
         "Jan Morforth",
         "Manuka Honey Choco",
         "2021-02-11 00:00:00",
         "1463",
         "59"
        ],
        [
         "Canada",
         "Kaine Padly",
         "Spicy Special Slims",
         "2021-02-15 00:00:00",
         "1204",
         "61"
        ],
        [
         "Canada",
         "Dennison Crosswaite",
         "Manuka Honey Choco",
         "2021-02-18 00:00:00",
         "5453",
         "166"
        ],
        [
         "Canada",
         "Jehu Rudeforth",
         "50% Dark Bites",
         "2021-02-22 00:00:00",
         "1015",
         "64"
        ],
        [
         "Canada",
         "Dotty Strutley",
         "50% Dark Bites",
         "2021-02-23 00:00:00",
         "16247",
         "2031"
        ],
        [
         "Canada",
         "Rafaelita Blaksland",
         "Spicy Special Slims",
         "2021-02-24 00:00:00",
         "2681",
         "117"
        ],
        [
         "Canada",
         "Wilone O'Kielt",
         "Orange Choco",
         "2021-03-05 00:00:00",
         "6258",
         "626"
        ],
        [
         "Canada",
         "Dotty Strutley",
         "Milk Bars",
         "2021-03-08 00:00:00",
         "1358",
         "53"
        ],
        [
         "Canada",
         "Dennison Crosswaite",
         "Almond Choco",
         "2021-03-08 00:00:00",
         "1246",
         "70"
        ],
        [
         "Canada",
         "Curtice Advani",
         "Fruit & Nut Bars",
         "2021-03-08 00:00:00",
         "1351",
         "123"
        ],
        [
         "Canada",
         "Jan Morforth",
         "Fruit & Nut Bars",
         "2021-03-08 00:00:00",
         "1540",
         "154"
        ],
        [
         "Canada",
         "Curtice Advani",
         "Manuka Honey Choco",
         "2021-03-08 00:00:00",
         "2730",
         "95"
        ],
        [
         "Canada",
         "Roddy Speechley",
         "Mint Chip Choco",
         "2021-03-15 00:00:00",
         "371",
         "20"
        ],
        [
         "Canada",
         "Dennison Crosswaite",
         "Peanut Butter Cubes",
         "2021-03-18 00:00:00",
         "1645",
         "75"
        ],
        [
         "Canada",
         "Andria Kimpton",
         "Spicy Special Slims",
         "2021-03-19 00:00:00",
         "1302",
         "55"
        ],
        [
         "Canada",
         "Beverie Moffet",
         "Caramel Stuffed Bars",
         "2021-03-22 00:00:00",
         "13832",
         "577"
        ],
        [
         "Canada",
         "Ches Bonnell",
         "Mint Chip Choco",
         "2021-03-23 00:00:00",
         "3143",
         "158"
        ],
        [
         "Canada",
         "Gunar Cockshoot",
         "Caramel Stuffed Bars",
         "2021-03-26 00:00:00",
         "4004",
         "149"
        ],
        [
         "Canada",
         "Dotty Strutley",
         "85% Dark Bars",
         "2021-03-30 00:00:00",
         "1358",
         "68"
        ],
        [
         "Canada",
         "Dotty Strutley",
         "Eclairs",
         "2021-04-07 00:00:00",
         "5313",
         "380"
        ],
        [
         "Canada",
         "Andria Kimpton",
         "Manuka Honey Choco",
         "2021-04-07 00:00:00",
         "11207",
         "362"
        ],
        [
         "Canada",
         "Barr Faughny",
         "White Choc",
         "2021-04-13 00:00:00",
         "868",
         "87"
        ],
        [
         "Canada",
         "Jan Morforth",
         "Eclairs",
         "2021-04-15 00:00:00",
         "12460",
         "623"
        ],
        [
         "Canada",
         "Kelci Walkden",
         "Organic Choco Syrup",
         "2021-04-16 00:00:00",
         "2030",
         "89"
        ],
        [
         "Canada",
         "Andria Kimpton",
         "Eclairs",
         "2021-04-16 00:00:00",
         "9352",
         "446"
        ],
        [
         "Canada",
         "Oby Sorrel",
         "Baker's Choco Chips",
         "2021-04-21 00:00:00",
         "5516",
         "613"
        ],
        [
         "Canada",
         "Madelene Upcott",
         "99% Dark & Pure",
         "2021-04-22 00:00:00",
         "10297",
         "430"
        ],
        [
         "Canada",
         "Oby Sorrel",
         "Almond Choco",
         "2021-04-23 00:00:00",
         "12236",
         "816"
        ],
        [
         "Canada",
         "Andria Kimpton",
         "White Choc",
         "2021-04-30 00:00:00",
         "8218",
         "822"
        ],
        [
         "Canada",
         "Dennison Crosswaite",
         "After Nines",
         "2021-05-04 00:00:00",
         "13650",
         "427"
        ],
        [
         "Canada",
         "Husein Augar",
         "Almond Choco",
         "2021-05-10 00:00:00",
         "3682",
         "168"
        ],
        [
         "Canada",
         "Beverie Moffet",
         "White Choc",
         "2021-05-14 00:00:00",
         "2597",
         "200"
        ],
        [
         "Canada",
         "Brien Boise",
         "Almond Choco",
         "2021-05-19 00:00:00",
         "8995",
         "450"
        ],
        [
         "Canada",
         "Marney O'Breen",
         "White Choc",
         "2021-05-19 00:00:00",
         "6860",
         "490"
        ]
       ],
       "shape": {
        "columns": 5,
        "rows": 147
       }
      },
      "text/html": [
       "<div>\n",
       "<style scoped>\n",
       "    .dataframe tbody tr th:only-of-type {\n",
       "        vertical-align: middle;\n",
       "    }\n",
       "\n",
       "    .dataframe tbody tr th {\n",
       "        vertical-align: top;\n",
       "    }\n",
       "\n",
       "    .dataframe thead th {\n",
       "        text-align: right;\n",
       "    }\n",
       "</style>\n",
       "<table border=\"1\" class=\"dataframe\">\n",
       "  <thead>\n",
       "    <tr style=\"text-align: right;\">\n",
       "      <th></th>\n",
       "      <th>Sales Person</th>\n",
       "      <th>Product</th>\n",
       "      <th>Date</th>\n",
       "      <th>Amount</th>\n",
       "      <th>Boxes</th>\n",
       "    </tr>\n",
       "    <tr>\n",
       "      <th>Geography</th>\n",
       "      <th></th>\n",
       "      <th></th>\n",
       "      <th></th>\n",
       "      <th></th>\n",
       "      <th></th>\n",
       "    </tr>\n",
       "  </thead>\n",
       "  <tbody>\n",
       "    <tr>\n",
       "      <th>Canada</th>\n",
       "      <td>Beverie Moffet</td>\n",
       "      <td>Spicy Special Slims</td>\n",
       "      <td>2021-01-01</td>\n",
       "      <td>2387</td>\n",
       "      <td>89</td>\n",
       "    </tr>\n",
       "    <tr>\n",
       "      <th>Canada</th>\n",
       "      <td>Van Tuxwell</td>\n",
       "      <td>50% Dark Bites</td>\n",
       "      <td>2021-01-04</td>\n",
       "      <td>3920</td>\n",
       "      <td>262</td>\n",
       "    </tr>\n",
       "    <tr>\n",
       "      <th>Canada</th>\n",
       "      <td>Beverie Moffet</td>\n",
       "      <td>70% Dark Bites</td>\n",
       "      <td>2021-01-04</td>\n",
       "      <td>7539</td>\n",
       "      <td>943</td>\n",
       "    </tr>\n",
       "    <tr>\n",
       "      <th>Canada</th>\n",
       "      <td>Dennison Crosswaite</td>\n",
       "      <td>Baker's Choco Chips</td>\n",
       "      <td>2021-01-12</td>\n",
       "      <td>2653</td>\n",
       "      <td>332</td>\n",
       "    </tr>\n",
       "    <tr>\n",
       "      <th>Canada</th>\n",
       "      <td>Madelene Upcott</td>\n",
       "      <td>Smooth Sliky Salty</td>\n",
       "      <td>2021-01-14</td>\n",
       "      <td>6580</td>\n",
       "      <td>347</td>\n",
       "    </tr>\n",
       "    <tr>\n",
       "      <th>...</th>\n",
       "      <td>...</td>\n",
       "      <td>...</td>\n",
       "      <td>...</td>\n",
       "      <td>...</td>\n",
       "      <td>...</td>\n",
       "    </tr>\n",
       "    <tr>\n",
       "      <th>Canada</th>\n",
       "      <td>Kaine Padly</td>\n",
       "      <td>Mint Chip Choco</td>\n",
       "      <td>2022-01-17</td>\n",
       "      <td>2569</td>\n",
       "      <td>123</td>\n",
       "    </tr>\n",
       "    <tr>\n",
       "      <th>Canada</th>\n",
       "      <td>Mallorie Waber</td>\n",
       "      <td>Choco Coated Almonds</td>\n",
       "      <td>2022-01-24</td>\n",
       "      <td>3444</td>\n",
       "      <td>182</td>\n",
       "    </tr>\n",
       "    <tr>\n",
       "      <th>Canada</th>\n",
       "      <td>Barr Faughny</td>\n",
       "      <td>Smooth Sliky Salty</td>\n",
       "      <td>2022-01-24</td>\n",
       "      <td>10794</td>\n",
       "      <td>771</td>\n",
       "    </tr>\n",
       "    <tr>\n",
       "      <th>Canada</th>\n",
       "      <td>Kaine Padly</td>\n",
       "      <td>Choco Coated Almonds</td>\n",
       "      <td>2022-01-04</td>\n",
       "      <td>6720</td>\n",
       "      <td>396</td>\n",
       "    </tr>\n",
       "    <tr>\n",
       "      <th>Canada</th>\n",
       "      <td>Dennison Crosswaite</td>\n",
       "      <td>Choco Coated Almonds</td>\n",
       "      <td>2022-01-06</td>\n",
       "      <td>5481</td>\n",
       "      <td>275</td>\n",
       "    </tr>\n",
       "  </tbody>\n",
       "</table>\n",
       "<p>147 rows × 5 columns</p>\n",
       "</div>"
      ],
      "text/plain": [
       "                  Sales Person               Product       Date  Amount  Boxes\n",
       "Geography                                                                     \n",
       "Canada          Beverie Moffet   Spicy Special Slims 2021-01-01    2387     89\n",
       "Canada             Van Tuxwell        50% Dark Bites 2021-01-04    3920    262\n",
       "Canada          Beverie Moffet        70% Dark Bites 2021-01-04    7539    943\n",
       "Canada     Dennison Crosswaite   Baker's Choco Chips 2021-01-12    2653    332\n",
       "Canada         Madelene Upcott    Smooth Sliky Salty 2021-01-14    6580    347\n",
       "...                        ...                   ...        ...     ...    ...\n",
       "Canada             Kaine Padly       Mint Chip Choco 2022-01-17    2569    123\n",
       "Canada          Mallorie Waber  Choco Coated Almonds 2022-01-24    3444    182\n",
       "Canada            Barr Faughny    Smooth Sliky Salty 2022-01-24   10794    771\n",
       "Canada             Kaine Padly  Choco Coated Almonds 2022-01-04    6720    396\n",
       "Canada     Dennison Crosswaite  Choco Coated Almonds 2022-01-06    5481    275\n",
       "\n",
       "[147 rows x 5 columns]"
      ]
     },
     "execution_count": 27,
     "metadata": {},
     "output_type": "execute_result"
    }
   ],
   "source": [
    "sales.loc[\"Canada\"] # I selected any of the unique values in the index..."
   ]
  },
  {
   "cell_type": "code",
   "execution_count": 28,
   "id": "a8b4a1e8",
   "metadata": {},
   "outputs": [
    {
     "data": {
      "application/vnd.microsoft.datawrangler.viewer.v0+json": {
       "columns": [
        {
         "name": "Geography",
         "rawType": "object",
         "type": "string"
        },
        {
         "name": "Sales Person",
         "rawType": "object",
         "type": "string"
        },
        {
         "name": "Product",
         "rawType": "object",
         "type": "string"
        },
        {
         "name": "Date",
         "rawType": "datetime64[ns]",
         "type": "datetime"
        },
        {
         "name": "Amount",
         "rawType": "int64",
         "type": "integer"
        },
        {
         "name": "Boxes",
         "rawType": "int64",
         "type": "integer"
        }
       ],
       "ref": "cad45864-2c78-4e55-aa8b-c25fef4ab572",
       "rows": [
        [
         "  New Zealand",
         "Barr Faughny",
         "Raspberry Choco",
         "2021-01-01 00:00:00",
         "8414",
         "495"
        ],
        [
         "   Canada",
         "Dennison Crosswaite",
         "White Choc",
         "2021-01-01 00:00:00",
         "532",
         "54"
        ],
        [
         "   USA",
         "Karlen McCaffrey",
         "99% Dark & Pure",
         "2021-01-01 00:00:00",
         "5376",
         "269"
        ]
       ],
       "shape": {
        "columns": 5,
        "rows": 3
       }
      },
      "text/html": [
       "<div>\n",
       "<style scoped>\n",
       "    .dataframe tbody tr th:only-of-type {\n",
       "        vertical-align: middle;\n",
       "    }\n",
       "\n",
       "    .dataframe tbody tr th {\n",
       "        vertical-align: top;\n",
       "    }\n",
       "\n",
       "    .dataframe thead th {\n",
       "        text-align: right;\n",
       "    }\n",
       "</style>\n",
       "<table border=\"1\" class=\"dataframe\">\n",
       "  <thead>\n",
       "    <tr style=\"text-align: right;\">\n",
       "      <th></th>\n",
       "      <th>Sales Person</th>\n",
       "      <th>Product</th>\n",
       "      <th>Date</th>\n",
       "      <th>Amount</th>\n",
       "      <th>Boxes</th>\n",
       "    </tr>\n",
       "    <tr>\n",
       "      <th>Geography</th>\n",
       "      <th></th>\n",
       "      <th></th>\n",
       "      <th></th>\n",
       "      <th></th>\n",
       "      <th></th>\n",
       "    </tr>\n",
       "  </thead>\n",
       "  <tbody>\n",
       "    <tr>\n",
       "      <th>New Zealand</th>\n",
       "      <td>Barr Faughny</td>\n",
       "      <td>Raspberry Choco</td>\n",
       "      <td>2021-01-01</td>\n",
       "      <td>8414</td>\n",
       "      <td>495</td>\n",
       "    </tr>\n",
       "    <tr>\n",
       "      <th>Canada</th>\n",
       "      <td>Dennison Crosswaite</td>\n",
       "      <td>White Choc</td>\n",
       "      <td>2021-01-01</td>\n",
       "      <td>532</td>\n",
       "      <td>54</td>\n",
       "    </tr>\n",
       "    <tr>\n",
       "      <th>USA</th>\n",
       "      <td>Karlen McCaffrey</td>\n",
       "      <td>99% Dark &amp; Pure</td>\n",
       "      <td>2021-01-01</td>\n",
       "      <td>5376</td>\n",
       "      <td>269</td>\n",
       "    </tr>\n",
       "  </tbody>\n",
       "</table>\n",
       "</div>"
      ],
      "text/plain": [
       "                    Sales Person          Product       Date  Amount  Boxes\n",
       "Geography                                                                  \n",
       "New Zealand         Barr Faughny  Raspberry Choco 2021-01-01    8414    495\n",
       " Canada      Dennison Crosswaite       White Choc 2021-01-01     532     54\n",
       " USA            Karlen McCaffrey  99% Dark & Pure 2021-01-01    5376    269"
      ]
     },
     "execution_count": 28,
     "metadata": {},
     "output_type": "execute_result"
    }
   ],
   "source": [
    "sales.iloc[0:3]"
   ]
  },
  {
   "cell_type": "code",
   "execution_count": 29,
   "id": "c334a6e1",
   "metadata": {},
   "outputs": [],
   "source": [
    "# Filtering/ Masking...\n",
    "# Using Booleans \"AND\" & \"OR\"\n",
    "# AND in pandas is written as \"&\"\n",
    "# OR in pandas is written as \"|\"\n",
    "#-------------------------------------------------#\n"
   ]
  },
  {
   "cell_type": "code",
   "execution_count": 31,
   "id": "5de26cc9",
   "metadata": {},
   "outputs": [
    {
     "data": {
      "application/vnd.microsoft.datawrangler.viewer.v0+json": {
       "columns": [
        {
         "name": "Geography",
         "rawType": "object",
         "type": "string"
        },
        {
         "name": "Sales Person",
         "rawType": "object",
         "type": "string"
        },
        {
         "name": "Product",
         "rawType": "object",
         "type": "string"
        },
        {
         "name": "Date",
         "rawType": "datetime64[ns]",
         "type": "datetime"
        },
        {
         "name": "Amount",
         "rawType": "int64",
         "type": "integer"
        },
        {
         "name": "Boxes",
         "rawType": "int64",
         "type": "integer"
        }
       ],
       "ref": "b0085d1f-78c5-44e5-be8a-b68a79f0daad",
       "rows": [
        [
         "   Canada",
         "Dennison Crosswaite",
         "White Choc",
         "2021-01-01 00:00:00",
         "532",
         "54"
        ],
        [
         " New Zealand",
         "Dennison Crosswaite",
         "85% Dark Bars",
         "2021-01-01 00:00:00",
         "2506",
         "148"
        ],
        [
         "   India",
         "Dennison Crosswaite",
         "Mint Chip Choco",
         "2021-01-08 00:00:00",
         "2814",
         "149"
        ],
        [
         "Canada",
         "Dennison Crosswaite",
         "Baker's Choco Chips",
         "2021-01-12 00:00:00",
         "2653",
         "332"
        ],
        [
         "  USA",
         "Dennison Crosswaite",
         "Fruit & Nut Bars",
         "2021-01-14 00:00:00",
         "14532",
         "969"
        ],
        [
         "New Zealand",
         "Dennison Crosswaite",
         "Baker's Choco Chips",
         "2021-01-14 00:00:00",
         "4011",
         "335"
        ],
        [
         "   New Zealand",
         "Dennison Crosswaite",
         "Mint Chip Choco",
         "2021-01-15 00:00:00",
         "3430",
         "202"
        ],
        [
         " UK",
         "Dennison Crosswaite",
         "Orange Choco",
         "2021-01-22 00:00:00",
         "13335",
         "1667"
        ],
        [
         "India",
         "Dennison Crosswaite",
         "99% Dark & Pure",
         "2021-01-25 00:00:00",
         "12194",
         "509"
        ],
        [
         "   USA",
         "Dennison Crosswaite",
         "Choco Coated Almonds",
         "2021-01-25 00:00:00",
         "12782",
         "609"
        ],
        [
         " Canada",
         "Dennison Crosswaite",
         "Mint Chip Choco",
         "2021-01-27 00:00:00",
         "3241",
         "163"
        ],
        [
         "UK",
         "Dennison Crosswaite",
         "Mint Chip Choco",
         "2021-01-29 00:00:00",
         "3514",
         "235"
        ],
        [
         " Canada",
         "Dennison Crosswaite",
         "Spicy Special Slims",
         "2021-02-08 00:00:00",
         "5481",
         "275"
        ],
        [
         " Canada",
         "Dennison Crosswaite",
         "Eclairs",
         "2021-02-17 00:00:00",
         "3227",
         "216"
        ],
        [
         " Australia",
         "Dennison Crosswaite",
         "Caramel Stuffed Bars",
         "2021-02-18 00:00:00",
         "13685",
         "571"
        ],
        [
         "  Australia",
         "Dennison Crosswaite",
         "50% Dark Bites",
         "2021-02-18 00:00:00",
         "12572",
         "1397"
        ],
        [
         "Canada",
         "Dennison Crosswaite",
         "Manuka Honey Choco",
         "2021-02-18 00:00:00",
         "5453",
         "166"
        ],
        [
         "New Zealand",
         "Dennison Crosswaite",
         "Spicy Special Slims",
         "2021-02-19 00:00:00",
         "2100",
         "81"
        ],
        [
         " New Zealand",
         "Dennison Crosswaite",
         "Drinking Coco",
         "2021-02-19 00:00:00",
         "3521",
         "118"
        ],
        [
         "   UK",
         "Dennison Crosswaite",
         "Baker's Choco Chips",
         "2021-02-19 00:00:00",
         "1736",
         "193"
        ],
        [
         " Australia",
         "Dennison Crosswaite",
         "Baker's Choco Chips",
         "2021-02-22 00:00:00",
         "364",
         "31"
        ],
        [
         "  New Zealand",
         "Dennison Crosswaite",
         "70% Dark Bites",
         "2021-02-26 00:00:00",
         "12026",
         "926"
        ],
        [
         "   Australia",
         "Dennison Crosswaite",
         "Manuka Honey Choco",
         "2021-03-01 00:00:00",
         "476",
         "18"
        ],
        [
         "Canada",
         "Dennison Crosswaite",
         "Almond Choco",
         "2021-03-08 00:00:00",
         "1246",
         "70"
        ],
        [
         " Australia",
         "Dennison Crosswaite",
         "Drinking Coco",
         "2021-03-08 00:00:00",
         "1778",
         "66"
        ],
        [
         "Australia",
         "Dennison Crosswaite",
         "99% Dark & Pure",
         "2021-03-11 00:00:00",
         "1358",
         "76"
        ],
        [
         "  India",
         "Dennison Crosswaite",
         "Peanut Butter Cubes",
         "2021-03-12 00:00:00",
         "8309",
         "333"
        ],
        [
         "New Zealand",
         "Dennison Crosswaite",
         "Manuka Honey Choco",
         "2021-03-12 00:00:00",
         "6440",
         "215"
        ],
        [
         " India",
         "Dennison Crosswaite",
         "Eclairs",
         "2021-03-15 00:00:00",
         "1162",
         "62"
        ],
        [
         "   USA",
         "Dennison Crosswaite",
         "Smooth Sliky Salty",
         "2021-03-16 00:00:00",
         "3675",
         "283"
        ],
        [
         "Canada",
         "Dennison Crosswaite",
         "Peanut Butter Cubes",
         "2021-03-18 00:00:00",
         "1645",
         "75"
        ],
        [
         "India",
         "Dennison Crosswaite",
         "After Nines",
         "2021-03-22 00:00:00",
         "5544",
         "185"
        ],
        [
         "  USA",
         "Dennison Crosswaite",
         "After Nines",
         "2021-03-22 00:00:00",
         "252",
         "10"
        ],
        [
         "New Zealand",
         "Dennison Crosswaite",
         "Fruit & Nut Bars",
         "2021-03-23 00:00:00",
         "5544",
         "427"
        ],
        [
         "UK",
         "Dennison Crosswaite",
         "Caramel Stuffed Bars",
         "2021-03-24 00:00:00",
         "11942",
         "543"
        ],
        [
         "   Canada",
         "Dennison Crosswaite",
         "Smooth Sliky Salty",
         "2021-03-29 00:00:00",
         "5271",
         "377"
        ],
        [
         "Australia",
         "Dennison Crosswaite",
         "Eclairs",
         "2021-03-31 00:00:00",
         "259",
         "17"
        ],
        [
         "USA",
         "Dennison Crosswaite",
         "White Choc",
         "2021-04-05 00:00:00",
         "8351",
         "696"
        ],
        [
         "  UK",
         "Dennison Crosswaite",
         "Spicy Special Slims",
         "2021-04-07 00:00:00",
         "9884",
         "396"
        ],
        [
         " Australia",
         "Dennison Crosswaite",
         "Choco Coated Almonds",
         "2021-04-08 00:00:00",
         "11578",
         "552"
        ],
        [
         "   Australia",
         "Dennison Crosswaite",
         "Raspberry Choco",
         "2021-04-15 00:00:00",
         "8463",
         "385"
        ],
        [
         "   Australia",
         "Dennison Crosswaite",
         "Milk Bars",
         "2021-04-15 00:00:00",
         "868",
         "37"
        ],
        [
         "India",
         "Dennison Crosswaite",
         "Milk Bars",
         "2021-04-16 00:00:00",
         "5950",
         "192"
        ],
        [
         "India",
         "Dennison Crosswaite",
         "50% Dark Bites",
         "2021-04-16 00:00:00",
         "5621",
         "625"
        ],
        [
         "   UK",
         "Dennison Crosswaite",
         "Smooth Sliky Salty",
         "2021-04-19 00:00:00",
         "5292",
         "252"
        ],
        [
         "New Zealand",
         "Dennison Crosswaite",
         "Smooth Sliky Salty",
         "2021-04-19 00:00:00",
         "3773",
         "252"
        ],
        [
         "  USA",
         "Dennison Crosswaite",
         "Manuka Honey Choco",
         "2021-04-22 00:00:00",
         "1351",
         "55"
        ],
        [
         "USA",
         "Dennison Crosswaite",
         "99% Dark & Pure",
         "2021-04-23 00:00:00",
         "3822",
         "225"
        ],
        [
         "   USA",
         "Dennison Crosswaite",
         "85% Dark Bars",
         "2021-04-27 00:00:00",
         "10794",
         "450"
        ],
        [
         "New Zealand",
         "Dennison Crosswaite",
         "Milk Bars",
         "2021-04-30 00:00:00",
         "4648",
         "194"
        ]
       ],
       "shape": {
        "columns": 5,
        "rows": 156
       }
      },
      "text/html": [
       "<div>\n",
       "<style scoped>\n",
       "    .dataframe tbody tr th:only-of-type {\n",
       "        vertical-align: middle;\n",
       "    }\n",
       "\n",
       "    .dataframe tbody tr th {\n",
       "        vertical-align: top;\n",
       "    }\n",
       "\n",
       "    .dataframe thead th {\n",
       "        text-align: right;\n",
       "    }\n",
       "</style>\n",
       "<table border=\"1\" class=\"dataframe\">\n",
       "  <thead>\n",
       "    <tr style=\"text-align: right;\">\n",
       "      <th></th>\n",
       "      <th>Sales Person</th>\n",
       "      <th>Product</th>\n",
       "      <th>Date</th>\n",
       "      <th>Amount</th>\n",
       "      <th>Boxes</th>\n",
       "    </tr>\n",
       "    <tr>\n",
       "      <th>Geography</th>\n",
       "      <th></th>\n",
       "      <th></th>\n",
       "      <th></th>\n",
       "      <th></th>\n",
       "      <th></th>\n",
       "    </tr>\n",
       "  </thead>\n",
       "  <tbody>\n",
       "    <tr>\n",
       "      <th>Canada</th>\n",
       "      <td>Dennison Crosswaite</td>\n",
       "      <td>White Choc</td>\n",
       "      <td>2021-01-01</td>\n",
       "      <td>532</td>\n",
       "      <td>54</td>\n",
       "    </tr>\n",
       "    <tr>\n",
       "      <th>New Zealand</th>\n",
       "      <td>Dennison Crosswaite</td>\n",
       "      <td>85% Dark Bars</td>\n",
       "      <td>2021-01-01</td>\n",
       "      <td>2506</td>\n",
       "      <td>148</td>\n",
       "    </tr>\n",
       "    <tr>\n",
       "      <th>India</th>\n",
       "      <td>Dennison Crosswaite</td>\n",
       "      <td>Mint Chip Choco</td>\n",
       "      <td>2021-01-08</td>\n",
       "      <td>2814</td>\n",
       "      <td>149</td>\n",
       "    </tr>\n",
       "    <tr>\n",
       "      <th>Canada</th>\n",
       "      <td>Dennison Crosswaite</td>\n",
       "      <td>Baker's Choco Chips</td>\n",
       "      <td>2021-01-12</td>\n",
       "      <td>2653</td>\n",
       "      <td>332</td>\n",
       "    </tr>\n",
       "    <tr>\n",
       "      <th>USA</th>\n",
       "      <td>Dennison Crosswaite</td>\n",
       "      <td>Fruit &amp; Nut Bars</td>\n",
       "      <td>2021-01-14</td>\n",
       "      <td>14532</td>\n",
       "      <td>969</td>\n",
       "    </tr>\n",
       "    <tr>\n",
       "      <th>...</th>\n",
       "      <td>...</td>\n",
       "      <td>...</td>\n",
       "      <td>...</td>\n",
       "      <td>...</td>\n",
       "      <td>...</td>\n",
       "    </tr>\n",
       "    <tr>\n",
       "      <th>USA</th>\n",
       "      <td>Dennison Crosswaite</td>\n",
       "      <td>Organic Choco Syrup</td>\n",
       "      <td>2022-01-10</td>\n",
       "      <td>4389</td>\n",
       "      <td>366</td>\n",
       "    </tr>\n",
       "    <tr>\n",
       "      <th>USA</th>\n",
       "      <td>Dennison Crosswaite</td>\n",
       "      <td>White Choc</td>\n",
       "      <td>2022-01-13</td>\n",
       "      <td>959</td>\n",
       "      <td>160</td>\n",
       "    </tr>\n",
       "    <tr>\n",
       "      <th>Canada</th>\n",
       "      <td>Dennison Crosswaite</td>\n",
       "      <td>Choco Coated Almonds</td>\n",
       "      <td>2022-01-06</td>\n",
       "      <td>5481</td>\n",
       "      <td>275</td>\n",
       "    </tr>\n",
       "    <tr>\n",
       "      <th>UK</th>\n",
       "      <td>Dennison Crosswaite</td>\n",
       "      <td>50% Dark Bites</td>\n",
       "      <td>2022-01-14</td>\n",
       "      <td>4123</td>\n",
       "      <td>148</td>\n",
       "    </tr>\n",
       "    <tr>\n",
       "      <th>UK</th>\n",
       "      <td>Dennison Crosswaite</td>\n",
       "      <td>Smooth Sliky Salty</td>\n",
       "      <td>2022-01-25</td>\n",
       "      <td>8799</td>\n",
       "      <td>550</td>\n",
       "    </tr>\n",
       "  </tbody>\n",
       "</table>\n",
       "<p>156 rows × 5 columns</p>\n",
       "</div>"
      ],
      "text/plain": [
       "                     Sales Person               Product       Date  Amount  \\\n",
       "Geography                                                                    \n",
       "   Canada     Dennison Crosswaite            White Choc 2021-01-01     532   \n",
       " New Zealand  Dennison Crosswaite         85% Dark Bars 2021-01-01    2506   \n",
       "   India      Dennison Crosswaite       Mint Chip Choco 2021-01-08    2814   \n",
       "Canada        Dennison Crosswaite   Baker's Choco Chips 2021-01-12    2653   \n",
       "  USA         Dennison Crosswaite      Fruit & Nut Bars 2021-01-14   14532   \n",
       "...                           ...                   ...        ...     ...   \n",
       "USA           Dennison Crosswaite   Organic Choco Syrup 2022-01-10    4389   \n",
       "USA           Dennison Crosswaite            White Choc 2022-01-13     959   \n",
       "Canada        Dennison Crosswaite  Choco Coated Almonds 2022-01-06    5481   \n",
       "UK            Dennison Crosswaite        50% Dark Bites 2022-01-14    4123   \n",
       "UK            Dennison Crosswaite    Smooth Sliky Salty 2022-01-25    8799   \n",
       "\n",
       "              Boxes  \n",
       "Geography            \n",
       "   Canada        54  \n",
       " New Zealand    148  \n",
       "   India        149  \n",
       "Canada          332  \n",
       "  USA           969  \n",
       "...             ...  \n",
       "USA             366  \n",
       "USA             160  \n",
       "Canada          275  \n",
       "UK              148  \n",
       "UK              550  \n",
       "\n",
       "[156 rows x 5 columns]"
      ]
     },
     "execution_count": 31,
     "metadata": {},
     "output_type": "execute_result"
    }
   ],
   "source": [
    "# Filtering\n",
    "sales[sales[\"Sales Person\"] == \"Dennison Crosswaite\"]"
   ]
  },
  {
   "cell_type": "code",
   "execution_count": 32,
   "id": "d4780baa",
   "metadata": {},
   "outputs": [
    {
     "data": {
      "text/plain": [
       "25"
      ]
     },
     "execution_count": 32,
     "metadata": {},
     "output_type": "execute_result"
    }
   ],
   "source": [
    "#  Total numbers of Product\n",
    "sales[\"Product\"].nunique()"
   ]
  },
  {
   "cell_type": "code",
   "execution_count": 33,
   "id": "08a9c5bc",
   "metadata": {},
   "outputs": [
    {
     "data": {
      "text/plain": [
       "<Axes: xlabel='Sales Person'>"
      ]
     },
     "execution_count": 33,
     "metadata": {},
     "output_type": "execute_result"
    },
    {
     "data": {
      "image/png": "[encoded data removed]",
      "text/plain": [
       "<Figure size 640x480 with 1 Axes>"
      ]
     },
     "metadata": {},
     "output_type": "display_data"
    }
   ],
   "source": [
    "# Top 20 Sales Person with the highest Product sales\n",
    "sales[\"Sales Person\"].value_counts().sort_values(ascending=False).head(20).plot(kind=\"bar\")"
   ]
  },
  {
   "cell_type": "code",
   "execution_count": 34,
   "id": "ad1ee257",
   "metadata": {},
   "outputs": [],
   "source": [
    "# Let's pick one of the sales person and their behavior\n",
    "mask = (sales[\"Sales Person\"] == \"Dennison Crosswaite\")"
   ]
  },
  {
   "cell_type": "code",
   "execution_count": 36,
   "id": "72f942bf",
   "metadata": {},
   "outputs": [
    {
     "data": {
      "application/vnd.microsoft.datawrangler.viewer.v0+json": {
       "columns": [
        {
         "name": "Geography",
         "rawType": "object",
         "type": "string"
        },
        {
         "name": "Sales Person",
         "rawType": "object",
         "type": "string"
        },
        {
         "name": "Product",
         "rawType": "object",
         "type": "string"
        },
        {
         "name": "Date",
         "rawType": "datetime64[ns]",
         "type": "datetime"
        },
        {
         "name": "Amount",
         "rawType": "int64",
         "type": "integer"
        },
        {
         "name": "Boxes",
         "rawType": "int64",
         "type": "integer"
        }
       ],
       "ref": "c8d3d114-46d8-4d60-91f6-9cd40fd3cb2d",
       "rows": [
        [
         "   Canada",
         "Dennison Crosswaite",
         "White Choc",
         "2021-01-01 00:00:00",
         "532",
         "54"
        ]
       ],
       "shape": {
        "columns": 5,
        "rows": 1
       }
      },
      "text/html": [
       "<div>\n",
       "<style scoped>\n",
       "    .dataframe tbody tr th:only-of-type {\n",
       "        vertical-align: middle;\n",
       "    }\n",
       "\n",
       "    .dataframe tbody tr th {\n",
       "        vertical-align: top;\n",
       "    }\n",
       "\n",
       "    .dataframe thead th {\n",
       "        text-align: right;\n",
       "    }\n",
       "</style>\n",
       "<table border=\"1\" class=\"dataframe\">\n",
       "  <thead>\n",
       "    <tr style=\"text-align: right;\">\n",
       "      <th></th>\n",
       "      <th>Sales Person</th>\n",
       "      <th>Product</th>\n",
       "      <th>Date</th>\n",
       "      <th>Amount</th>\n",
       "      <th>Boxes</th>\n",
       "    </tr>\n",
       "    <tr>\n",
       "      <th>Geography</th>\n",
       "      <th></th>\n",
       "      <th></th>\n",
       "      <th></th>\n",
       "      <th></th>\n",
       "      <th></th>\n",
       "    </tr>\n",
       "  </thead>\n",
       "  <tbody>\n",
       "    <tr>\n",
       "      <th>Canada</th>\n",
       "      <td>Dennison Crosswaite</td>\n",
       "      <td>White Choc</td>\n",
       "      <td>2021-01-01</td>\n",
       "      <td>532</td>\n",
       "      <td>54</td>\n",
       "    </tr>\n",
       "  </tbody>\n",
       "</table>\n",
       "</div>"
      ],
      "text/plain": [
       "                  Sales Person     Product       Date  Amount  Boxes\n",
       "Geography                                                           \n",
       "Canada     Dennison Crosswaite  White Choc 2021-01-01     532     54"
      ]
     },
     "execution_count": 36,
     "metadata": {},
     "output_type": "execute_result"
    }
   ],
   "source": [
    "sales[mask].head(1)"
   ]
  },
  {
   "cell_type": "code",
   "execution_count": 38,
   "id": "09a508ab",
   "metadata": {},
   "outputs": [
    {
     "data": {
      "application/vnd.microsoft.datawrangler.viewer.v0+json": {
       "columns": [
        {
         "name": "Geography",
         "rawType": "object",
         "type": "string"
        },
        {
         "name": "Sales Person",
         "rawType": "object",
         "type": "string"
        },
        {
         "name": "Product",
         "rawType": "object",
         "type": "string"
        },
        {
         "name": "Date",
         "rawType": "datetime64[ns]",
         "type": "datetime"
        },
        {
         "name": "Amount",
         "rawType": "int64",
         "type": "integer"
        },
        {
         "name": "Boxes",
         "rawType": "int64",
         "type": "integer"
        }
       ],
       "ref": "5a845ca3-74ef-4932-87f9-725e535d9780",
       "rows": [
        [
         "   Canada",
         "Dennison Crosswaite",
         "White Choc",
         "2021-01-01 00:00:00",
         "532",
         "54"
        ]
       ],
       "shape": {
        "columns": 5,
        "rows": 1
       }
      },
      "text/html": [
       "<div>\n",
       "<style scoped>\n",
       "    .dataframe tbody tr th:only-of-type {\n",
       "        vertical-align: middle;\n",
       "    }\n",
       "\n",
       "    .dataframe tbody tr th {\n",
       "        vertical-align: top;\n",
       "    }\n",
       "\n",
       "    .dataframe thead th {\n",
       "        text-align: right;\n",
       "    }\n",
       "</style>\n",
       "<table border=\"1\" class=\"dataframe\">\n",
       "  <thead>\n",
       "    <tr style=\"text-align: right;\">\n",
       "      <th></th>\n",
       "      <th>Sales Person</th>\n",
       "      <th>Product</th>\n",
       "      <th>Date</th>\n",
       "      <th>Amount</th>\n",
       "      <th>Boxes</th>\n",
       "    </tr>\n",
       "    <tr>\n",
       "      <th>Geography</th>\n",
       "      <th></th>\n",
       "      <th></th>\n",
       "      <th></th>\n",
       "      <th></th>\n",
       "      <th></th>\n",
       "    </tr>\n",
       "  </thead>\n",
       "  <tbody>\n",
       "    <tr>\n",
       "      <th>Canada</th>\n",
       "      <td>Dennison Crosswaite</td>\n",
       "      <td>White Choc</td>\n",
       "      <td>2021-01-01</td>\n",
       "      <td>532</td>\n",
       "      <td>54</td>\n",
       "    </tr>\n",
       "  </tbody>\n",
       "</table>\n",
       "</div>"
      ],
      "text/plain": [
       "                  Sales Person     Product       Date  Amount  Boxes\n",
       "Geography                                                           \n",
       "Canada     Dennison Crosswaite  White Choc 2021-01-01     532     54"
      ]
     },
     "execution_count": 38,
     "metadata": {},
     "output_type": "execute_result"
    }
   ],
   "source": [
    "sales.loc[mask].head(1)"
   ]
  },
  {
   "cell_type": "code",
   "execution_count": 39,
   "id": "2e36fd49",
   "metadata": {},
   "outputs": [
    {
     "data": {
      "application/vnd.microsoft.datawrangler.viewer.v0+json": {
       "columns": [
        {
         "name": "Geography",
         "rawType": "object",
         "type": "string"
        },
        {
         "name": "Sales Person",
         "rawType": "object",
         "type": "string"
        },
        {
         "name": "Product",
         "rawType": "object",
         "type": "string"
        },
        {
         "name": "Date",
         "rawType": "datetime64[ns]",
         "type": "datetime"
        },
        {
         "name": "Amount",
         "rawType": "int64",
         "type": "integer"
        }
       ],
       "ref": "ee0025fa-b434-4b38-92f3-6ab7c0ceb9ff",
       "rows": [
        [
         "   Canada",
         "Dennison Crosswaite",
         "White Choc",
         "2021-01-01 00:00:00",
         "532"
        ],
        [
         " New Zealand",
         "Dennison Crosswaite",
         "85% Dark Bars",
         "2021-01-01 00:00:00",
         "2506"
        ]
       ],
       "shape": {
        "columns": 4,
        "rows": 2
       }
      },
      "text/html": [
       "<div>\n",
       "<style scoped>\n",
       "    .dataframe tbody tr th:only-of-type {\n",
       "        vertical-align: middle;\n",
       "    }\n",
       "\n",
       "    .dataframe tbody tr th {\n",
       "        vertical-align: top;\n",
       "    }\n",
       "\n",
       "    .dataframe thead th {\n",
       "        text-align: right;\n",
       "    }\n",
       "</style>\n",
       "<table border=\"1\" class=\"dataframe\">\n",
       "  <thead>\n",
       "    <tr style=\"text-align: right;\">\n",
       "      <th></th>\n",
       "      <th>Sales Person</th>\n",
       "      <th>Product</th>\n",
       "      <th>Date</th>\n",
       "      <th>Amount</th>\n",
       "    </tr>\n",
       "    <tr>\n",
       "      <th>Geography</th>\n",
       "      <th></th>\n",
       "      <th></th>\n",
       "      <th></th>\n",
       "      <th></th>\n",
       "    </tr>\n",
       "  </thead>\n",
       "  <tbody>\n",
       "    <tr>\n",
       "      <th>Canada</th>\n",
       "      <td>Dennison Crosswaite</td>\n",
       "      <td>White Choc</td>\n",
       "      <td>2021-01-01</td>\n",
       "      <td>532</td>\n",
       "    </tr>\n",
       "    <tr>\n",
       "      <th>New Zealand</th>\n",
       "      <td>Dennison Crosswaite</td>\n",
       "      <td>85% Dark Bars</td>\n",
       "      <td>2021-01-01</td>\n",
       "      <td>2506</td>\n",
       "    </tr>\n",
       "  </tbody>\n",
       "</table>\n",
       "</div>"
      ],
      "text/plain": [
       "                    Sales Person        Product       Date  Amount\n",
       "Geography                                                         \n",
       "  Canada     Dennison Crosswaite     White Choc 2021-01-01     532\n",
       "New Zealand  Dennison Crosswaite  85% Dark Bars 2021-01-01    2506"
      ]
     },
     "execution_count": 39,
     "metadata": {},
     "output_type": "execute_result"
    }
   ],
   "source": [
    "sales.loc[mask, \"Sales Person\":\"Amount\"].head(2)"
   ]
  },
  {
   "cell_type": "code",
   "execution_count": 40,
   "id": "eae4a135",
   "metadata": {},
   "outputs": [
    {
     "data": {
      "text/plain": [
       "array(['Raspberry Choco', 'White Choc', '99% Dark & Pure',\n",
       "       \"Baker's Choco Chips\", 'Manuka Honey Choco', '85% Dark Bars',\n",
       "       'Organic Choco Syrup', 'Caramel Stuffed Bars', 'Milk Bars',\n",
       "       'Mint Chip Choco', 'Orange Choco', 'Eclairs', 'After Nines',\n",
       "       'Spicy Special Slims', 'Drinking Coco', 'Peanut Butter Cubes',\n",
       "       'Choco Coated Almonds', 'Fruit & Nut Bars', '50% Dark Bites',\n",
       "       '70% Dark Bites', 'Almond Choco', 'Smooth Sliky Salty',\n",
       "       '99% -Dark & Pure', 'White-Choc', 'Manuka Honey Chocos'],\n",
       "      dtype=object)"
      ]
     },
     "execution_count": 40,
     "metadata": {},
     "output_type": "execute_result"
    }
   ],
   "source": [
    "sales[\"Product\"].unique()"
   ]
  },
  {
   "cell_type": "code",
   "execution_count": 43,
   "id": "c08a7e66",
   "metadata": {},
   "outputs": [
    {
     "data": {
      "application/vnd.microsoft.datawrangler.viewer.v0+json": {
       "columns": [
        {
         "name": "Product",
         "rawType": "object",
         "type": "string"
        },
        {
         "name": "count",
         "rawType": "int64",
         "type": "integer"
        }
       ],
       "ref": "899aa9dc-eaea-4373-a46e-71f48ac59b97",
       "rows": [
        [
         "99% Dark & Pure",
         "178"
        ],
        [
         "Organic Choco Syrup",
         "178"
        ],
        [
         "Peanut Butter Cubes",
         "176"
        ],
        [
         "Orange Choco",
         "175"
        ],
        [
         "Caramel Stuffed Bars",
         "175"
        ],
        [
         "After Nines",
         "175"
        ],
        [
         "85% Dark Bars",
         "174"
        ],
        [
         "Baker's Choco Chips",
         "173"
        ],
        [
         "Raspberry Choco",
         "173"
        ],
        [
         "Fruit & Nut Bars",
         "172"
        ],
        [
         "Choco Coated Almonds",
         "172"
        ],
        [
         "White Choc",
         "171"
        ],
        [
         "Manuka Honey Choco",
         "171"
        ],
        [
         "Spicy Special Slims",
         "171"
        ],
        [
         "Milk Bars",
         "170"
        ],
        [
         "50% Dark Bites",
         "170"
        ],
        [
         "Eclairs",
         "170"
        ],
        [
         "Smooth Sliky Salty",
         "170"
        ],
        [
         "Mint Chip Choco",
         "168"
        ],
        [
         "Almond Choco",
         "168"
        ],
        [
         "Drinking Coco",
         "167"
        ],
        [
         "70% Dark Bites",
         "163"
        ],
        [
         "White-Choc",
         "6"
        ],
        [
         "Manuka Honey Chocos",
         "4"
        ],
        [
         "99% -Dark & Pure",
         "1"
        ]
       ],
       "shape": {
        "columns": 1,
        "rows": 25
       }
      },
      "text/plain": [
       "Product\n",
       "99% Dark & Pure         178\n",
       "Organic Choco Syrup     178\n",
       "Peanut Butter Cubes     176\n",
       "Orange Choco            175\n",
       "Caramel Stuffed Bars    175\n",
       "After Nines             175\n",
       "85% Dark Bars           174\n",
       "Baker's Choco Chips     173\n",
       "Raspberry Choco         173\n",
       "Fruit & Nut Bars        172\n",
       "Choco Coated Almonds    172\n",
       "White Choc              171\n",
       "Manuka Honey Choco      171\n",
       "Spicy Special Slims     171\n",
       "Milk Bars               170\n",
       "50% Dark Bites          170\n",
       "Eclairs                 170\n",
       "Smooth Sliky Salty      170\n",
       "Mint Chip Choco         168\n",
       "Almond Choco            168\n",
       "Drinking Coco           167\n",
       "70% Dark Bites          163\n",
       "White-Choc                6\n",
       "Manuka Honey Chocos       4\n",
       "99% -Dark & Pure          1\n",
       "Name: count, dtype: int64"
      ]
     },
     "execution_count": 43,
     "metadata": {},
     "output_type": "execute_result"
    }
   ],
   "source": [
    "product_and_number_times_bought = sales[\"Product\"].value_counts()\n",
    "product_and_number_times_bought"
   ]
  },
  {
   "cell_type": "code",
   "execution_count": 44,
   "id": "b2ec9275",
   "metadata": {},
   "outputs": [
    {
     "data": {
      "text/plain": [
       "<Axes: xlabel='Product'>"
      ]
     },
     "execution_count": 44,
     "metadata": {},
     "output_type": "execute_result"
    },
    {
     "data": {
      "image/png": "[encoded data removed]",
      "text/plain": [
       "<Figure size 640x480 with 1 Axes>"
      ]
     },
     "metadata": {},
     "output_type": "display_data"
    }
   ],
   "source": [
    "product_and_number_times_bought.plot(kind=\"bar\")"
   ]
  },
  {
   "cell_type": "code",
   "execution_count": null,
   "id": "cc1f4e94",
   "metadata": {},
   "outputs": [],
   "source": [
    "Canada.info()"
   ]
  }
 ],
 "metadata": {
  "kernelspec": {
   "display_name": "a_env",
   "language": "python",
   "name": "python3"
  },
  "language_info": {
   "codemirror_mode": {
    "name": "ipython",
    "version": 3
   },
   "file_extension": ".py",
   "mimetype": "text/x-python",
   "name": "python",
   "nbconvert_exporter": "python",
   "pygments_lexer": "ipython3",
   "version": "3.12.7"
  }
 },
 "nbformat": 4,
 "nbformat_minor": 5
}
