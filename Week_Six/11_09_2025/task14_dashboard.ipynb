{
 "cells": [
  {
   "cell_type": "markdown",
   "id": "72742aa4",
   "metadata": {},
   "source": [
    "## **My Dashboard Data Wrangling**"
   ]
  },
  {
   "cell_type": "code",
   "execution_count": 2,
   "id": "0e80579a",
   "metadata": {},
   "outputs": [
    {
     "name": "stdout",
     "output_type": "stream",
     "text": [
      "Imported successful\n"
     ]
    }
   ],
   "source": [
    "# Importing the necessary libraries\n",
    "import pandas as pd\n",
    "import matplotlib.pyplot as plt\n",
    "import seaborn as sns\n",
    "\n",
    "print(\"Imported successful\")"
   ]
  },
  {
   "cell_type": "code",
   "execution_count": 3,
   "id": "2408dc41",
   "metadata": {},
   "outputs": [],
   "source": [
    "# Loading in the dataset\n",
    "sales_data = pd.read_excel(\"eletronic_sales.xlsx\")"
   ]
  },
  {
   "cell_type": "code",
   "execution_count": 4,
   "id": "c6787c2f",
   "metadata": {},
   "outputs": [
    {
     "data": {
      "application/vnd.microsoft.datawrangler.viewer.v0+json": {
       "columns": [
        {
         "name": "index",
         "rawType": "int64",
         "type": "integer"
        },
        {
         "name": "Date",
         "rawType": "datetime64[ns]",
         "type": "datetime"
        },
        {
         "name": "Branch",
         "rawType": "object",
         "type": "string"
        },
        {
         "name": "Sales Agent",
         "rawType": "object",
         "type": "string"
        },
        {
         "name": "Products",
         "rawType": "object",
         "type": "string"
        },
        {
         "name": "Units",
         "rawType": "int64",
         "type": "integer"
        },
        {
         "name": "Price",
         "rawType": "float64",
         "type": "float"
        }
       ],
       "ref": "11325423-89f1-4671-b6af-8b81ce2b7641",
       "rows": [
        [
         "0",
         "2014-09-01 00:00:00",
         "Woji",
         "Chinedu",
         "Apple",
         "2",
         "125.0"
        ],
        [
         "1",
         "2015-06-17 00:00:00",
         "Woji",
         "Emeka",
         "Apple",
         "5",
         "125.0"
        ],
        [
         "2",
         "2015-09-10 00:00:00",
         "Woji",
         "Ibrahim",
         "Lenovo",
         "7",
         "1.29"
        ],
        [
         "3",
         "2015-11-17 00:00:00",
         "Woji",
         "Tolu",
         "HP",
         "11",
         "4.99"
        ],
        [
         "4",
         "2015-10-31 00:00:00",
         "Woji",
         "Tonye",
         "Lenovo",
         "14",
         "1.29"
        ]
       ],
       "shape": {
        "columns": 6,
        "rows": 5
       }
      },
      "text/html": [
       "<div>\n",
       "<style scoped>\n",
       "    .dataframe tbody tr th:only-of-type {\n",
       "        vertical-align: middle;\n",
       "    }\n",
       "\n",
       "    .dataframe tbody tr th {\n",
       "        vertical-align: top;\n",
       "    }\n",
       "\n",
       "    .dataframe thead th {\n",
       "        text-align: right;\n",
       "    }\n",
       "</style>\n",
       "<table border=\"1\" class=\"dataframe\">\n",
       "  <thead>\n",
       "    <tr style=\"text-align: right;\">\n",
       "      <th></th>\n",
       "      <th>Date</th>\n",
       "      <th>Branch</th>\n",
       "      <th>Sales Agent</th>\n",
       "      <th>Products</th>\n",
       "      <th>Units</th>\n",
       "      <th>Price</th>\n",
       "    </tr>\n",
       "  </thead>\n",
       "  <tbody>\n",
       "    <tr>\n",
       "      <th>0</th>\n",
       "      <td>2014-09-01</td>\n",
       "      <td>Woji</td>\n",
       "      <td>Chinedu</td>\n",
       "      <td>Apple</td>\n",
       "      <td>2</td>\n",
       "      <td>125.00</td>\n",
       "    </tr>\n",
       "    <tr>\n",
       "      <th>1</th>\n",
       "      <td>2015-06-17</td>\n",
       "      <td>Woji</td>\n",
       "      <td>Emeka</td>\n",
       "      <td>Apple</td>\n",
       "      <td>5</td>\n",
       "      <td>125.00</td>\n",
       "    </tr>\n",
       "    <tr>\n",
       "      <th>2</th>\n",
       "      <td>2015-09-10</td>\n",
       "      <td>Woji</td>\n",
       "      <td>Ibrahim</td>\n",
       "      <td>Lenovo</td>\n",
       "      <td>7</td>\n",
       "      <td>1.29</td>\n",
       "    </tr>\n",
       "    <tr>\n",
       "      <th>3</th>\n",
       "      <td>2015-11-17</td>\n",
       "      <td>Woji</td>\n",
       "      <td>Tolu</td>\n",
       "      <td>HP</td>\n",
       "      <td>11</td>\n",
       "      <td>4.99</td>\n",
       "    </tr>\n",
       "    <tr>\n",
       "      <th>4</th>\n",
       "      <td>2015-10-31</td>\n",
       "      <td>Woji</td>\n",
       "      <td>Tonye</td>\n",
       "      <td>Lenovo</td>\n",
       "      <td>14</td>\n",
       "      <td>1.29</td>\n",
       "    </tr>\n",
       "  </tbody>\n",
       "</table>\n",
       "</div>"
      ],
      "text/plain": [
       "        Date Branch Sales Agent Products  Units   Price\n",
       "0 2014-09-01   Woji     Chinedu    Apple      2  125.00\n",
       "1 2015-06-17   Woji       Emeka    Apple      5  125.00\n",
       "2 2015-09-10   Woji     Ibrahim   Lenovo      7    1.29\n",
       "3 2015-11-17   Woji        Tolu       HP     11    4.99\n",
       "4 2015-10-31   Woji       Tonye   Lenovo     14    1.29"
      ]
     },
     "execution_count": 4,
     "metadata": {},
     "output_type": "execute_result"
    }
   ],
   "source": [
    "#  Snapshot of the dataset\n",
    "sales_data.head()"
   ]
  },
  {
   "cell_type": "code",
   "execution_count": 5,
   "id": "6bc31985",
   "metadata": {},
   "outputs": [
    {
     "data": {
      "application/vnd.microsoft.datawrangler.viewer.v0+json": {
       "columns": [
        {
         "name": "index",
         "rawType": "int64",
         "type": "integer"
        },
        {
         "name": "Date",
         "rawType": "datetime64[ns]",
         "type": "datetime"
        },
        {
         "name": "Branch",
         "rawType": "object",
         "type": "string"
        },
        {
         "name": "Sales Agent",
         "rawType": "object",
         "type": "string"
        },
        {
         "name": "Products",
         "rawType": "object",
         "type": "string"
        },
        {
         "name": "Units",
         "rawType": "int64",
         "type": "integer"
        },
        {
         "name": "Price",
         "rawType": "float64",
         "type": "float"
        },
        {
         "name": "Revenue(N)",
         "rawType": "float64",
         "type": "float"
        }
       ],
       "ref": "c1ba818b-3d37-41a8-b7d1-ef16f877ed68",
       "rows": [
        [
         "0",
         "2014-09-01 00:00:00",
         "Woji",
         "Chinedu",
         "Apple",
         "2",
         "125.0",
         "250000.0"
        ],
        [
         "1",
         "2015-06-17 00:00:00",
         "Woji",
         "Emeka",
         "Apple",
         "5",
         "125.0",
         "625000.0"
        ],
        [
         "2",
         "2015-09-10 00:00:00",
         "Woji",
         "Ibrahim",
         "Lenovo",
         "7",
         "1.29",
         "9030.0"
        ],
        [
         "3",
         "2015-11-17 00:00:00",
         "Woji",
         "Tolu",
         "HP",
         "11",
         "4.99",
         "54890.0"
        ],
        [
         "4",
         "2015-10-31 00:00:00",
         "Woji",
         "Tonye",
         "Lenovo",
         "14",
         "1.29",
         "18060.0"
        ]
       ],
       "shape": {
        "columns": 7,
        "rows": 5
       }
      },
      "text/html": [
       "<div>\n",
       "<style scoped>\n",
       "    .dataframe tbody tr th:only-of-type {\n",
       "        vertical-align: middle;\n",
       "    }\n",
       "\n",
       "    .dataframe tbody tr th {\n",
       "        vertical-align: top;\n",
       "    }\n",
       "\n",
       "    .dataframe thead th {\n",
       "        text-align: right;\n",
       "    }\n",
       "</style>\n",
       "<table border=\"1\" class=\"dataframe\">\n",
       "  <thead>\n",
       "    <tr style=\"text-align: right;\">\n",
       "      <th></th>\n",
       "      <th>Date</th>\n",
       "      <th>Branch</th>\n",
       "      <th>Sales Agent</th>\n",
       "      <th>Products</th>\n",
       "      <th>Units</th>\n",
       "      <th>Price</th>\n",
       "      <th>Revenue(N)</th>\n",
       "    </tr>\n",
       "  </thead>\n",
       "  <tbody>\n",
       "    <tr>\n",
       "      <th>0</th>\n",
       "      <td>2014-09-01</td>\n",
       "      <td>Woji</td>\n",
       "      <td>Chinedu</td>\n",
       "      <td>Apple</td>\n",
       "      <td>2</td>\n",
       "      <td>125.00</td>\n",
       "      <td>250000.0</td>\n",
       "    </tr>\n",
       "    <tr>\n",
       "      <th>1</th>\n",
       "      <td>2015-06-17</td>\n",
       "      <td>Woji</td>\n",
       "      <td>Emeka</td>\n",
       "      <td>Apple</td>\n",
       "      <td>5</td>\n",
       "      <td>125.00</td>\n",
       "      <td>625000.0</td>\n",
       "    </tr>\n",
       "    <tr>\n",
       "      <th>2</th>\n",
       "      <td>2015-09-10</td>\n",
       "      <td>Woji</td>\n",
       "      <td>Ibrahim</td>\n",
       "      <td>Lenovo</td>\n",
       "      <td>7</td>\n",
       "      <td>1.29</td>\n",
       "      <td>9030.0</td>\n",
       "    </tr>\n",
       "    <tr>\n",
       "      <th>3</th>\n",
       "      <td>2015-11-17</td>\n",
       "      <td>Woji</td>\n",
       "      <td>Tolu</td>\n",
       "      <td>HP</td>\n",
       "      <td>11</td>\n",
       "      <td>4.99</td>\n",
       "      <td>54890.0</td>\n",
       "    </tr>\n",
       "    <tr>\n",
       "      <th>4</th>\n",
       "      <td>2015-10-31</td>\n",
       "      <td>Woji</td>\n",
       "      <td>Tonye</td>\n",
       "      <td>Lenovo</td>\n",
       "      <td>14</td>\n",
       "      <td>1.29</td>\n",
       "      <td>18060.0</td>\n",
       "    </tr>\n",
       "  </tbody>\n",
       "</table>\n",
       "</div>"
      ],
      "text/plain": [
       "        Date Branch Sales Agent Products  Units   Price  Revenue(N)\n",
       "0 2014-09-01   Woji     Chinedu    Apple      2  125.00    250000.0\n",
       "1 2015-06-17   Woji       Emeka    Apple      5  125.00    625000.0\n",
       "2 2015-09-10   Woji     Ibrahim   Lenovo      7    1.29      9030.0\n",
       "3 2015-11-17   Woji        Tolu       HP     11    4.99     54890.0\n",
       "4 2015-10-31   Woji       Tonye   Lenovo     14    1.29     18060.0"
      ]
     },
     "execution_count": 5,
     "metadata": {},
     "output_type": "execute_result"
    }
   ],
   "source": [
    "#  Little of Feature Engineering\n",
    "\n",
    "# Trying to make a copy of the dataset and work on it\n",
    "sales_data2 = sales_data.copy()\n",
    "\n",
    "# sales_data2[\"Revenue\"] = sales_data2[\"Units\"] * sales_data2[\"Price\"]\n",
    "\n",
    "#  round(parameter, 2)\n",
    "sales_data2[\"Revenue(N)\"] = round(sales_data2[\"Units\"]*sales_data2[\"Price\"] * 1000, 2)\n",
    "\n",
    "# This is to view if the changes has been effected\n",
    "sales_data2.head()"
   ]
  },
  {
   "cell_type": "code",
   "execution_count": 6,
   "id": "887270f9",
   "metadata": {},
   "outputs": [
    {
     "data": {
      "application/vnd.microsoft.datawrangler.viewer.v0+json": {
       "columns": [
        {
         "name": "index",
         "rawType": "object",
         "type": "string"
        },
        {
         "name": "0",
         "rawType": "object",
         "type": "unknown"
        }
       ],
       "ref": "b4556b68-093a-4a00-b29d-0a46272aff35",
       "rows": [
        [
         "Date",
         "datetime64[ns]"
        ],
        [
         "Branch",
         "object"
        ],
        [
         "Sales Agent",
         "object"
        ],
        [
         "Products",
         "object"
        ],
        [
         "Units",
         "int64"
        ],
        [
         "Price",
         "float64"
        ],
        [
         "Revenue(N)",
         "float64"
        ]
       ],
       "shape": {
        "columns": 1,
        "rows": 7
       }
      },
      "text/plain": [
       "Date           datetime64[ns]\n",
       "Branch                 object\n",
       "Sales Agent            object\n",
       "Products               object\n",
       "Units                   int64\n",
       "Price                 float64\n",
       "Revenue(N)            float64\n",
       "dtype: object"
      ]
     },
     "execution_count": 6,
     "metadata": {},
     "output_type": "execute_result"
    }
   ],
   "source": [
    "# Let's check data types\n",
    "sales_data2.dtypes"
   ]
  },
  {
   "cell_type": "code",
   "execution_count": 7,
   "id": "f007349c",
   "metadata": {},
   "outputs": [],
   "source": [
    "#  Converting the date column to date time\n",
    "# By using \"pd.to_datetime()\" function\n",
    "\n",
    "# Note: we only do this when trying to convert it to datetime if not there earlier\n",
    "sales_data2[\"Date\"] = pd.to_datetime(sales_data2[\"Date\"])"
   ]
  },
  {
   "cell_type": "code",
   "execution_count": 8,
   "id": "c9777f50",
   "metadata": {},
   "outputs": [
    {
     "data": {
      "application/vnd.microsoft.datawrangler.viewer.v0+json": {
       "columns": [
        {
         "name": "index",
         "rawType": "object",
         "type": "string"
        },
        {
         "name": "0",
         "rawType": "object",
         "type": "unknown"
        }
       ],
       "ref": "60158b50-b9fc-4e56-a30b-7e8cf63803ee",
       "rows": [
        [
         "Date",
         "datetime64[ns]"
        ],
        [
         "Branch",
         "object"
        ],
        [
         "Sales Agent",
         "object"
        ],
        [
         "Products",
         "object"
        ],
        [
         "Units",
         "int64"
        ],
        [
         "Price",
         "float64"
        ],
        [
         "Revenue(N)",
         "float64"
        ]
       ],
       "shape": {
        "columns": 1,
        "rows": 7
       }
      },
      "text/plain": [
       "Date           datetime64[ns]\n",
       "Branch                 object\n",
       "Sales Agent            object\n",
       "Products               object\n",
       "Units                   int64\n",
       "Price                 float64\n",
       "Revenue(N)            float64\n",
       "dtype: object"
      ]
     },
     "execution_count": 8,
     "metadata": {},
     "output_type": "execute_result"
    }
   ],
   "source": [
    "sales_data2.dtypes"
   ]
  },
  {
   "cell_type": "code",
   "execution_count": 9,
   "id": "7580d439",
   "metadata": {},
   "outputs": [
    {
     "data": {
      "text/plain": [
       "<Axes: xlabel='Data Types', ylabel='Count'>"
      ]
     },
     "execution_count": 9,
     "metadata": {},
     "output_type": "execute_result"
    },
    {
     "data": {
      "image/png": "[encoded data removed]",
      "text/plain": [
       "<Figure size 640x480 with 1 Axes>"
      ]
     },
     "metadata": {},
     "output_type": "display_data"
    }
   ],
   "source": [
    "# Trying to plot the datatype.\n",
    "sales_data2.dtypes.value_counts().plot(kind='bar', xlabel = \"Data Types\", ylabel = \"Count\")"
   ]
  },
  {
   "cell_type": "code",
   "execution_count": 10,
   "id": "65a6a93f",
   "metadata": {},
   "outputs": [],
   "source": [
    "# lets  work on our datetime to extract the month,year and week name\n",
    "# using \".dt.year\",\".dt.month_name()\",\".day_name()\n",
    "\n",
    "sales_data2[\"Year\"] = sales_data2[\"Date\"].dt.year\n",
    "sales_data2[\"Month\"] = sales_data2[\"Date\"].dt.month_name()\n",
    "sales_data2[\"Week\"] = sales_data2[\"Date\"].dt.day_name()"
   ]
  },
  {
   "cell_type": "code",
   "execution_count": 11,
   "id": "2da5e5ad",
   "metadata": {},
   "outputs": [
    {
     "data": {
      "application/vnd.microsoft.datawrangler.viewer.v0+json": {
       "columns": [
        {
         "name": "index",
         "rawType": "int64",
         "type": "integer"
        },
        {
         "name": "Date",
         "rawType": "datetime64[ns]",
         "type": "datetime"
        },
        {
         "name": "Branch",
         "rawType": "object",
         "type": "string"
        },
        {
         "name": "Sales Agent",
         "rawType": "object",
         "type": "string"
        },
        {
         "name": "Products",
         "rawType": "object",
         "type": "string"
        },
        {
         "name": "Units",
         "rawType": "int64",
         "type": "integer"
        },
        {
         "name": "Price",
         "rawType": "float64",
         "type": "float"
        },
        {
         "name": "Revenue(N)",
         "rawType": "float64",
         "type": "float"
        },
        {
         "name": "Year",
         "rawType": "int32",
         "type": "integer"
        },
        {
         "name": "Month",
         "rawType": "object",
         "type": "string"
        },
        {
         "name": "Week",
         "rawType": "object",
         "type": "string"
        }
       ],
       "ref": "0a72e0e9-f4e8-422c-8801-5c42191ba275",
       "rows": [
        [
         "0",
         "2014-09-01 00:00:00",
         "Woji",
         "Chinedu",
         "Apple",
         "2",
         "125.0",
         "250000.0",
         "2014",
         "September",
         "Monday"
        ],
        [
         "1",
         "2015-06-17 00:00:00",
         "Woji",
         "Emeka",
         "Apple",
         "5",
         "125.0",
         "625000.0",
         "2015",
         "June",
         "Wednesday"
        ],
        [
         "2",
         "2015-09-10 00:00:00",
         "Woji",
         "Ibrahim",
         "Lenovo",
         "7",
         "1.29",
         "9030.0",
         "2015",
         "September",
         "Thursday"
        ],
        [
         "3",
         "2015-11-17 00:00:00",
         "Woji",
         "Tolu",
         "HP",
         "11",
         "4.99",
         "54890.0",
         "2015",
         "November",
         "Tuesday"
        ],
        [
         "4",
         "2015-10-31 00:00:00",
         "Woji",
         "Tonye",
         "Lenovo",
         "14",
         "1.29",
         "18060.0",
         "2015",
         "October",
         "Saturday"
        ]
       ],
       "shape": {
        "columns": 10,
        "rows": 5
       }
      },
      "text/html": [
       "<div>\n",
       "<style scoped>\n",
       "    .dataframe tbody tr th:only-of-type {\n",
       "        vertical-align: middle;\n",
       "    }\n",
       "\n",
       "    .dataframe tbody tr th {\n",
       "        vertical-align: top;\n",
       "    }\n",
       "\n",
       "    .dataframe thead th {\n",
       "        text-align: right;\n",
       "    }\n",
       "</style>\n",
       "<table border=\"1\" class=\"dataframe\">\n",
       "  <thead>\n",
       "    <tr style=\"text-align: right;\">\n",
       "      <th></th>\n",
       "      <th>Date</th>\n",
       "      <th>Branch</th>\n",
       "      <th>Sales Agent</th>\n",
       "      <th>Products</th>\n",
       "      <th>Units</th>\n",
       "      <th>Price</th>\n",
       "      <th>Revenue(N)</th>\n",
       "      <th>Year</th>\n",
       "      <th>Month</th>\n",
       "      <th>Week</th>\n",
       "    </tr>\n",
       "  </thead>\n",
       "  <tbody>\n",
       "    <tr>\n",
       "      <th>0</th>\n",
       "      <td>2014-09-01</td>\n",
       "      <td>Woji</td>\n",
       "      <td>Chinedu</td>\n",
       "      <td>Apple</td>\n",
       "      <td>2</td>\n",
       "      <td>125.00</td>\n",
       "      <td>250000.0</td>\n",
       "      <td>2014</td>\n",
       "      <td>September</td>\n",
       "      <td>Monday</td>\n",
       "    </tr>\n",
       "    <tr>\n",
       "      <th>1</th>\n",
       "      <td>2015-06-17</td>\n",
       "      <td>Woji</td>\n",
       "      <td>Emeka</td>\n",
       "      <td>Apple</td>\n",
       "      <td>5</td>\n",
       "      <td>125.00</td>\n",
       "      <td>625000.0</td>\n",
       "      <td>2015</td>\n",
       "      <td>June</td>\n",
       "      <td>Wednesday</td>\n",
       "    </tr>\n",
       "    <tr>\n",
       "      <th>2</th>\n",
       "      <td>2015-09-10</td>\n",
       "      <td>Woji</td>\n",
       "      <td>Ibrahim</td>\n",
       "      <td>Lenovo</td>\n",
       "      <td>7</td>\n",
       "      <td>1.29</td>\n",
       "      <td>9030.0</td>\n",
       "      <td>2015</td>\n",
       "      <td>September</td>\n",
       "      <td>Thursday</td>\n",
       "    </tr>\n",
       "    <tr>\n",
       "      <th>3</th>\n",
       "      <td>2015-11-17</td>\n",
       "      <td>Woji</td>\n",
       "      <td>Tolu</td>\n",
       "      <td>HP</td>\n",
       "      <td>11</td>\n",
       "      <td>4.99</td>\n",
       "      <td>54890.0</td>\n",
       "      <td>2015</td>\n",
       "      <td>November</td>\n",
       "      <td>Tuesday</td>\n",
       "    </tr>\n",
       "    <tr>\n",
       "      <th>4</th>\n",
       "      <td>2015-10-31</td>\n",
       "      <td>Woji</td>\n",
       "      <td>Tonye</td>\n",
       "      <td>Lenovo</td>\n",
       "      <td>14</td>\n",
       "      <td>1.29</td>\n",
       "      <td>18060.0</td>\n",
       "      <td>2015</td>\n",
       "      <td>October</td>\n",
       "      <td>Saturday</td>\n",
       "    </tr>\n",
       "  </tbody>\n",
       "</table>\n",
       "</div>"
      ],
      "text/plain": [
       "        Date Branch Sales Agent Products  Units   Price  Revenue(N)  Year  \\\n",
       "0 2014-09-01   Woji     Chinedu    Apple      2  125.00    250000.0  2014   \n",
       "1 2015-06-17   Woji       Emeka    Apple      5  125.00    625000.0  2015   \n",
       "2 2015-09-10   Woji     Ibrahim   Lenovo      7    1.29      9030.0  2015   \n",
       "3 2015-11-17   Woji        Tolu       HP     11    4.99     54890.0  2015   \n",
       "4 2015-10-31   Woji       Tonye   Lenovo     14    1.29     18060.0  2015   \n",
       "\n",
       "       Month       Week  \n",
       "0  September     Monday  \n",
       "1       June  Wednesday  \n",
       "2  September   Thursday  \n",
       "3   November    Tuesday  \n",
       "4    October   Saturday  "
      ]
     },
     "execution_count": 11,
     "metadata": {},
     "output_type": "execute_result"
    }
   ],
   "source": [
    "sales_data2.head()"
   ]
  },
  {
   "cell_type": "markdown",
   "id": "3d66d52b",
   "metadata": {},
   "source": [
    "### **Working on the KPI's (Key Performance index of the data)**\n",
    "1. Total units sold\n",
    "2. Total Revenue\n",
    "3. Average Revenue per unit\n",
    "4. Numbers of products\n",
    "5. Numbers of Sales Agents"
   ]
  },
  {
   "cell_type": "code",
   "execution_count": 12,
   "id": "da7b34a8",
   "metadata": {},
   "outputs": [
    {
     "name": "stdout",
     "output_type": "stream",
     "text": [
      "Total goods sold: 2121 units\n"
     ]
    }
   ],
   "source": [
    "# Total Units sold\n",
    "\n",
    "Total_goods_sold = sales_data2[\"Units\"].sum()\n",
    "print(f\"Total goods sold: {Total_goods_sold} units\")"
   ]
  },
  {
   "cell_type": "code",
   "execution_count": 13,
   "id": "71fce100",
   "metadata": {},
   "outputs": [
    {
     "name": "stdout",
     "output_type": "stream",
     "text": [
      "Total Revenue: N19627880.0\n"
     ]
    }
   ],
   "source": [
    "# Total Revenue\n",
    "Total_Revenue = sales_data2[\"Revenue(N)\"].sum()\n",
    "print(f\"Total Revenue: N{Total_Revenue}\")"
   ]
  },
  {
   "cell_type": "code",
   "execution_count": 14,
   "id": "6d6a04f1",
   "metadata": {},
   "outputs": [
    {
     "name": "stdout",
     "output_type": "stream",
     "text": [
      "Average Revenue per unit: N9254.07\n"
     ]
    }
   ],
   "source": [
    "#  Average Revenue per unit\n",
    "# using \"round() function to approximate to 2 decimal place\"\n",
    "Average_revenue_per_unit = round(Total_Revenue / Total_goods_sold,2)\n",
    "print(f\"Average Revenue per unit: N{Average_revenue_per_unit}\")"
   ]
  },
  {
   "cell_type": "code",
   "execution_count": 15,
   "id": "b62d0111",
   "metadata": {},
   "outputs": [
    {
     "name": "stdout",
     "output_type": "stream",
     "text": [
      "Numbers of products: 5\n"
     ]
    }
   ],
   "source": [
    "#4. Numbers of products\n",
    "## using the .nunique() shows the numbers of unique values\n",
    "Numbers_of_products = sales_data2[\"Products\"].nunique()\n",
    "print(f\"Numbers of products: {Numbers_of_products}\")"
   ]
  },
  {
   "cell_type": "code",
   "execution_count": 16,
   "id": "315ba92c",
   "metadata": {},
   "outputs": [
    {
     "name": "stdout",
     "output_type": "stream",
     "text": [
      "Numbers of Sales Agents: 11\n"
     ]
    }
   ],
   "source": [
    "# Numbers of Sales Agents\n",
    "Numbers_of_sales_agents = sales_data2[\"Sales Agent\"].nunique()\n",
    "print(f\"Numbers of Sales Agents: {Numbers_of_sales_agents}\")"
   ]
  },
  {
   "cell_type": "markdown",
   "id": "213c9f6b",
   "metadata": {},
   "source": [
    "### **Working on the insights by creating models and plotting their charts**"
   ]
  },
  {
   "cell_type": "code",
   "execution_count": 17,
   "id": "cd5ae5d8",
   "metadata": {},
   "outputs": [],
   "source": [
    "#  Set index using the date column\n",
    "sales_data2.set_index(\"Date\", inplace= True)\n",
    "\n",
    "# Don't run this twice. Else, it will throw error."
   ]
  },
  {
   "cell_type": "code",
   "execution_count": 18,
   "id": "c7c92fa7",
   "metadata": {},
   "outputs": [
    {
     "data": {
      "application/vnd.microsoft.datawrangler.viewer.v0+json": {
       "columns": [
        {
         "name": "Date",
         "rawType": "datetime64[ns]",
         "type": "datetime"
        },
        {
         "name": "Branch",
         "rawType": "object",
         "type": "string"
        },
        {
         "name": "Sales Agent",
         "rawType": "object",
         "type": "string"
        },
        {
         "name": "Products",
         "rawType": "object",
         "type": "string"
        },
        {
         "name": "Units",
         "rawType": "int64",
         "type": "integer"
        },
        {
         "name": "Price",
         "rawType": "float64",
         "type": "float"
        },
        {
         "name": "Revenue(N)",
         "rawType": "float64",
         "type": "float"
        },
        {
         "name": "Year",
         "rawType": "int32",
         "type": "integer"
        },
        {
         "name": "Month",
         "rawType": "object",
         "type": "string"
        },
        {
         "name": "Week",
         "rawType": "object",
         "type": "string"
        }
       ],
       "ref": "c0ab3689-f8d4-464c-b2d6-ba598c445bdf",
       "rows": [
        [
         "2014-09-01 00:00:00",
         "Woji",
         "Chinedu",
         "Apple",
         "2",
         "125.0",
         "250000.0",
         "2014",
         "September",
         "Monday"
        ],
        [
         "2015-06-17 00:00:00",
         "Woji",
         "Emeka",
         "Apple",
         "5",
         "125.0",
         "625000.0",
         "2015",
         "June",
         "Wednesday"
        ],
        [
         "2015-09-10 00:00:00",
         "Woji",
         "Ibrahim",
         "Lenovo",
         "7",
         "1.29",
         "9030.0",
         "2015",
         "September",
         "Thursday"
        ],
        [
         "2015-11-17 00:00:00",
         "Woji",
         "Tolu",
         "HP",
         "11",
         "4.99",
         "54890.0",
         "2015",
         "November",
         "Tuesday"
        ],
        [
         "2015-10-31 00:00:00",
         "Woji",
         "Tonye",
         "Lenovo",
         "14",
         "1.29",
         "18060.0",
         "2015",
         "October",
         "Saturday"
        ]
       ],
       "shape": {
        "columns": 9,
        "rows": 5
       }
      },
      "text/html": [
       "<div>\n",
       "<style scoped>\n",
       "    .dataframe tbody tr th:only-of-type {\n",
       "        vertical-align: middle;\n",
       "    }\n",
       "\n",
       "    .dataframe tbody tr th {\n",
       "        vertical-align: top;\n",
       "    }\n",
       "\n",
       "    .dataframe thead th {\n",
       "        text-align: right;\n",
       "    }\n",
       "</style>\n",
       "<table border=\"1\" class=\"dataframe\">\n",
       "  <thead>\n",
       "    <tr style=\"text-align: right;\">\n",
       "      <th></th>\n",
       "      <th>Branch</th>\n",
       "      <th>Sales Agent</th>\n",
       "      <th>Products</th>\n",
       "      <th>Units</th>\n",
       "      <th>Price</th>\n",
       "      <th>Revenue(N)</th>\n",
       "      <th>Year</th>\n",
       "      <th>Month</th>\n",
       "      <th>Week</th>\n",
       "    </tr>\n",
       "    <tr>\n",
       "      <th>Date</th>\n",
       "      <th></th>\n",
       "      <th></th>\n",
       "      <th></th>\n",
       "      <th></th>\n",
       "      <th></th>\n",
       "      <th></th>\n",
       "      <th></th>\n",
       "      <th></th>\n",
       "      <th></th>\n",
       "    </tr>\n",
       "  </thead>\n",
       "  <tbody>\n",
       "    <tr>\n",
       "      <th>2014-09-01</th>\n",
       "      <td>Woji</td>\n",
       "      <td>Chinedu</td>\n",
       "      <td>Apple</td>\n",
       "      <td>2</td>\n",
       "      <td>125.00</td>\n",
       "      <td>250000.0</td>\n",
       "      <td>2014</td>\n",
       "      <td>September</td>\n",
       "      <td>Monday</td>\n",
       "    </tr>\n",
       "    <tr>\n",
       "      <th>2015-06-17</th>\n",
       "      <td>Woji</td>\n",
       "      <td>Emeka</td>\n",
       "      <td>Apple</td>\n",
       "      <td>5</td>\n",
       "      <td>125.00</td>\n",
       "      <td>625000.0</td>\n",
       "      <td>2015</td>\n",
       "      <td>June</td>\n",
       "      <td>Wednesday</td>\n",
       "    </tr>\n",
       "    <tr>\n",
       "      <th>2015-09-10</th>\n",
       "      <td>Woji</td>\n",
       "      <td>Ibrahim</td>\n",
       "      <td>Lenovo</td>\n",
       "      <td>7</td>\n",
       "      <td>1.29</td>\n",
       "      <td>9030.0</td>\n",
       "      <td>2015</td>\n",
       "      <td>September</td>\n",
       "      <td>Thursday</td>\n",
       "    </tr>\n",
       "    <tr>\n",
       "      <th>2015-11-17</th>\n",
       "      <td>Woji</td>\n",
       "      <td>Tolu</td>\n",
       "      <td>HP</td>\n",
       "      <td>11</td>\n",
       "      <td>4.99</td>\n",
       "      <td>54890.0</td>\n",
       "      <td>2015</td>\n",
       "      <td>November</td>\n",
       "      <td>Tuesday</td>\n",
       "    </tr>\n",
       "    <tr>\n",
       "      <th>2015-10-31</th>\n",
       "      <td>Woji</td>\n",
       "      <td>Tonye</td>\n",
       "      <td>Lenovo</td>\n",
       "      <td>14</td>\n",
       "      <td>1.29</td>\n",
       "      <td>18060.0</td>\n",
       "      <td>2015</td>\n",
       "      <td>October</td>\n",
       "      <td>Saturday</td>\n",
       "    </tr>\n",
       "  </tbody>\n",
       "</table>\n",
       "</div>"
      ],
      "text/plain": [
       "           Branch Sales Agent Products  Units   Price  Revenue(N)  Year  \\\n",
       "Date                                                                      \n",
       "2014-09-01   Woji     Chinedu    Apple      2  125.00    250000.0  2014   \n",
       "2015-06-17   Woji       Emeka    Apple      5  125.00    625000.0  2015   \n",
       "2015-09-10   Woji     Ibrahim   Lenovo      7    1.29      9030.0  2015   \n",
       "2015-11-17   Woji        Tolu       HP     11    4.99     54890.0  2015   \n",
       "2015-10-31   Woji       Tonye   Lenovo     14    1.29     18060.0  2015   \n",
       "\n",
       "                Month       Week  \n",
       "Date                              \n",
       "2014-09-01  September     Monday  \n",
       "2015-06-17       June  Wednesday  \n",
       "2015-09-10  September   Thursday  \n",
       "2015-11-17   November    Tuesday  \n",
       "2015-10-31    October   Saturday  "
      ]
     },
     "execution_count": 18,
     "metadata": {},
     "output_type": "execute_result"
    }
   ],
   "source": [
    "sales_data2.head()"
   ]
  },
  {
   "cell_type": "markdown",
   "id": "6ea066a6",
   "metadata": {},
   "source": [
    "#### Class Task1: Calculate the Total Monthly revenue for year 2015 and plot the chart using 3 visualization packages in python"
   ]
  },
  {
   "cell_type": "code",
   "execution_count": 19,
   "id": "57f722d6",
   "metadata": {},
   "outputs": [
    {
     "data": {
      "text/plain": [
       "array([2014, 2015], dtype=int32)"
      ]
     },
     "execution_count": 19,
     "metadata": {},
     "output_type": "execute_result"
    }
   ],
   "source": [
    "sales_data2.Year.unique()"
   ]
  },
  {
   "cell_type": "code",
   "execution_count": 20,
   "id": "9b7da36f",
   "metadata": {},
   "outputs": [],
   "source": [
    "#  sales_2015 = sales_data2[sales_data2[\"Year\"] == 2015]"
   ]
  },
  {
   "cell_type": "code",
   "execution_count": 21,
   "id": "dfc2f002",
   "metadata": {},
   "outputs": [
    {
     "data": {
      "application/vnd.microsoft.datawrangler.viewer.v0+json": {
       "columns": [
        {
         "name": "Date",
         "rawType": "datetime64[ns]",
         "type": "datetime"
        },
        {
         "name": "Branch",
         "rawType": "object",
         "type": "string"
        },
        {
         "name": "Sales Agent",
         "rawType": "object",
         "type": "string"
        },
        {
         "name": "Products",
         "rawType": "object",
         "type": "string"
        },
        {
         "name": "Units",
         "rawType": "int64",
         "type": "integer"
        },
        {
         "name": "Price",
         "rawType": "float64",
         "type": "float"
        },
        {
         "name": "Revenue(N)",
         "rawType": "float64",
         "type": "float"
        },
        {
         "name": "Year",
         "rawType": "int32",
         "type": "integer"
        },
        {
         "name": "Month",
         "rawType": "object",
         "type": "string"
        },
        {
         "name": "Week",
         "rawType": "object",
         "type": "string"
        }
       ],
       "ref": "c61cde90-3dc1-49c3-8937-4905320ddf65",
       "rows": [
        [
         "2015-06-17 00:00:00",
         "Woji",
         "Emeka",
         "Apple",
         "5",
         "125.0",
         "625000.0",
         "2015",
         "June",
         "Wednesday"
        ],
        [
         "2015-09-10 00:00:00",
         "Woji",
         "Ibrahim",
         "Lenovo",
         "7",
         "1.29",
         "9030.0",
         "2015",
         "September",
         "Thursday"
        ],
        [
         "2015-11-17 00:00:00",
         "Woji",
         "Tolu",
         "HP",
         "11",
         "4.99",
         "54890.0",
         "2015",
         "November",
         "Tuesday"
        ]
       ],
       "shape": {
        "columns": 9,
        "rows": 3
       }
      },
      "text/html": [
       "<div>\n",
       "<style scoped>\n",
       "    .dataframe tbody tr th:only-of-type {\n",
       "        vertical-align: middle;\n",
       "    }\n",
       "\n",
       "    .dataframe tbody tr th {\n",
       "        vertical-align: top;\n",
       "    }\n",
       "\n",
       "    .dataframe thead th {\n",
       "        text-align: right;\n",
       "    }\n",
       "</style>\n",
       "<table border=\"1\" class=\"dataframe\">\n",
       "  <thead>\n",
       "    <tr style=\"text-align: right;\">\n",
       "      <th></th>\n",
       "      <th>Branch</th>\n",
       "      <th>Sales Agent</th>\n",
       "      <th>Products</th>\n",
       "      <th>Units</th>\n",
       "      <th>Price</th>\n",
       "      <th>Revenue(N)</th>\n",
       "      <th>Year</th>\n",
       "      <th>Month</th>\n",
       "      <th>Week</th>\n",
       "    </tr>\n",
       "    <tr>\n",
       "      <th>Date</th>\n",
       "      <th></th>\n",
       "      <th></th>\n",
       "      <th></th>\n",
       "      <th></th>\n",
       "      <th></th>\n",
       "      <th></th>\n",
       "      <th></th>\n",
       "      <th></th>\n",
       "      <th></th>\n",
       "    </tr>\n",
       "  </thead>\n",
       "  <tbody>\n",
       "    <tr>\n",
       "      <th>2015-06-17</th>\n",
       "      <td>Woji</td>\n",
       "      <td>Emeka</td>\n",
       "      <td>Apple</td>\n",
       "      <td>5</td>\n",
       "      <td>125.00</td>\n",
       "      <td>625000.0</td>\n",
       "      <td>2015</td>\n",
       "      <td>June</td>\n",
       "      <td>Wednesday</td>\n",
       "    </tr>\n",
       "    <tr>\n",
       "      <th>2015-09-10</th>\n",
       "      <td>Woji</td>\n",
       "      <td>Ibrahim</td>\n",
       "      <td>Lenovo</td>\n",
       "      <td>7</td>\n",
       "      <td>1.29</td>\n",
       "      <td>9030.0</td>\n",
       "      <td>2015</td>\n",
       "      <td>September</td>\n",
       "      <td>Thursday</td>\n",
       "    </tr>\n",
       "    <tr>\n",
       "      <th>2015-11-17</th>\n",
       "      <td>Woji</td>\n",
       "      <td>Tolu</td>\n",
       "      <td>HP</td>\n",
       "      <td>11</td>\n",
       "      <td>4.99</td>\n",
       "      <td>54890.0</td>\n",
       "      <td>2015</td>\n",
       "      <td>November</td>\n",
       "      <td>Tuesday</td>\n",
       "    </tr>\n",
       "  </tbody>\n",
       "</table>\n",
       "</div>"
      ],
      "text/plain": [
       "           Branch Sales Agent Products  Units   Price  Revenue(N)  Year  \\\n",
       "Date                                                                      \n",
       "2015-06-17   Woji       Emeka    Apple      5  125.00    625000.0  2015   \n",
       "2015-09-10   Woji     Ibrahim   Lenovo      7    1.29      9030.0  2015   \n",
       "2015-11-17   Woji        Tolu       HP     11    4.99     54890.0  2015   \n",
       "\n",
       "                Month       Week  \n",
       "Date                              \n",
       "2015-06-17       June  Wednesday  \n",
       "2015-09-10  September   Thursday  \n",
       "2015-11-17   November    Tuesday  "
      ]
     },
     "execution_count": 21,
     "metadata": {},
     "output_type": "execute_result"
    }
   ],
   "source": [
    "#  Monthly Revenue in 2015\n",
    "# Filtering for 2015\n",
    "\n",
    "sales_2015 = sales_data2[sales_data2[\"Year\"] == 2015]\n",
    "sales_2015.head(3)"
   ]
  },
  {
   "cell_type": "code",
   "execution_count": 22,
   "id": "9d35dd10",
   "metadata": {},
   "outputs": [
    {
     "data": {
      "application/vnd.microsoft.datawrangler.viewer.v0+json": {
       "columns": [
        {
         "name": "Month",
         "rawType": "object",
         "type": "string"
        },
        {
         "name": "Revenue(N)",
         "rawType": "float64",
         "type": "float"
        }
       ],
       "ref": "fcf5f035-57c1-4d2d-8293-53a4ea8fb89b",
       "rows": [
        [
         "April",
         "610380.0"
        ],
        [
         "August",
         "1830900.0"
        ],
        [
         "December",
         "2018780.0"
        ],
        [
         "February",
         "1324960.0"
        ],
        [
         "January",
         "413540.0"
        ],
        [
         "July",
         "996330.0"
        ],
        [
         "June",
         "625000.0"
        ],
        [
         "March",
         "389430.0"
        ],
        [
         "May",
         "787570.0"
        ],
        [
         "November",
         "54890.0"
        ],
        [
         "October",
         "1157490.0"
        ],
        [
         "September",
         "160270.0"
        ]
       ],
       "shape": {
        "columns": 1,
        "rows": 12
       }
      },
      "text/plain": [
       "Month\n",
       "April         610380.0\n",
       "August       1830900.0\n",
       "December     2018780.0\n",
       "February     1324960.0\n",
       "January       413540.0\n",
       "July          996330.0\n",
       "June          625000.0\n",
       "March         389430.0\n",
       "May           787570.0\n",
       "November       54890.0\n",
       "October      1157490.0\n",
       "September     160270.0\n",
       "Name: Revenue(N), dtype: float64"
      ]
     },
     "execution_count": 22,
     "metadata": {},
     "output_type": "execute_result"
    }
   ],
   "source": [
    "# I am using the .sort_index() to arrange the output, so the arrangement is done base on the index\n",
    "Total_monthly_revenue = sales_2015.groupby(\"Month\")[\"Revenue(N)\"].sum().sort_index()\n",
    "Total_monthly_revenue"
   ]
  },
  {
   "cell_type": "code",
   "execution_count": 23,
   "id": "0d35abb0",
   "metadata": {},
   "outputs": [
    {
     "data": {
      "application/vnd.microsoft.datawrangler.viewer.v0+json": {
       "columns": [
        {
         "name": "Month",
         "rawType": "object",
         "type": "string"
        },
        {
         "name": "Revenue(N)",
         "rawType": "float64",
         "type": "float"
        }
       ],
       "ref": "83895525-cfb1-4cb5-b519-cc69ec02fc51",
       "rows": [
        [
         "December",
         "2018780.0"
        ],
        [
         "August",
         "1830900.0"
        ],
        [
         "February",
         "1324960.0"
        ],
        [
         "October",
         "1157490.0"
        ],
        [
         "July",
         "996330.0"
        ],
        [
         "May",
         "787570.0"
        ],
        [
         "June",
         "625000.0"
        ],
        [
         "April",
         "610380.0"
        ],
        [
         "January",
         "413540.0"
        ],
        [
         "March",
         "389430.0"
        ],
        [
         "September",
         "160270.0"
        ],
        [
         "November",
         "54890.0"
        ]
       ],
       "shape": {
        "columns": 1,
        "rows": 12
       }
      },
      "text/plain": [
       "Month\n",
       "December     2018780.0\n",
       "August       1830900.0\n",
       "February     1324960.0\n",
       "October      1157490.0\n",
       "July          996330.0\n",
       "May           787570.0\n",
       "June          625000.0\n",
       "April         610380.0\n",
       "January       413540.0\n",
       "March         389430.0\n",
       "September     160270.0\n",
       "November       54890.0\n",
       "Name: Revenue(N), dtype: float64"
      ]
     },
     "execution_count": 23,
     "metadata": {},
     "output_type": "execute_result"
    }
   ],
   "source": [
    "# I am using the .sort_values() to arrange the output, so the arrangement is done base on the values\n",
    "\n",
    "Total_monthly_revenue = sales_2015.groupby(\"Month\")[\"Revenue(N)\"].sum().sort_values(ascending = False)\n",
    "Total_monthly_revenue"
   ]
  },
  {
   "cell_type": "code",
   "execution_count": 24,
   "id": "a6479a8f",
   "metadata": {},
   "outputs": [
    {
     "data": {
      "text/plain": [
       "<Axes: title={'center': 'Monthly Revenue for 2015'}, xlabel='Month', ylabel='Revenue(N)'>"
      ]
     },
     "execution_count": 24,
     "metadata": {},
     "output_type": "execute_result"
    },
    {
     "data": {
      "image/png": "[encoded data removed]",
      "text/plain": [
       "<Figure size 640x480 with 1 Axes>"
      ]
     },
     "metadata": {},
     "output_type": "display_data"
    }
   ],
   "source": [
    "# lets put this in a plot using pandas\n",
    "Total_monthly_revenue.plot(kind = \"bar\",xlabel = \"Month\", ylabel =\"Revenue(N)\", title= \"Monthly Revenue for 2015\")"
   ]
  },
  {
   "cell_type": "code",
   "execution_count": 25,
   "id": "c2276618",
   "metadata": {},
   "outputs": [
    {
     "data": {
      "image/png": "[encoded data removed]",
      "text/plain": [
       "<Figure size 640x480 with 1 Axes>"
      ]
     },
     "metadata": {},
     "output_type": "display_data"
    }
   ],
   "source": [
    "# lets use matlplotlib\n",
    "plt.bar(Total_monthly_revenue.index, Total_monthly_revenue.values)\n",
    "plt.xlabel(\"Month\")\n",
    "plt.ylabel(\"Revenue(N)\")\n",
    "plt.title(\"Monthly Revenue in 2015\")\n",
    "plt.xticks(rotation = 45)\n",
    "plt.show()"
   ]
  },
  {
   "cell_type": "code",
   "execution_count": 26,
   "id": "d0c24970",
   "metadata": {},
   "outputs": [],
   "source": [
    "#  Third visualization is Seaborn but not taught yet"
   ]
  },
  {
   "cell_type": "markdown",
   "id": "0bda19a7",
   "metadata": {},
   "source": [
    "### Student Task1: Follow the same step and calculate the monthly revenue for 2014 and plot that charts using the 3 visualization packages in python."
   ]
  },
  {
   "cell_type": "code",
   "execution_count": 27,
   "id": "ada8d658",
   "metadata": {},
   "outputs": [
    {
     "data": {
      "application/vnd.microsoft.datawrangler.viewer.v0+json": {
       "columns": [
        {
         "name": "Date",
         "rawType": "datetime64[ns]",
         "type": "datetime"
        },
        {
         "name": "Branch",
         "rawType": "object",
         "type": "string"
        },
        {
         "name": "Sales Agent",
         "rawType": "object",
         "type": "string"
        },
        {
         "name": "Products",
         "rawType": "object",
         "type": "string"
        },
        {
         "name": "Units",
         "rawType": "int64",
         "type": "integer"
        },
        {
         "name": "Price",
         "rawType": "float64",
         "type": "float"
        },
        {
         "name": "Revenue(N)",
         "rawType": "float64",
         "type": "float"
        },
        {
         "name": "Year",
         "rawType": "int32",
         "type": "integer"
        },
        {
         "name": "Month",
         "rawType": "object",
         "type": "string"
        },
        {
         "name": "Week",
         "rawType": "object",
         "type": "string"
        }
       ],
       "ref": "a6118593-f34d-46ac-8485-236e821ebf88",
       "rows": [
        [
         "2014-09-01 00:00:00",
         "Woji",
         "Chinedu",
         "Apple",
         "2",
         "125.0",
         "250000.0",
         "2014",
         "September",
         "Monday"
        ],
        [
         "2014-02-26 00:00:00",
         "Woji",
         "Ibrahim",
         "Compaq",
         "27",
         "19.99",
         "539730.0",
         "2014",
         "February",
         "Wednesday"
        ],
        [
         "2014-10-05 00:00:00",
         "Woji",
         "George",
         "HP",
         "28",
         "8.99",
         "251720.0",
         "2014",
         "October",
         "Sunday"
        ]
       ],
       "shape": {
        "columns": 9,
        "rows": 3
       }
      },
      "text/html": [
       "<div>\n",
       "<style scoped>\n",
       "    .dataframe tbody tr th:only-of-type {\n",
       "        vertical-align: middle;\n",
       "    }\n",
       "\n",
       "    .dataframe tbody tr th {\n",
       "        vertical-align: top;\n",
       "    }\n",
       "\n",
       "    .dataframe thead th {\n",
       "        text-align: right;\n",
       "    }\n",
       "</style>\n",
       "<table border=\"1\" class=\"dataframe\">\n",
       "  <thead>\n",
       "    <tr style=\"text-align: right;\">\n",
       "      <th></th>\n",
       "      <th>Branch</th>\n",
       "      <th>Sales Agent</th>\n",
       "      <th>Products</th>\n",
       "      <th>Units</th>\n",
       "      <th>Price</th>\n",
       "      <th>Revenue(N)</th>\n",
       "      <th>Year</th>\n",
       "      <th>Month</th>\n",
       "      <th>Week</th>\n",
       "    </tr>\n",
       "    <tr>\n",
       "      <th>Date</th>\n",
       "      <th></th>\n",
       "      <th></th>\n",
       "      <th></th>\n",
       "      <th></th>\n",
       "      <th></th>\n",
       "      <th></th>\n",
       "      <th></th>\n",
       "      <th></th>\n",
       "      <th></th>\n",
       "    </tr>\n",
       "  </thead>\n",
       "  <tbody>\n",
       "    <tr>\n",
       "      <th>2014-09-01</th>\n",
       "      <td>Woji</td>\n",
       "      <td>Chinedu</td>\n",
       "      <td>Apple</td>\n",
       "      <td>2</td>\n",
       "      <td>125.00</td>\n",
       "      <td>250000.0</td>\n",
       "      <td>2014</td>\n",
       "      <td>September</td>\n",
       "      <td>Monday</td>\n",
       "    </tr>\n",
       "    <tr>\n",
       "      <th>2014-02-26</th>\n",
       "      <td>Woji</td>\n",
       "      <td>Ibrahim</td>\n",
       "      <td>Compaq</td>\n",
       "      <td>27</td>\n",
       "      <td>19.99</td>\n",
       "      <td>539730.0</td>\n",
       "      <td>2014</td>\n",
       "      <td>February</td>\n",
       "      <td>Wednesday</td>\n",
       "    </tr>\n",
       "    <tr>\n",
       "      <th>2014-10-05</th>\n",
       "      <td>Woji</td>\n",
       "      <td>George</td>\n",
       "      <td>HP</td>\n",
       "      <td>28</td>\n",
       "      <td>8.99</td>\n",
       "      <td>251720.0</td>\n",
       "      <td>2014</td>\n",
       "      <td>October</td>\n",
       "      <td>Sunday</td>\n",
       "    </tr>\n",
       "  </tbody>\n",
       "</table>\n",
       "</div>"
      ],
      "text/plain": [
       "           Branch Sales Agent Products  Units   Price  Revenue(N)  Year  \\\n",
       "Date                                                                      \n",
       "2014-09-01   Woji     Chinedu    Apple      2  125.00    250000.0  2014   \n",
       "2014-02-26   Woji     Ibrahim   Compaq     27   19.99    539730.0  2014   \n",
       "2014-10-05   Woji      George       HP     28    8.99    251720.0  2014   \n",
       "\n",
       "                Month       Week  \n",
       "Date                              \n",
       "2014-09-01  September     Monday  \n",
       "2014-02-26   February  Wednesday  \n",
       "2014-10-05    October     Sunday  "
      ]
     },
     "execution_count": 27,
     "metadata": {},
     "output_type": "execute_result"
    }
   ],
   "source": [
    "sales_2014 = sales_data2[sales_data2[\"Year\"] == 2014]\n",
    "\n",
    "# Call out the filtering for 2014\n",
    "sales_2014.head(3)"
   ]
  },
  {
   "cell_type": "code",
   "execution_count": 28,
   "id": "25373c4e",
   "metadata": {},
   "outputs": [
    {
     "name": "stdout",
     "output_type": "stream",
     "text": [
      "Total monthly revenue for 2014 according to index :\n",
      " Month\n",
      "April         448650.0\n",
      "August        174650.0\n",
      "December     1269690.0\n",
      "February      719370.0\n",
      "January      1188550.0\n",
      "July         1676900.0\n",
      "June          988500.0\n",
      "March         167440.0\n",
      "May           512780.0\n",
      "November      778890.0\n",
      "October       827080.0\n",
      "September     505840.0\n",
      "Name: Revenue(N), dtype: float64\n"
     ]
    }
   ],
   "source": [
    "Total_monthly_revenue2 = sales_2014.groupby(\"Month\")[\"Revenue(N)\"].sum().sort_index() \n",
    "print(f\"Total monthly revenue for 2014 according to index :\\n {Total_monthly_revenue2}\")"
   ]
  },
  {
   "cell_type": "code",
   "execution_count": 29,
   "id": "b05e651d",
   "metadata": {},
   "outputs": [
    {
     "name": "stdout",
     "output_type": "stream",
     "text": [
      "Total monthly revenue for 2014 according to Sorted Values:\n",
      " Month\n",
      "March         167440.0\n",
      "August        174650.0\n",
      "April         448650.0\n",
      "September     505840.0\n",
      "May           512780.0\n",
      "February      719370.0\n",
      "November      778890.0\n",
      "October       827080.0\n",
      "June          988500.0\n",
      "January      1188550.0\n",
      "December     1269690.0\n",
      "July         1676900.0\n",
      "Name: Revenue(N), dtype: float64\n"
     ]
    }
   ],
   "source": [
    "Total_monthly_revenue2 = sales_2014.groupby(\"Month\")[\"Revenue(N)\"].sum().sort_values()\n",
    "print(f\"Total monthly revenue for 2014 according to Sorted Values:\\n {Total_monthly_revenue2}\")"
   ]
  },
  {
   "cell_type": "code",
   "execution_count": 30,
   "id": "4527dc86",
   "metadata": {},
   "outputs": [
    {
     "data": {
      "text/plain": [
       "<Axes: title={'center': 'Monthly Revenue for 2014'}, xlabel='Month', ylabel='Revenue(N)'>"
      ]
     },
     "execution_count": 30,
     "metadata": {},
     "output_type": "execute_result"
    },
    {
     "data": {
      "image/png": "[encoded data removed]",
      "text/plain": [
       "<Figure size 640x480 with 1 Axes>"
      ]
     },
     "metadata": {},
     "output_type": "display_data"
    }
   ],
   "source": [
    "# Plotting using pandas\n",
    "Total_monthly_revenue2.plot(kind= \"bar\", xlabel= \"Month\", ylabel= \"Revenue(N)\", title= \"Monthly Revenue for 2014\")"
   ]
  },
  {
   "cell_type": "code",
   "execution_count": 31,
   "id": "08166e2b",
   "metadata": {},
   "outputs": [
    {
     "data": {
      "image/png": "[encoded data removed]",
      "text/plain": [
       "<Figure size 640x480 with 1 Axes>"
      ]
     },
     "metadata": {},
     "output_type": "display_data"
    }
   ],
   "source": [
    "#  Plotting using matplotlib\n",
    "plt.bar(Total_monthly_revenue2.index, Total_monthly_revenue.values)\n",
    "plt.xlabel(\"Month\")\n",
    "plt.ylabel(\"Revenue(N)\")\n",
    "plt.title(\"Monthly Revenue in 2014\")\n",
    "plt.xticks(rotation = 45)\n",
    "plt.show()"
   ]
  },
  {
   "cell_type": "code",
   "execution_count": 32,
   "id": "5c7edae1",
   "metadata": {},
   "outputs": [
    {
     "data": {
      "text/plain": [
       "array(['Woji', 'GRA', 'Town'], dtype=object)"
      ]
     },
     "execution_count": 32,
     "metadata": {},
     "output_type": "execute_result"
    }
   ],
   "source": [
    "# Total revenue by branch\n",
    "# Lest check the branches we have first\n",
    "sales_data2[\"Branch\"].unique()"
   ]
  },
  {
   "cell_type": "code",
   "execution_count": 33,
   "id": "17474229",
   "metadata": {},
   "outputs": [
    {
     "data": {
      "application/vnd.microsoft.datawrangler.viewer.v0+json": {
       "columns": [
        {
         "name": "Branch",
         "rawType": "object",
         "type": "string"
        },
        {
         "name": "Revenue(N)",
         "rawType": "float64",
         "type": "float"
        }
       ],
       "ref": "5ca10f25-bd00-4e32-8444-ad23db9bf75f",
       "rows": [
        [
         "Woji",
         "11139070.0"
        ],
        [
         "GRA",
         "6002090.0"
        ],
        [
         "Town",
         "2486720.0"
        ]
       ],
       "shape": {
        "columns": 1,
        "rows": 3
       }
      },
      "text/plain": [
       "Branch\n",
       "Woji    11139070.0\n",
       "GRA      6002090.0\n",
       "Town     2486720.0\n",
       "Name: Revenue(N), dtype: float64"
      ]
     },
     "execution_count": 33,
     "metadata": {},
     "output_type": "execute_result"
    }
   ],
   "source": [
    "Total_revenue_by_branch = sales_data2.groupby(\"Branch\")[\"Revenue(N)\"].sum().sort_values(ascending= False)\n",
    "Total_revenue_by_branch"
   ]
  },
  {
   "cell_type": "code",
   "execution_count": 34,
   "id": "86fb7d00",
   "metadata": {},
   "outputs": [
    {
     "data": {
      "image/png": "[encoded data removed]",
      "text/plain": [
       "<Figure size 640x480 with 1 Axes>"
      ]
     },
     "metadata": {},
     "output_type": "display_data"
    }
   ],
   "source": [
    "#  Plot the chart for Total Revenue by branch using matplotlib\n",
    "plt.pie(Total_revenue_by_branch.values, labels=Total_revenue_by_branch.index, autopct= '%1.1f%%')\n",
    "plt.xlabel(\"Branch\")\n",
    "plt.ylabel(\"Revenue(N)\")\n",
    "plt.title(\"Total Revenue by Branch\")\n",
    "plt.show()"
   ]
  },
  {
   "cell_type": "code",
   "execution_count": 35,
   "id": "47d11e6f",
   "metadata": {},
   "outputs": [
    {
     "data": {
      "text/plain": [
       "array(['Apple', 'Lenovo', 'HP', 'Compaq', 'Dell'], dtype=object)"
      ]
     },
     "execution_count": 35,
     "metadata": {},
     "output_type": "execute_result"
    }
   ],
   "source": [
    "#Total revenue by products\n",
    "## lets check the products available first\n",
    "sales_data2[\"Products\"].unique()"
   ]
  },
  {
   "cell_type": "code",
   "execution_count": 36,
   "id": "58173f1b",
   "metadata": {},
   "outputs": [
    {
     "data": {
      "application/vnd.microsoft.datawrangler.viewer.v0+json": {
       "columns": [
        {
         "name": "Products",
         "rawType": "object",
         "type": "string"
        },
        {
         "name": "Revenue(N)",
         "rawType": "float64",
         "type": "float"
        }
       ],
       "ref": "989554e0-5da2-46c4-bff2-65d7c990293a",
       "rows": [
        [
         "HP",
         "9577650.0"
        ],
        [
         "Dell",
         "4169870.0"
        ],
        [
         "Lenovo",
         "2135140.0"
        ],
        [
         "Compaq",
         "2045220.0"
        ],
        [
         "Apple",
         "1700000.0"
        ]
       ],
       "shape": {
        "columns": 1,
        "rows": 5
       }
      },
      "text/plain": [
       "Products\n",
       "HP        9577650.0\n",
       "Dell      4169870.0\n",
       "Lenovo    2135140.0\n",
       "Compaq    2045220.0\n",
       "Apple     1700000.0\n",
       "Name: Revenue(N), dtype: float64"
      ]
     },
     "execution_count": 36,
     "metadata": {},
     "output_type": "execute_result"
    }
   ],
   "source": [
    "Total_revenue_by_product = sales_data2.groupby(\"Products\")[\"Revenue(N)\"].sum().sort_values(ascending = False)\n",
    "Total_revenue_by_product"
   ]
  },
  {
   "cell_type": "code",
   "execution_count": 37,
   "id": "60226f5f",
   "metadata": {},
   "outputs": [
    {
     "data": {
      "image/png": "[encoded data removed]",
      "text/plain": [
       "<Figure size 640x480 with 1 Axes>"
      ]
     },
     "metadata": {},
     "output_type": "display_data"
    }
   ],
   "source": [
    "# LEts plot\n",
    "plt.pie(Total_revenue_by_product.values, labels=Total_revenue_by_product.index, autopct='%1.1f%%')\n",
    "plt.xlabel(\"Product\")\n",
    "plt.ylabel(\"Revenue(N)\")\n",
    "plt.title(\"Total Revenue by Product\")\n",
    "plt.show()"
   ]
  },
  {
   "cell_type": "code",
   "execution_count": 38,
   "id": "225a4235",
   "metadata": {},
   "outputs": [
    {
     "data": {
      "text/plain": [
       "array(['Chinedu', 'Emeka', 'Ibrahim', 'Tolu', 'Tonye', 'George',\n",
       "       'Blessing', 'Chioma', 'Torbari', 'Uche', 'Tunde'], dtype=object)"
      ]
     },
     "execution_count": 38,
     "metadata": {},
     "output_type": "execute_result"
    }
   ],
   "source": [
    "#3. Total revenue by sales agent\n",
    "\n",
    "#Lets check who our sales agents are\n",
    "sales_data2[\"Sales Agent\"].unique()"
   ]
  },
  {
   "cell_type": "code",
   "execution_count": 39,
   "id": "5bc4cdaa",
   "metadata": {},
   "outputs": [
    {
     "data": {
      "application/vnd.microsoft.datawrangler.viewer.v0+json": {
       "columns": [
        {
         "name": "Sales Agent",
         "rawType": "object",
         "type": "string"
        },
        {
         "name": "Revenue(N)",
         "rawType": "float64",
         "type": "float"
        }
       ],
       "ref": "1f0e3fd3-7d67-4964-90bd-abd91e2c3786",
       "rows": [
        [
         "Emeka",
         "3109440.0"
        ],
        [
         "Chioma",
         "3102300.0"
        ],
        [
         "Tolu",
         "2812190.0"
        ],
        [
         "Blessing",
         "2363040.0"
        ],
        [
         "Ibrahim",
         "1749870.0"
        ],
        [
         "Chinedu",
         "1641430.0"
        ],
        [
         "George",
         "1387770.0"
        ],
        [
         "Uche",
         "1283610.0"
        ],
        [
         "Tunde",
         "1203110.0"
        ],
        [
         "Torbari",
         "536750.0"
        ],
        [
         "Tonye",
         "438370.0"
        ]
       ],
       "shape": {
        "columns": 1,
        "rows": 11
       }
      },
      "text/plain": [
       "Sales Agent\n",
       "Emeka       3109440.0\n",
       "Chioma      3102300.0\n",
       "Tolu        2812190.0\n",
       "Blessing    2363040.0\n",
       "Ibrahim     1749870.0\n",
       "Chinedu     1641430.0\n",
       "George      1387770.0\n",
       "Uche        1283610.0\n",
       "Tunde       1203110.0\n",
       "Torbari      536750.0\n",
       "Tonye        438370.0\n",
       "Name: Revenue(N), dtype: float64"
      ]
     },
     "execution_count": 39,
     "metadata": {},
     "output_type": "execute_result"
    }
   ],
   "source": [
    "Total_revenue_by_sales_agent = sales_data2.groupby(\"Sales Agent\")[\"Revenue(N)\"].sum().sort_values(ascending = False)\n",
    "Total_revenue_by_sales_agent"
   ]
  },
  {
   "cell_type": "code",
   "execution_count": 40,
   "id": "6e6f051c",
   "metadata": {},
   "outputs": [
    {
     "data": {
      "text/plain": [
       "<Axes: ylabel='Sales Agent'>"
      ]
     },
     "execution_count": 40,
     "metadata": {},
     "output_type": "execute_result"
    },
    {
     "data": {
      "image/png": "[encoded data removed]",
      "text/plain": [
       "<Figure size 640x480 with 1 Axes>"
      ]
     },
     "metadata": {},
     "output_type": "display_data"
    }
   ],
   "source": [
    "# lets plot using seaborn barchart\n",
    "sns.barplot(x = Total_revenue_by_sales_agent.values, y = Total_revenue_by_sales_agent.index, orient = \"h\")"
   ]
  },
  {
   "cell_type": "code",
   "execution_count": 41,
   "id": "a595e615",
   "metadata": {},
   "outputs": [
    {
     "data": {
      "application/vnd.microsoft.datawrangler.viewer.v0+json": {
       "columns": [
        {
         "name": "Week",
         "rawType": "object",
         "type": "string"
        },
        {
         "name": "Revenue(N)",
         "rawType": "float64",
         "type": "float"
        }
       ],
       "ref": "cb146f97-ea6f-4ff9-bd16-dfa7dc2f00ba",
       "rows": [
        [
         "Monday",
         "3515170.0"
        ],
        [
         "Friday",
         "3426630.0"
        ],
        [
         "Tuesday",
         "3388970.0"
        ],
        [
         "Wednesday",
         "3348580.0"
        ],
        [
         "Sunday",
         "3146200.0"
        ],
        [
         "Thursday",
         "1809960.0"
        ],
        [
         "Saturday",
         "992370.0"
        ]
       ],
       "shape": {
        "columns": 1,
        "rows": 7
       }
      },
      "text/plain": [
       "Week\n",
       "Monday       3515170.0\n",
       "Friday       3426630.0\n",
       "Tuesday      3388970.0\n",
       "Wednesday    3348580.0\n",
       "Sunday       3146200.0\n",
       "Thursday     1809960.0\n",
       "Saturday      992370.0\n",
       "Name: Revenue(N), dtype: float64"
      ]
     },
     "execution_count": 41,
     "metadata": {},
     "output_type": "execute_result"
    }
   ],
   "source": [
    "#4. Total revenue by week\n",
    "Total_revenue_by_week = sales_data2.groupby(\"Week\")[\"Revenue(N)\"].sum().sort_values(ascending = False)\n",
    "Total_revenue_by_week"
   ]
  },
  {
   "cell_type": "code",
   "execution_count": 42,
   "id": "0d3a9928",
   "metadata": {},
   "outputs": [
    {
     "data": {
      "image/png": "[encoded data removed]",
      "text/plain": [
       "<Figure size 640x480 with 1 Axes>"
      ]
     },
     "metadata": {},
     "output_type": "display_data"
    }
   ],
   "source": [
    "# Plotting the above using line chart\n",
    "plt.plot(Total_revenue_by_week.index, Total_revenue_by_week.values)\n",
    "plt.xlabel(\"Week\")\n",
    "plt.ylabel(\"Revenue(N)\")\n",
    "plt.title(\"Total Revenue by Week\")\n",
    "plt.show()"
   ]
  },
  {
   "cell_type": "code",
   "execution_count": 46,
   "id": "e55801a6",
   "metadata": {},
   "outputs": [
    {
     "data": {
      "application/vnd.microsoft.datawrangler.viewer.v0+json": {
       "columns": [
        {
         "name": "Month",
         "rawType": "object",
         "type": "string"
        },
        {
         "name": "Revenue(N)",
         "rawType": "float64",
         "type": "float"
        }
       ],
       "ref": "4d014244-5c57-4ec6-b59d-23ef4cdd3985",
       "rows": [
        [
         "December",
         "3288470.0"
        ],
        [
         "July",
         "2673230.0"
        ],
        [
         "February",
         "2044330.0"
        ],
        [
         "August",
         "2005550.0"
        ],
        [
         "October",
         "1984570.0"
        ],
        [
         "June",
         "1613500.0"
        ],
        [
         "January",
         "1602090.0"
        ],
        [
         "May",
         "1300350.0"
        ],
        [
         "April",
         "1059030.0"
        ],
        [
         "November",
         "833780.0"
        ],
        [
         "September",
         "666110.0"
        ],
        [
         "March",
         "556870.0"
        ]
       ],
       "shape": {
        "columns": 1,
        "rows": 12
       }
      },
      "text/plain": [
       "Month\n",
       "December     3288470.0\n",
       "July         2673230.0\n",
       "February     2044330.0\n",
       "August       2005550.0\n",
       "October      1984570.0\n",
       "June         1613500.0\n",
       "January      1602090.0\n",
       "May          1300350.0\n",
       "April        1059030.0\n",
       "November      833780.0\n",
       "September     666110.0\n",
       "March         556870.0\n",
       "Name: Revenue(N), dtype: float64"
      ]
     },
     "execution_count": 46,
     "metadata": {},
     "output_type": "execute_result"
    }
   ],
   "source": [
    "# Total revenue by month\n",
    "Total_revenue_by_month = sales_data2.groupby(\"Month\")[\"Revenue(N)\"].sum().sort_values(ascending= False)\n",
    "Total_revenue_by_month"
   ]
  },
  {
   "cell_type": "code",
   "execution_count": 56,
   "id": "7dc2925b",
   "metadata": {},
   "outputs": [
    {
     "data": {
      "image/png": "[encoded data removed]",
      "text/plain": [
       "<Figure size 640x480 with 1 Axes>"
      ]
     },
     "metadata": {},
     "output_type": "display_data"
    }
   ],
   "source": [
    "# Plot using seaborn for line chart\n",
    "sns.lineplot(x = Total_revenue_by_month.index, y = Total_revenue_by_month.values)\n",
    "plt.xlabel(\"Month\")\n",
    "plt.xticks(rotation = 45)\n",
    "plt.ylabel(\"Revenue(N)\")\n",
    "plt.title(\"Total Revenue by Month\")\n",
    "plt.show()"
   ]
  },
  {
   "cell_type": "code",
   "execution_count": 57,
   "id": "d742a8cb",
   "metadata": {},
   "outputs": [
    {
     "data": {
      "application/vnd.microsoft.datawrangler.viewer.v0+json": {
       "columns": [
        {
         "name": "index",
         "rawType": "int64",
         "type": "integer"
        },
        {
         "name": "Year",
         "rawType": "int32",
         "type": "integer"
        },
        {
         "name": "Month",
         "rawType": "object",
         "type": "string"
        },
        {
         "name": "Revenue(N)",
         "rawType": "float64",
         "type": "float"
        }
       ],
       "ref": "3db71ae7-9f8b-4a07-bbf3-04f8c9dff5ec",
       "rows": [
        [
         "0",
         "2014",
         "April",
         "448650.0"
        ],
        [
         "1",
         "2014",
         "August",
         "174650.0"
        ],
        [
         "2",
         "2014",
         "December",
         "1269690.0"
        ],
        [
         "3",
         "2014",
         "February",
         "719370.0"
        ],
        [
         "4",
         "2014",
         "January",
         "1188550.0"
        ],
        [
         "5",
         "2014",
         "July",
         "1676900.0"
        ],
        [
         "6",
         "2014",
         "June",
         "988500.0"
        ],
        [
         "7",
         "2014",
         "March",
         "167440.0"
        ],
        [
         "8",
         "2014",
         "May",
         "512780.0"
        ],
        [
         "9",
         "2014",
         "November",
         "778890.0"
        ],
        [
         "10",
         "2014",
         "October",
         "827080.0"
        ],
        [
         "11",
         "2014",
         "September",
         "505840.0"
        ],
        [
         "12",
         "2015",
         "April",
         "610380.0"
        ],
        [
         "13",
         "2015",
         "August",
         "1830900.0"
        ],
        [
         "14",
         "2015",
         "December",
         "2018780.0"
        ],
        [
         "15",
         "2015",
         "February",
         "1324960.0"
        ],
        [
         "16",
         "2015",
         "January",
         "413540.0"
        ],
        [
         "17",
         "2015",
         "July",
         "996330.0"
        ],
        [
         "18",
         "2015",
         "June",
         "625000.0"
        ],
        [
         "19",
         "2015",
         "March",
         "389430.0"
        ],
        [
         "20",
         "2015",
         "May",
         "787570.0"
        ],
        [
         "21",
         "2015",
         "November",
         "54890.0"
        ],
        [
         "22",
         "2015",
         "October",
         "1157490.0"
        ],
        [
         "23",
         "2015",
         "September",
         "160270.0"
        ]
       ],
       "shape": {
        "columns": 3,
        "rows": 24
       }
      },
      "text/html": [
       "<div>\n",
       "<style scoped>\n",
       "    .dataframe tbody tr th:only-of-type {\n",
       "        vertical-align: middle;\n",
       "    }\n",
       "\n",
       "    .dataframe tbody tr th {\n",
       "        vertical-align: top;\n",
       "    }\n",
       "\n",
       "    .dataframe thead th {\n",
       "        text-align: right;\n",
       "    }\n",
       "</style>\n",
       "<table border=\"1\" class=\"dataframe\">\n",
       "  <thead>\n",
       "    <tr style=\"text-align: right;\">\n",
       "      <th></th>\n",
       "      <th>Year</th>\n",
       "      <th>Month</th>\n",
       "      <th>Revenue(N)</th>\n",
       "    </tr>\n",
       "  </thead>\n",
       "  <tbody>\n",
       "    <tr>\n",
       "      <th>0</th>\n",
       "      <td>2014</td>\n",
       "      <td>April</td>\n",
       "      <td>448650.0</td>\n",
       "    </tr>\n",
       "    <tr>\n",
       "      <th>1</th>\n",
       "      <td>2014</td>\n",
       "      <td>August</td>\n",
       "      <td>174650.0</td>\n",
       "    </tr>\n",
       "    <tr>\n",
       "      <th>2</th>\n",
       "      <td>2014</td>\n",
       "      <td>December</td>\n",
       "      <td>1269690.0</td>\n",
       "    </tr>\n",
       "    <tr>\n",
       "      <th>3</th>\n",
       "      <td>2014</td>\n",
       "      <td>February</td>\n",
       "      <td>719370.0</td>\n",
       "    </tr>\n",
       "    <tr>\n",
       "      <th>4</th>\n",
       "      <td>2014</td>\n",
       "      <td>January</td>\n",
       "      <td>1188550.0</td>\n",
       "    </tr>\n",
       "    <tr>\n",
       "      <th>5</th>\n",
       "      <td>2014</td>\n",
       "      <td>July</td>\n",
       "      <td>1676900.0</td>\n",
       "    </tr>\n",
       "    <tr>\n",
       "      <th>6</th>\n",
       "      <td>2014</td>\n",
       "      <td>June</td>\n",
       "      <td>988500.0</td>\n",
       "    </tr>\n",
       "    <tr>\n",
       "      <th>7</th>\n",
       "      <td>2014</td>\n",
       "      <td>March</td>\n",
       "      <td>167440.0</td>\n",
       "    </tr>\n",
       "    <tr>\n",
       "      <th>8</th>\n",
       "      <td>2014</td>\n",
       "      <td>May</td>\n",
       "      <td>512780.0</td>\n",
       "    </tr>\n",
       "    <tr>\n",
       "      <th>9</th>\n",
       "      <td>2014</td>\n",
       "      <td>November</td>\n",
       "      <td>778890.0</td>\n",
       "    </tr>\n",
       "    <tr>\n",
       "      <th>10</th>\n",
       "      <td>2014</td>\n",
       "      <td>October</td>\n",
       "      <td>827080.0</td>\n",
       "    </tr>\n",
       "    <tr>\n",
       "      <th>11</th>\n",
       "      <td>2014</td>\n",
       "      <td>September</td>\n",
       "      <td>505840.0</td>\n",
       "    </tr>\n",
       "    <tr>\n",
       "      <th>12</th>\n",
       "      <td>2015</td>\n",
       "      <td>April</td>\n",
       "      <td>610380.0</td>\n",
       "    </tr>\n",
       "    <tr>\n",
       "      <th>13</th>\n",
       "      <td>2015</td>\n",
       "      <td>August</td>\n",
       "      <td>1830900.0</td>\n",
       "    </tr>\n",
       "    <tr>\n",
       "      <th>14</th>\n",
       "      <td>2015</td>\n",
       "      <td>December</td>\n",
       "      <td>2018780.0</td>\n",
       "    </tr>\n",
       "    <tr>\n",
       "      <th>15</th>\n",
       "      <td>2015</td>\n",
       "      <td>February</td>\n",
       "      <td>1324960.0</td>\n",
       "    </tr>\n",
       "    <tr>\n",
       "      <th>16</th>\n",
       "      <td>2015</td>\n",
       "      <td>January</td>\n",
       "      <td>413540.0</td>\n",
       "    </tr>\n",
       "    <tr>\n",
       "      <th>17</th>\n",
       "      <td>2015</td>\n",
       "      <td>July</td>\n",
       "      <td>996330.0</td>\n",
       "    </tr>\n",
       "    <tr>\n",
       "      <th>18</th>\n",
       "      <td>2015</td>\n",
       "      <td>June</td>\n",
       "      <td>625000.0</td>\n",
       "    </tr>\n",
       "    <tr>\n",
       "      <th>19</th>\n",
       "      <td>2015</td>\n",
       "      <td>March</td>\n",
       "      <td>389430.0</td>\n",
       "    </tr>\n",
       "    <tr>\n",
       "      <th>20</th>\n",
       "      <td>2015</td>\n",
       "      <td>May</td>\n",
       "      <td>787570.0</td>\n",
       "    </tr>\n",
       "    <tr>\n",
       "      <th>21</th>\n",
       "      <td>2015</td>\n",
       "      <td>November</td>\n",
       "      <td>54890.0</td>\n",
       "    </tr>\n",
       "    <tr>\n",
       "      <th>22</th>\n",
       "      <td>2015</td>\n",
       "      <td>October</td>\n",
       "      <td>1157490.0</td>\n",
       "    </tr>\n",
       "    <tr>\n",
       "      <th>23</th>\n",
       "      <td>2015</td>\n",
       "      <td>September</td>\n",
       "      <td>160270.0</td>\n",
       "    </tr>\n",
       "  </tbody>\n",
       "</table>\n",
       "</div>"
      ],
      "text/plain": [
       "    Year      Month  Revenue(N)\n",
       "0   2014      April    448650.0\n",
       "1   2014     August    174650.0\n",
       "2   2014   December   1269690.0\n",
       "3   2014   February    719370.0\n",
       "4   2014    January   1188550.0\n",
       "5   2014       July   1676900.0\n",
       "6   2014       June    988500.0\n",
       "7   2014      March    167440.0\n",
       "8   2014        May    512780.0\n",
       "9   2014   November    778890.0\n",
       "10  2014    October    827080.0\n",
       "11  2014  September    505840.0\n",
       "12  2015      April    610380.0\n",
       "13  2015     August   1830900.0\n",
       "14  2015   December   2018780.0\n",
       "15  2015   February   1324960.0\n",
       "16  2015    January    413540.0\n",
       "17  2015       July    996330.0\n",
       "18  2015       June    625000.0\n",
       "19  2015      March    389430.0\n",
       "20  2015        May    787570.0\n",
       "21  2015   November     54890.0\n",
       "22  2015    October   1157490.0\n",
       "23  2015  September    160270.0"
      ]
     },
     "execution_count": 57,
     "metadata": {},
     "output_type": "execute_result"
    }
   ],
   "source": [
    "# Trends of Sales\n",
    "Trends_of_sales_over_the_year = sales_data2.groupby([\"Year\", \"Month\"])[\"Revenue(N)\"].sum().reset_index()\n",
    "Trends_of_sales_over_the_year"
   ]
  },
  {
   "cell_type": "code",
   "execution_count": 58,
   "id": "4ce52b73",
   "metadata": {},
   "outputs": [
    {
     "data": {
      "text/plain": [
       "[<matplotlib.lines.Line2D at 0x14f7f5a9760>]"
      ]
     },
     "execution_count": 58,
     "metadata": {},
     "output_type": "execute_result"
    },
    {
     "data": {
      "image/png": "[encoded data removed]",
      "text/plain": [
       "<Figure size 640x480 with 1 Axes>"
      ]
     },
     "metadata": {},
     "output_type": "display_data"
    }
   ],
   "source": [
    "# lets plot\n",
    "plt.plot(Trends_of_sales_over_the_year[\"Month\"], Trends_of_sales_over_the_year[\"Revenue(N)\"])"
   ]
  }
 ],
 "metadata": {
  "kernelspec": {
   "display_name": "a_env",
   "language": "python",
   "name": "python3"
  },
  "language_info": {
   "codemirror_mode": {
    "name": "ipython",
    "version": 3
   },
   "file_extension": ".py",
   "mimetype": "text/x-python",
   "name": "python",
   "nbconvert_exporter": "python",
   "pygments_lexer": "ipython3",
   "version": "3.12.7"
  }
 },
 "nbformat": 4,
 "nbformat_minor": 5
}
