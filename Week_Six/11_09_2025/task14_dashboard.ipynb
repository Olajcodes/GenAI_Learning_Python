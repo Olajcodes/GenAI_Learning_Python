{
 "cells": [
  {
   "cell_type": "markdown",
   "id": "72742aa4",
   "metadata": {},
   "source": [
    "## **My Dashboard Data Wrangling**"
   ]
  },
  {
   "cell_type": "code",
   "execution_count": 2,
   "id": "0e80579a",
   "metadata": {},
   "outputs": [
    {
     "name": "stdout",
     "output_type": "stream",
     "text": [
      "Imported successful\n"
     ]
    }
   ],
   "source": [
    "# Importing the necessary libraries\n",
    "import pandas as pd\n",
    "import matplotlib.pyplot as plt\n",
    "import seaborn as sns\n",
    "\n",
    "print(\"Imported successful\")"
   ]
  },
  {
   "cell_type": "code",
   "execution_count": 6,
   "id": "2408dc41",
   "metadata": {},
   "outputs": [],
   "source": [
    "# Loading in the dataset\n",
    "sales_data = pd.read_excel(\"eletronic_sales.xlsx\")"
   ]
  },
  {
   "cell_type": "code",
   "execution_count": 7,
   "id": "c6787c2f",
   "metadata": {},
   "outputs": [
    {
     "data": {
      "text/html": [
       "<div>\n",
       "<style scoped>\n",
       "    .dataframe tbody tr th:only-of-type {\n",
       "        vertical-align: middle;\n",
       "    }\n",
       "\n",
       "    .dataframe tbody tr th {\n",
       "        vertical-align: top;\n",
       "    }\n",
       "\n",
       "    .dataframe thead th {\n",
       "        text-align: right;\n",
       "    }\n",
       "</style>\n",
       "<table border=\"1\" class=\"dataframe\">\n",
       "  <thead>\n",
       "    <tr style=\"text-align: right;\">\n",
       "      <th></th>\n",
       "      <th>Date</th>\n",
       "      <th>Branch</th>\n",
       "      <th>Sales Agent</th>\n",
       "      <th>Products</th>\n",
       "      <th>Units</th>\n",
       "      <th>Price</th>\n",
       "    </tr>\n",
       "  </thead>\n",
       "  <tbody>\n",
       "    <tr>\n",
       "      <th>0</th>\n",
       "      <td>2014-09-01</td>\n",
       "      <td>Woji</td>\n",
       "      <td>Chinedu</td>\n",
       "      <td>Apple</td>\n",
       "      <td>2</td>\n",
       "      <td>125.00</td>\n",
       "    </tr>\n",
       "    <tr>\n",
       "      <th>1</th>\n",
       "      <td>2015-06-17</td>\n",
       "      <td>Woji</td>\n",
       "      <td>Emeka</td>\n",
       "      <td>Apple</td>\n",
       "      <td>5</td>\n",
       "      <td>125.00</td>\n",
       "    </tr>\n",
       "    <tr>\n",
       "      <th>2</th>\n",
       "      <td>2015-09-10</td>\n",
       "      <td>Woji</td>\n",
       "      <td>Ibrahim</td>\n",
       "      <td>Lenovo</td>\n",
       "      <td>7</td>\n",
       "      <td>1.29</td>\n",
       "    </tr>\n",
       "    <tr>\n",
       "      <th>3</th>\n",
       "      <td>2015-11-17</td>\n",
       "      <td>Woji</td>\n",
       "      <td>Tolu</td>\n",
       "      <td>HP</td>\n",
       "      <td>11</td>\n",
       "      <td>4.99</td>\n",
       "    </tr>\n",
       "    <tr>\n",
       "      <th>4</th>\n",
       "      <td>2015-10-31</td>\n",
       "      <td>Woji</td>\n",
       "      <td>Tonye</td>\n",
       "      <td>Lenovo</td>\n",
       "      <td>14</td>\n",
       "      <td>1.29</td>\n",
       "    </tr>\n",
       "  </tbody>\n",
       "</table>\n",
       "</div>"
      ],
      "text/plain": [
       "        Date Branch Sales Agent Products  Units   Price\n",
       "0 2014-09-01   Woji     Chinedu    Apple      2  125.00\n",
       "1 2015-06-17   Woji       Emeka    Apple      5  125.00\n",
       "2 2015-09-10   Woji     Ibrahim   Lenovo      7    1.29\n",
       "3 2015-11-17   Woji        Tolu       HP     11    4.99\n",
       "4 2015-10-31   Woji       Tonye   Lenovo     14    1.29"
      ]
     },
     "execution_count": 7,
     "metadata": {},
     "output_type": "execute_result"
    }
   ],
   "source": [
    "#  Snapshot of the dataset\n",
    "sales_data.head()"
   ]
  },
  {
   "cell_type": "code",
   "execution_count": 43,
   "id": "6bc31985",
   "metadata": {},
   "outputs": [
    {
     "data": {
      "text/html": [
       "<div>\n",
       "<style scoped>\n",
       "    .dataframe tbody tr th:only-of-type {\n",
       "        vertical-align: middle;\n",
       "    }\n",
       "\n",
       "    .dataframe tbody tr th {\n",
       "        vertical-align: top;\n",
       "    }\n",
       "\n",
       "    .dataframe thead th {\n",
       "        text-align: right;\n",
       "    }\n",
       "</style>\n",
       "<table border=\"1\" class=\"dataframe\">\n",
       "  <thead>\n",
       "    <tr style=\"text-align: right;\">\n",
       "      <th></th>\n",
       "      <th>Date</th>\n",
       "      <th>Branch</th>\n",
       "      <th>Sales Agent</th>\n",
       "      <th>Products</th>\n",
       "      <th>Units</th>\n",
       "      <th>Price</th>\n",
       "      <th>Revenue(N)</th>\n",
       "    </tr>\n",
       "  </thead>\n",
       "  <tbody>\n",
       "    <tr>\n",
       "      <th>0</th>\n",
       "      <td>2014-09-01</td>\n",
       "      <td>Woji</td>\n",
       "      <td>Chinedu</td>\n",
       "      <td>Apple</td>\n",
       "      <td>2</td>\n",
       "      <td>125.00</td>\n",
       "      <td>250000.0</td>\n",
       "    </tr>\n",
       "    <tr>\n",
       "      <th>1</th>\n",
       "      <td>2015-06-17</td>\n",
       "      <td>Woji</td>\n",
       "      <td>Emeka</td>\n",
       "      <td>Apple</td>\n",
       "      <td>5</td>\n",
       "      <td>125.00</td>\n",
       "      <td>625000.0</td>\n",
       "    </tr>\n",
       "    <tr>\n",
       "      <th>2</th>\n",
       "      <td>2015-09-10</td>\n",
       "      <td>Woji</td>\n",
       "      <td>Ibrahim</td>\n",
       "      <td>Lenovo</td>\n",
       "      <td>7</td>\n",
       "      <td>1.29</td>\n",
       "      <td>9030.0</td>\n",
       "    </tr>\n",
       "    <tr>\n",
       "      <th>3</th>\n",
       "      <td>2015-11-17</td>\n",
       "      <td>Woji</td>\n",
       "      <td>Tolu</td>\n",
       "      <td>HP</td>\n",
       "      <td>11</td>\n",
       "      <td>4.99</td>\n",
       "      <td>54890.0</td>\n",
       "    </tr>\n",
       "    <tr>\n",
       "      <th>4</th>\n",
       "      <td>2015-10-31</td>\n",
       "      <td>Woji</td>\n",
       "      <td>Tonye</td>\n",
       "      <td>Lenovo</td>\n",
       "      <td>14</td>\n",
       "      <td>1.29</td>\n",
       "      <td>18060.0</td>\n",
       "    </tr>\n",
       "  </tbody>\n",
       "</table>\n",
       "</div>"
      ],
      "text/plain": [
       "        Date Branch Sales Agent Products  Units   Price  Revenue(N)\n",
       "0 2014-09-01   Woji     Chinedu    Apple      2  125.00    250000.0\n",
       "1 2015-06-17   Woji       Emeka    Apple      5  125.00    625000.0\n",
       "2 2015-09-10   Woji     Ibrahim   Lenovo      7    1.29      9030.0\n",
       "3 2015-11-17   Woji        Tolu       HP     11    4.99     54890.0\n",
       "4 2015-10-31   Woji       Tonye   Lenovo     14    1.29     18060.0"
      ]
     },
     "execution_count": 43,
     "metadata": {},
     "output_type": "execute_result"
    }
   ],
   "source": [
    "#  Little of Feature Engineering\n",
    "\n",
    "# Trying to make a copy of the dataset and work on it\n",
    "sales_data2 = sales_data.copy()\n",
    "\n",
    "# sales_data2[\"Revenue\"] = sales_data2[\"Units\"] * sales_data2[\"Price\"]\n",
    "\n",
    "#  round(parameter, 2)\n",
    "sales_data2[\"Revenue(N)\"] = round(sales_data2[\"Units\"]*sales_data2[\"Price\"] * 1000, 2)\n",
    "\n",
    "# This is to view if the changes has been effected\n",
    "sales_data2.head()"
   ]
  },
  {
   "cell_type": "code",
   "execution_count": 44,
   "id": "887270f9",
   "metadata": {},
   "outputs": [
    {
     "data": {
      "text/plain": [
       "Date           datetime64[ns]\n",
       "Branch                 object\n",
       "Sales Agent            object\n",
       "Products               object\n",
       "Units                   int64\n",
       "Price                 float64\n",
       "Revenue(N)            float64\n",
       "dtype: object"
      ]
     },
     "execution_count": 44,
     "metadata": {},
     "output_type": "execute_result"
    }
   ],
   "source": [
    "# Let's check data types\n",
    "sales_data2.dtypes"
   ]
  },
  {
   "cell_type": "code",
   "execution_count": null,
   "id": "f007349c",
   "metadata": {},
   "outputs": [],
   "source": [
    "#  Converting the date column to date time\n",
    "# By using \"pd.to_datetime()\" function\n",
    "\n",
    "# Note: we only do this when trying to convert it to datetime if not there earlier\n",
    "sales_data2[\"Date\"] = pd.to_datetime(sales_data2[\"Date\"])"
   ]
  },
  {
   "cell_type": "code",
   "execution_count": 45,
   "id": "c9777f50",
   "metadata": {},
   "outputs": [
    {
     "data": {
      "text/plain": [
       "Date           datetime64[ns]\n",
       "Branch                 object\n",
       "Sales Agent            object\n",
       "Products               object\n",
       "Units                   int64\n",
       "Price                 float64\n",
       "Revenue(N)            float64\n",
       "dtype: object"
      ]
     },
     "execution_count": 45,
     "metadata": {},
     "output_type": "execute_result"
    }
   ],
   "source": [
    "sales_data2.dtypes"
   ]
  },
  {
   "cell_type": "code",
   "execution_count": 46,
   "id": "7580d439",
   "metadata": {},
   "outputs": [
    {
     "data": {
      "text/plain": [
       "<Axes: xlabel='Data Types', ylabel='Count'>"
      ]
     },
     "execution_count": 46,
     "metadata": {},
     "output_type": "execute_result"
    },
    {
     "data": {
      "image/png": "[encoded data removed]",
      "text/plain": [
       "<Figure size 640x480 with 1 Axes>"
      ]
     },
     "metadata": {},
     "output_type": "display_data"
    }
   ],
   "source": [
    "# Trying to plot the datatype.\n",
    "sales_data2.dtypes.value_counts().plot(kind='bar', xlabel = \"Data Types\", ylabel = \"Count\")"
   ]
  },
  {
   "cell_type": "code",
   "execution_count": 47,
   "id": "65a6a93f",
   "metadata": {},
   "outputs": [],
   "source": [
    "# lets  work on our datetime to extract the month,year and week name\n",
    "# using \".dt.year\",\".dt.month_name()\",\".day_name()\n",
    "\n",
    "sales_data2[\"Year\"] = sales_data2[\"Date\"].dt.year\n",
    "sales_data2[\"Month\"] = sales_data2[\"Date\"].dt.month_name()\n",
    "sales_data2[\"Week\"] = sales_data2[\"Date\"].dt.day_name()"
   ]
  },
  {
   "cell_type": "code",
   "execution_count": 48,
   "id": "2da5e5ad",
   "metadata": {},
   "outputs": [
    {
     "data": {
      "text/html": [
       "<div>\n",
       "<style scoped>\n",
       "    .dataframe tbody tr th:only-of-type {\n",
       "        vertical-align: middle;\n",
       "    }\n",
       "\n",
       "    .dataframe tbody tr th {\n",
       "        vertical-align: top;\n",
       "    }\n",
       "\n",
       "    .dataframe thead th {\n",
       "        text-align: right;\n",
       "    }\n",
       "</style>\n",
       "<table border=\"1\" class=\"dataframe\">\n",
       "  <thead>\n",
       "    <tr style=\"text-align: right;\">\n",
       "      <th></th>\n",
       "      <th>Date</th>\n",
       "      <th>Branch</th>\n",
       "      <th>Sales Agent</th>\n",
       "      <th>Products</th>\n",
       "      <th>Units</th>\n",
       "      <th>Price</th>\n",
       "      <th>Revenue(N)</th>\n",
       "      <th>Year</th>\n",
       "      <th>Month</th>\n",
       "      <th>Week</th>\n",
       "    </tr>\n",
       "  </thead>\n",
       "  <tbody>\n",
       "    <tr>\n",
       "      <th>0</th>\n",
       "      <td>2014-09-01</td>\n",
       "      <td>Woji</td>\n",
       "      <td>Chinedu</td>\n",
       "      <td>Apple</td>\n",
       "      <td>2</td>\n",
       "      <td>125.00</td>\n",
       "      <td>250000.0</td>\n",
       "      <td>2014</td>\n",
       "      <td>September</td>\n",
       "      <td>Monday</td>\n",
       "    </tr>\n",
       "    <tr>\n",
       "      <th>1</th>\n",
       "      <td>2015-06-17</td>\n",
       "      <td>Woji</td>\n",
       "      <td>Emeka</td>\n",
       "      <td>Apple</td>\n",
       "      <td>5</td>\n",
       "      <td>125.00</td>\n",
       "      <td>625000.0</td>\n",
       "      <td>2015</td>\n",
       "      <td>June</td>\n",
       "      <td>Wednesday</td>\n",
       "    </tr>\n",
       "    <tr>\n",
       "      <th>2</th>\n",
       "      <td>2015-09-10</td>\n",
       "      <td>Woji</td>\n",
       "      <td>Ibrahim</td>\n",
       "      <td>Lenovo</td>\n",
       "      <td>7</td>\n",
       "      <td>1.29</td>\n",
       "      <td>9030.0</td>\n",
       "      <td>2015</td>\n",
       "      <td>September</td>\n",
       "      <td>Thursday</td>\n",
       "    </tr>\n",
       "    <tr>\n",
       "      <th>3</th>\n",
       "      <td>2015-11-17</td>\n",
       "      <td>Woji</td>\n",
       "      <td>Tolu</td>\n",
       "      <td>HP</td>\n",
       "      <td>11</td>\n",
       "      <td>4.99</td>\n",
       "      <td>54890.0</td>\n",
       "      <td>2015</td>\n",
       "      <td>November</td>\n",
       "      <td>Tuesday</td>\n",
       "    </tr>\n",
       "    <tr>\n",
       "      <th>4</th>\n",
       "      <td>2015-10-31</td>\n",
       "      <td>Woji</td>\n",
       "      <td>Tonye</td>\n",
       "      <td>Lenovo</td>\n",
       "      <td>14</td>\n",
       "      <td>1.29</td>\n",
       "      <td>18060.0</td>\n",
       "      <td>2015</td>\n",
       "      <td>October</td>\n",
       "      <td>Saturday</td>\n",
       "    </tr>\n",
       "  </tbody>\n",
       "</table>\n",
       "</div>"
      ],
      "text/plain": [
       "        Date Branch Sales Agent Products  Units   Price  Revenue(N)  Year  \\\n",
       "0 2014-09-01   Woji     Chinedu    Apple      2  125.00    250000.0  2014   \n",
       "1 2015-06-17   Woji       Emeka    Apple      5  125.00    625000.0  2015   \n",
       "2 2015-09-10   Woji     Ibrahim   Lenovo      7    1.29      9030.0  2015   \n",
       "3 2015-11-17   Woji        Tolu       HP     11    4.99     54890.0  2015   \n",
       "4 2015-10-31   Woji       Tonye   Lenovo     14    1.29     18060.0  2015   \n",
       "\n",
       "       Month       Week  \n",
       "0  September     Monday  \n",
       "1       June  Wednesday  \n",
       "2  September   Thursday  \n",
       "3   November    Tuesday  \n",
       "4    October   Saturday  "
      ]
     },
     "execution_count": 48,
     "metadata": {},
     "output_type": "execute_result"
    }
   ],
   "source": [
    "sales_data2.head()"
   ]
  },
  {
   "cell_type": "markdown",
   "id": "3d66d52b",
   "metadata": {},
   "source": [
    "### **Working on the KPI's (Key Performance index of the data)**\n",
    "1. Total units sold\n",
    "2. Total Revenue\n",
    "3. Average Revenue per unit\n",
    "4. Numbers of products\n",
    "5. Numbers of Sales Agents"
   ]
  },
  {
   "cell_type": "code",
   "execution_count": 49,
   "id": "da7b34a8",
   "metadata": {},
   "outputs": [
    {
     "name": "stdout",
     "output_type": "stream",
     "text": [
      "Total goods sold: 2121 units\n"
     ]
    }
   ],
   "source": [
    "# Total Units sold\n",
    "\n",
    "Total_goods_sold = sales_data2[\"Units\"].sum()\n",
    "print(f\"Total goods sold: {Total_goods_sold} units\")"
   ]
  },
  {
   "cell_type": "code",
   "execution_count": 50,
   "id": "71fce100",
   "metadata": {},
   "outputs": [
    {
     "name": "stdout",
     "output_type": "stream",
     "text": [
      "Total Revenue: N19627880.0\n"
     ]
    }
   ],
   "source": [
    "# Total Revenue\n",
    "Total_Revenue = sales_data2[\"Revenue(N)\"].sum()\n",
    "print(f\"Total Revenue: N{Total_Revenue}\")"
   ]
  },
  {
   "cell_type": "code",
   "execution_count": 51,
   "id": "6d6a04f1",
   "metadata": {},
   "outputs": [
    {
     "name": "stdout",
     "output_type": "stream",
     "text": [
      "Average Revenue per unit: N9254.07\n"
     ]
    }
   ],
   "source": [
    "#  Average Revenue per unit\n",
    "# using \"round() function to approximate to 2 decimal place\"\n",
    "Average_revenue_per_unit = round(Total_Revenue / Total_goods_sold,2)\n",
    "print(f\"Average Revenue per unit: N{Average_revenue_per_unit}\")"
   ]
  },
  {
   "cell_type": "code",
   "execution_count": 53,
   "id": "b62d0111",
   "metadata": {},
   "outputs": [
    {
     "name": "stdout",
     "output_type": "stream",
     "text": [
      "Numbers of products: 5\n"
     ]
    }
   ],
   "source": [
    "#4. Numbers of products\n",
    "## using the .nunique() shows the numbers of unique values\n",
    "Numbers_of_products = sales_data2[\"Products\"].nunique()\n",
    "print(f\"Numbers of products: {Numbers_of_products}\")"
   ]
  },
  {
   "cell_type": "code",
   "execution_count": 56,
   "id": "315ba92c",
   "metadata": {},
   "outputs": [
    {
     "name": "stdout",
     "output_type": "stream",
     "text": [
      "Numbers of Sales Agents: 11\n"
     ]
    }
   ],
   "source": [
    "# Numbers of Sales Agents\n",
    "Numbers_of_sales_agents = sales_data2[\"Sales Agent\"].nunique()\n",
    "print(f\"Numbers of Sales Agents: {Numbers_of_sales_agents}\")"
   ]
  }
 ],
 "metadata": {
  "kernelspec": {
   "display_name": "a_env",
   "language": "python",
   "name": "python3"
  },
  "language_info": {
   "codemirror_mode": {
    "name": "ipython",
    "version": 3
   },
   "file_extension": ".py",
   "mimetype": "text/x-python",
   "name": "python",
   "nbconvert_exporter": "python",
   "pygments_lexer": "ipython3",
   "version": "3.12.7"
  }
 },
 "nbformat": 4,
 "nbformat_minor": 5
}
